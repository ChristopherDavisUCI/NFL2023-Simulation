{
 "cells": [
  {
   "cell_type": "markdown",
   "metadata": {
    "cell_id": "00000-1d585e5d-bf06-4652-a49e-a1ade00460fc",
    "deepnote_cell_type": "markdown",
    "tags": []
   },
   "source": [
    "Make standardized schedule formats."
   ]
  },
  {
   "cell_type": "code",
   "execution_count": 56,
   "metadata": {},
   "outputs": [],
   "source": [
    "import pandas as pd"
   ]
  },
  {
   "cell_type": "code",
   "execution_count": 85,
   "metadata": {},
   "outputs": [
    {
     "ename": "SyntaxError",
     "evalue": "unmatched ']' (3599110919.py, line 5)",
     "output_type": "error",
     "traceback": [
      "\u001b[0;36m  File \u001b[0;32m\"/var/folders/82/6ggg75fj1pnf2t_6w9r3x38m0000gn/T/ipykernel_21182/3599110919.py\"\u001b[0;36m, line \u001b[0;32m5\u001b[0m\n\u001b[0;31m    df]\u001b[0m\n\u001b[0m      ^\u001b[0m\n\u001b[0;31mSyntaxError\u001b[0m\u001b[0;31m:\u001b[0m unmatched ']'\n"
     ]
    }
   ],
   "source": [
    "df = pd.read_csv(\"schedule21.csv\")\n",
    "df.loc[df[\"schedule_date\"].str.match(\"1/.*\"),\"schedule_date\"] = df.loc[df[\"schedule_date\"].str.match(\"1/.*\"),\"schedule_date\"].map(lambda s: s[:-1]+\"2\")\n",
    "df.rename({\"pr_spread\":\"pr_score_home\",\"pr_total\":\"pr_score_away\"},axis=1,inplace=True)\n",
    "df.drop(\"pr_hfa\",axis=1,inplace=True)\n",
    "df]\n",
    "df.to_csv(\"schedule21.csv\",index=False)"
   ]
  },
  {
   "cell_type": "code",
   "execution_count": 84,
   "metadata": {},
   "outputs": [
    {
     "data": {
      "text/html": [
       "<div>\n",
       "<style scoped>\n",
       "    .dataframe tbody tr th:only-of-type {\n",
       "        vertical-align: middle;\n",
       "    }\n",
       "\n",
       "    .dataframe tbody tr th {\n",
       "        vertical-align: top;\n",
       "    }\n",
       "\n",
       "    .dataframe thead th {\n",
       "        text-align: right;\n",
       "    }\n",
       "</style>\n",
       "<table border=\"1\" class=\"dataframe\">\n",
       "  <thead>\n",
       "    <tr style=\"text-align: right;\">\n",
       "      <th></th>\n",
       "      <th>schedule_date</th>\n",
       "      <th>schedule_season</th>\n",
       "      <th>schedule_week</th>\n",
       "      <th>team_home</th>\n",
       "      <th>score_home</th>\n",
       "      <th>score_away</th>\n",
       "      <th>team_away</th>\n",
       "      <th>pr_score_home</th>\n",
       "      <th>pr_score_away</th>\n",
       "      <th>in_div</th>\n",
       "      <th>in_conf</th>\n",
       "    </tr>\n",
       "  </thead>\n",
       "  <tbody>\n",
       "    <tr>\n",
       "      <th>0</th>\n",
       "      <td>9/9/2021</td>\n",
       "      <td>2021</td>\n",
       "      <td>1</td>\n",
       "      <td>TB</td>\n",
       "      <td>NaN</td>\n",
       "      <td>NaN</td>\n",
       "      <td>DAL</td>\n",
       "      <td>NaN</td>\n",
       "      <td>NaN</td>\n",
       "      <td>False</td>\n",
       "      <td>True</td>\n",
       "    </tr>\n",
       "    <tr>\n",
       "      <th>1</th>\n",
       "      <td>9/12/2021</td>\n",
       "      <td>2021</td>\n",
       "      <td>1</td>\n",
       "      <td>ATL</td>\n",
       "      <td>NaN</td>\n",
       "      <td>NaN</td>\n",
       "      <td>PHI</td>\n",
       "      <td>NaN</td>\n",
       "      <td>NaN</td>\n",
       "      <td>False</td>\n",
       "      <td>True</td>\n",
       "    </tr>\n",
       "    <tr>\n",
       "      <th>2</th>\n",
       "      <td>9/12/2021</td>\n",
       "      <td>2021</td>\n",
       "      <td>1</td>\n",
       "      <td>BUF</td>\n",
       "      <td>NaN</td>\n",
       "      <td>NaN</td>\n",
       "      <td>PIT</td>\n",
       "      <td>NaN</td>\n",
       "      <td>NaN</td>\n",
       "      <td>False</td>\n",
       "      <td>True</td>\n",
       "    </tr>\n",
       "    <tr>\n",
       "      <th>3</th>\n",
       "      <td>9/12/2021</td>\n",
       "      <td>2021</td>\n",
       "      <td>1</td>\n",
       "      <td>CAR</td>\n",
       "      <td>NaN</td>\n",
       "      <td>NaN</td>\n",
       "      <td>NYJ</td>\n",
       "      <td>NaN</td>\n",
       "      <td>NaN</td>\n",
       "      <td>False</td>\n",
       "      <td>False</td>\n",
       "    </tr>\n",
       "    <tr>\n",
       "      <th>4</th>\n",
       "      <td>9/12/2021</td>\n",
       "      <td>2021</td>\n",
       "      <td>1</td>\n",
       "      <td>CIN</td>\n",
       "      <td>NaN</td>\n",
       "      <td>NaN</td>\n",
       "      <td>MIN</td>\n",
       "      <td>NaN</td>\n",
       "      <td>NaN</td>\n",
       "      <td>False</td>\n",
       "      <td>False</td>\n",
       "    </tr>\n",
       "    <tr>\n",
       "      <th>...</th>\n",
       "      <td>...</td>\n",
       "      <td>...</td>\n",
       "      <td>...</td>\n",
       "      <td>...</td>\n",
       "      <td>...</td>\n",
       "      <td>...</td>\n",
       "      <td>...</td>\n",
       "      <td>...</td>\n",
       "      <td>...</td>\n",
       "      <td>...</td>\n",
       "      <td>...</td>\n",
       "    </tr>\n",
       "    <tr>\n",
       "      <th>267</th>\n",
       "      <td>1/9/2022</td>\n",
       "      <td>2021</td>\n",
       "      <td>18</td>\n",
       "      <td>TB</td>\n",
       "      <td>NaN</td>\n",
       "      <td>NaN</td>\n",
       "      <td>CAR</td>\n",
       "      <td>NaN</td>\n",
       "      <td>NaN</td>\n",
       "      <td>True</td>\n",
       "      <td>True</td>\n",
       "    </tr>\n",
       "    <tr>\n",
       "      <th>268</th>\n",
       "      <td>1/9/2022</td>\n",
       "      <td>2021</td>\n",
       "      <td>18</td>\n",
       "      <td>ARI</td>\n",
       "      <td>NaN</td>\n",
       "      <td>NaN</td>\n",
       "      <td>SEA</td>\n",
       "      <td>NaN</td>\n",
       "      <td>NaN</td>\n",
       "      <td>True</td>\n",
       "      <td>True</td>\n",
       "    </tr>\n",
       "    <tr>\n",
       "      <th>269</th>\n",
       "      <td>1/9/2022</td>\n",
       "      <td>2021</td>\n",
       "      <td>18</td>\n",
       "      <td>DEN</td>\n",
       "      <td>NaN</td>\n",
       "      <td>NaN</td>\n",
       "      <td>KC</td>\n",
       "      <td>NaN</td>\n",
       "      <td>NaN</td>\n",
       "      <td>True</td>\n",
       "      <td>True</td>\n",
       "    </tr>\n",
       "    <tr>\n",
       "      <th>270</th>\n",
       "      <td>1/9/2022</td>\n",
       "      <td>2021</td>\n",
       "      <td>18</td>\n",
       "      <td>LVR</td>\n",
       "      <td>NaN</td>\n",
       "      <td>NaN</td>\n",
       "      <td>LAC</td>\n",
       "      <td>NaN</td>\n",
       "      <td>NaN</td>\n",
       "      <td>True</td>\n",
       "      <td>True</td>\n",
       "    </tr>\n",
       "    <tr>\n",
       "      <th>271</th>\n",
       "      <td>1/9/2022</td>\n",
       "      <td>2021</td>\n",
       "      <td>18</td>\n",
       "      <td>LAR</td>\n",
       "      <td>NaN</td>\n",
       "      <td>NaN</td>\n",
       "      <td>SF</td>\n",
       "      <td>NaN</td>\n",
       "      <td>NaN</td>\n",
       "      <td>True</td>\n",
       "      <td>True</td>\n",
       "    </tr>\n",
       "  </tbody>\n",
       "</table>\n",
       "<p>272 rows × 11 columns</p>\n",
       "</div>"
      ],
      "text/plain": [
       "    schedule_date  schedule_season  schedule_week team_home  score_home  \\\n",
       "0        9/9/2021             2021              1        TB         NaN   \n",
       "1       9/12/2021             2021              1       ATL         NaN   \n",
       "2       9/12/2021             2021              1       BUF         NaN   \n",
       "3       9/12/2021             2021              1       CAR         NaN   \n",
       "4       9/12/2021             2021              1       CIN         NaN   \n",
       "..            ...              ...            ...       ...         ...   \n",
       "267      1/9/2022             2021             18        TB         NaN   \n",
       "268      1/9/2022             2021             18       ARI         NaN   \n",
       "269      1/9/2022             2021             18       DEN         NaN   \n",
       "270      1/9/2022             2021             18       LVR         NaN   \n",
       "271      1/9/2022             2021             18       LAR         NaN   \n",
       "\n",
       "     score_away team_away  pr_score_home  pr_score_away  in_div  in_conf  \n",
       "0           NaN       DAL            NaN            NaN   False     True  \n",
       "1           NaN       PHI            NaN            NaN   False     True  \n",
       "2           NaN       PIT            NaN            NaN   False     True  \n",
       "3           NaN       NYJ            NaN            NaN   False    False  \n",
       "4           NaN       MIN            NaN            NaN   False    False  \n",
       "..          ...       ...            ...            ...     ...      ...  \n",
       "267         NaN       CAR            NaN            NaN    True     True  \n",
       "268         NaN       SEA            NaN            NaN    True     True  \n",
       "269         NaN        KC            NaN            NaN    True     True  \n",
       "270         NaN       LAC            NaN            NaN    True     True  \n",
       "271         NaN        SF            NaN            NaN    True     True  \n",
       "\n",
       "[272 rows x 11 columns]"
      ]
     },
     "execution_count": 84,
     "metadata": {},
     "output_type": "execute_result"
    }
   ],
   "source": [
    "df"
   ]
  },
  {
   "cell_type": "code",
   "execution_count": 68,
   "metadata": {},
   "outputs": [
    {
     "data": {
      "text/plain": [
       "0           NaN\n",
       "1           NaN\n",
       "2           NaN\n",
       "3           NaN\n",
       "4           NaN\n",
       "         ...   \n",
       "267    1/9/2021\n",
       "268    1/9/2021\n",
       "269    1/9/2021\n",
       "270    1/9/2021\n",
       "271    1/9/2021\n",
       "Name: schedule_date, Length: 272, dtype: object"
      ]
     },
     "execution_count": 68,
     "metadata": {},
     "output_type": "execute_result"
    }
   ],
   "source": [
    "df[\"schedule_date\"].where(df[\"schedule_date\"].map(lambda s: s[:2] == \"1/\"))"
   ]
  },
  {
   "cell_type": "code",
   "execution_count": 76,
   "metadata": {},
   "outputs": [],
   "source": [
    "df.loc[df[\"schedule_date\"].str.match(\"1/.*\"),\"schedule_date\"] = df.loc[df[\"schedule_date\"].str.match(\"1/.*\"),\"schedule_date\"].map(lambda s: s[:-1]+\"2\")"
   ]
  },
  {
   "cell_type": "code",
   "execution_count": 77,
   "metadata": {},
   "outputs": [
    {
     "data": {
      "text/html": [
       "<div>\n",
       "<style scoped>\n",
       "    .dataframe tbody tr th:only-of-type {\n",
       "        vertical-align: middle;\n",
       "    }\n",
       "\n",
       "    .dataframe tbody tr th {\n",
       "        vertical-align: top;\n",
       "    }\n",
       "\n",
       "    .dataframe thead th {\n",
       "        text-align: right;\n",
       "    }\n",
       "</style>\n",
       "<table border=\"1\" class=\"dataframe\">\n",
       "  <thead>\n",
       "    <tr style=\"text-align: right;\">\n",
       "      <th></th>\n",
       "      <th>schedule_date</th>\n",
       "      <th>schedule_season</th>\n",
       "      <th>schedule_week</th>\n",
       "      <th>team_home</th>\n",
       "      <th>score_home</th>\n",
       "      <th>score_away</th>\n",
       "      <th>team_away</th>\n",
       "      <th>pr_spread</th>\n",
       "      <th>pr_total</th>\n",
       "      <th>pr_hfa</th>\n",
       "      <th>in_div</th>\n",
       "      <th>in_conf</th>\n",
       "    </tr>\n",
       "  </thead>\n",
       "  <tbody>\n",
       "    <tr>\n",
       "      <th>0</th>\n",
       "      <td>9/9/2021</td>\n",
       "      <td>2021</td>\n",
       "      <td>1</td>\n",
       "      <td>TB</td>\n",
       "      <td>NaN</td>\n",
       "      <td>NaN</td>\n",
       "      <td>DAL</td>\n",
       "      <td>NaN</td>\n",
       "      <td>NaN</td>\n",
       "      <td>NaN</td>\n",
       "      <td>False</td>\n",
       "      <td>True</td>\n",
       "    </tr>\n",
       "    <tr>\n",
       "      <th>1</th>\n",
       "      <td>9/12/2021</td>\n",
       "      <td>2021</td>\n",
       "      <td>1</td>\n",
       "      <td>ATL</td>\n",
       "      <td>NaN</td>\n",
       "      <td>NaN</td>\n",
       "      <td>PHI</td>\n",
       "      <td>NaN</td>\n",
       "      <td>NaN</td>\n",
       "      <td>NaN</td>\n",
       "      <td>False</td>\n",
       "      <td>True</td>\n",
       "    </tr>\n",
       "    <tr>\n",
       "      <th>2</th>\n",
       "      <td>9/12/2021</td>\n",
       "      <td>2021</td>\n",
       "      <td>1</td>\n",
       "      <td>BUF</td>\n",
       "      <td>NaN</td>\n",
       "      <td>NaN</td>\n",
       "      <td>PIT</td>\n",
       "      <td>NaN</td>\n",
       "      <td>NaN</td>\n",
       "      <td>NaN</td>\n",
       "      <td>False</td>\n",
       "      <td>True</td>\n",
       "    </tr>\n",
       "    <tr>\n",
       "      <th>3</th>\n",
       "      <td>9/12/2021</td>\n",
       "      <td>2021</td>\n",
       "      <td>1</td>\n",
       "      <td>CAR</td>\n",
       "      <td>NaN</td>\n",
       "      <td>NaN</td>\n",
       "      <td>NYJ</td>\n",
       "      <td>NaN</td>\n",
       "      <td>NaN</td>\n",
       "      <td>NaN</td>\n",
       "      <td>False</td>\n",
       "      <td>False</td>\n",
       "    </tr>\n",
       "    <tr>\n",
       "      <th>4</th>\n",
       "      <td>9/12/2021</td>\n",
       "      <td>2021</td>\n",
       "      <td>1</td>\n",
       "      <td>CIN</td>\n",
       "      <td>NaN</td>\n",
       "      <td>NaN</td>\n",
       "      <td>MIN</td>\n",
       "      <td>NaN</td>\n",
       "      <td>NaN</td>\n",
       "      <td>NaN</td>\n",
       "      <td>False</td>\n",
       "      <td>False</td>\n",
       "    </tr>\n",
       "    <tr>\n",
       "      <th>...</th>\n",
       "      <td>...</td>\n",
       "      <td>...</td>\n",
       "      <td>...</td>\n",
       "      <td>...</td>\n",
       "      <td>...</td>\n",
       "      <td>...</td>\n",
       "      <td>...</td>\n",
       "      <td>...</td>\n",
       "      <td>...</td>\n",
       "      <td>...</td>\n",
       "      <td>...</td>\n",
       "      <td>...</td>\n",
       "    </tr>\n",
       "    <tr>\n",
       "      <th>267</th>\n",
       "      <td>1/9/2022</td>\n",
       "      <td>2021</td>\n",
       "      <td>18</td>\n",
       "      <td>TB</td>\n",
       "      <td>NaN</td>\n",
       "      <td>NaN</td>\n",
       "      <td>CAR</td>\n",
       "      <td>NaN</td>\n",
       "      <td>NaN</td>\n",
       "      <td>NaN</td>\n",
       "      <td>True</td>\n",
       "      <td>True</td>\n",
       "    </tr>\n",
       "    <tr>\n",
       "      <th>268</th>\n",
       "      <td>1/9/2022</td>\n",
       "      <td>2021</td>\n",
       "      <td>18</td>\n",
       "      <td>ARI</td>\n",
       "      <td>NaN</td>\n",
       "      <td>NaN</td>\n",
       "      <td>SEA</td>\n",
       "      <td>NaN</td>\n",
       "      <td>NaN</td>\n",
       "      <td>NaN</td>\n",
       "      <td>True</td>\n",
       "      <td>True</td>\n",
       "    </tr>\n",
       "    <tr>\n",
       "      <th>269</th>\n",
       "      <td>1/9/2022</td>\n",
       "      <td>2021</td>\n",
       "      <td>18</td>\n",
       "      <td>DEN</td>\n",
       "      <td>NaN</td>\n",
       "      <td>NaN</td>\n",
       "      <td>KC</td>\n",
       "      <td>NaN</td>\n",
       "      <td>NaN</td>\n",
       "      <td>NaN</td>\n",
       "      <td>True</td>\n",
       "      <td>True</td>\n",
       "    </tr>\n",
       "    <tr>\n",
       "      <th>270</th>\n",
       "      <td>1/9/2022</td>\n",
       "      <td>2021</td>\n",
       "      <td>18</td>\n",
       "      <td>LVR</td>\n",
       "      <td>NaN</td>\n",
       "      <td>NaN</td>\n",
       "      <td>LAC</td>\n",
       "      <td>NaN</td>\n",
       "      <td>NaN</td>\n",
       "      <td>NaN</td>\n",
       "      <td>True</td>\n",
       "      <td>True</td>\n",
       "    </tr>\n",
       "    <tr>\n",
       "      <th>271</th>\n",
       "      <td>1/9/2022</td>\n",
       "      <td>2021</td>\n",
       "      <td>18</td>\n",
       "      <td>LAR</td>\n",
       "      <td>NaN</td>\n",
       "      <td>NaN</td>\n",
       "      <td>SF</td>\n",
       "      <td>NaN</td>\n",
       "      <td>NaN</td>\n",
       "      <td>NaN</td>\n",
       "      <td>True</td>\n",
       "      <td>True</td>\n",
       "    </tr>\n",
       "  </tbody>\n",
       "</table>\n",
       "<p>272 rows × 12 columns</p>\n",
       "</div>"
      ],
      "text/plain": [
       "    schedule_date  schedule_season  schedule_week team_home  score_home  \\\n",
       "0        9/9/2021             2021              1        TB         NaN   \n",
       "1       9/12/2021             2021              1       ATL         NaN   \n",
       "2       9/12/2021             2021              1       BUF         NaN   \n",
       "3       9/12/2021             2021              1       CAR         NaN   \n",
       "4       9/12/2021             2021              1       CIN         NaN   \n",
       "..            ...              ...            ...       ...         ...   \n",
       "267      1/9/2022             2021             18        TB         NaN   \n",
       "268      1/9/2022             2021             18       ARI         NaN   \n",
       "269      1/9/2022             2021             18       DEN         NaN   \n",
       "270      1/9/2022             2021             18       LVR         NaN   \n",
       "271      1/9/2022             2021             18       LAR         NaN   \n",
       "\n",
       "     score_away team_away  pr_spread  pr_total  pr_hfa  in_div  in_conf  \n",
       "0           NaN       DAL        NaN       NaN     NaN   False     True  \n",
       "1           NaN       PHI        NaN       NaN     NaN   False     True  \n",
       "2           NaN       PIT        NaN       NaN     NaN   False     True  \n",
       "3           NaN       NYJ        NaN       NaN     NaN   False    False  \n",
       "4           NaN       MIN        NaN       NaN     NaN   False    False  \n",
       "..          ...       ...        ...       ...     ...     ...      ...  \n",
       "267         NaN       CAR        NaN       NaN     NaN    True     True  \n",
       "268         NaN       SEA        NaN       NaN     NaN    True     True  \n",
       "269         NaN        KC        NaN       NaN     NaN    True     True  \n",
       "270         NaN       LAC        NaN       NaN     NaN    True     True  \n",
       "271         NaN        SF        NaN       NaN     NaN    True     True  \n",
       "\n",
       "[272 rows x 12 columns]"
      ]
     },
     "execution_count": 77,
     "metadata": {},
     "output_type": "execute_result"
    }
   ],
   "source": [
    "df"
   ]
  },
  {
   "cell_type": "code",
   "execution_count": 13,
   "metadata": {
    "cell_id": "00000-7e9f3be8-4ec8-4404-b562-a1354d1d36bb",
    "deepnote_cell_type": "code",
    "deepnote_to_be_reexecuted": false,
    "execution_millis": 992,
    "execution_start": 1626253513122,
    "source_hash": "6f491a21",
    "tags": []
   },
   "outputs": [],
   "source": [
    "import pandas as pd\n",
    "import numpy as np"
   ]
  },
  {
   "cell_type": "code",
   "execution_count": 2,
   "metadata": {
    "cell_id": "00001-1258c3c4-c84c-42a3-9727-1501c58dab20",
    "deepnote_cell_type": "code",
    "deepnote_to_be_reexecuted": false,
    "execution_millis": 5,
    "execution_start": 1626253514120,
    "source_hash": "375a8bd8",
    "tags": []
   },
   "outputs": [],
   "source": [
    "def to_id(name):\n",
    "    try:\n",
    "        return df_teams[\"team_id\"][df_teams[\"team_name\"] == name].item()\n",
    "    except:\n",
    "        return name\n",
    "\n",
    "def to_div(id):\n",
    "    return df_teams[\"team_division\"][df_teams[\"team_id\"] == id].dropna().iloc[0]\n",
    "\n",
    "def to_conf(id):\n",
    "    return to_div(id)[:3]"
   ]
  },
  {
   "cell_type": "code",
   "execution_count": 5,
   "metadata": {
    "cell_id": "00001-5e1d6364-9c6b-4a32-bcc6-f6b5c8a544f7",
    "deepnote_cell_type": "code",
    "deepnote_to_be_reexecuted": false,
    "execution_millis": 28,
    "execution_start": 1626253601346,
    "source_hash": "34bba874",
    "tags": []
   },
   "outputs": [],
   "source": [
    "df_all = pd.read_csv(\"spreadspoke_scores.csv\",usecols=[\"schedule_date\",\"schedule_season\",\"schedule_week\",\"schedule_playoff\",\"team_home\",\"score_home\",\"score_away\",\"team_away\",\"team_favorite_id\",\"spread_favorite\",\"over_under_line\",\"stadium_neutral\"])\n",
    "df_teams = pd.read_csv(\"nfl_teams.csv\")"
   ]
  },
  {
   "cell_type": "code",
   "execution_count": 54,
   "metadata": {
    "cell_id": "00001-2a4150f7-6ee7-4d3a-b935-564db1597035",
    "deepnote_cell_type": "code",
    "deepnote_to_be_reexecuted": false,
    "execution_millis": 4,
    "execution_start": 1626253514190,
    "source_hash": "70aad12c",
    "tags": []
   },
   "outputs": [],
   "source": [
    "def make_csv(year):\n",
    "    df = df_all.query(\"schedule_season == @year\").copy()\n",
    "    df.reset_index(inplace=True,drop=True)\n",
    "    if df.loc[0,\"schedule_season\"] == 2021:\n",
    "        df.loc[df[\"schedule_date\"].map(lambda s: s[:2] == \"1/\")\n",
    "               ,\"schedule_date\"] = df.loc[df[\"schedule_date\"].map(lambda s: s[:2] == \"1/\"),\n",
    "                                          \"schedule_date\"].map(lambda s: s[:-1]+\"2\")\n",
    "        return df[[\"schedule_date\",\"schedule_season\",\"schedule_week\",\"schedule_playoff\",\n",
    "    df.loc[:,[\"team_home\",\"team_away\"]] = df[[\"team_home\",\"team_away\"]].applymap(to_id).copy()\n",
    "    df[\"over_under_line\"] = pd.to_numeric(df[\"over_under_line\"])\n",
    "    df.loc[df[\"team_favorite_id\"] == df[\"team_home\"],\"spread_favorite\"] *= -1\n",
    "    df.loc[:,[\"pr_score_home\",\"pr_score_away\",\"in_div\",\"in_conf\"]] = np.nan\n",
    "    df[\"in_div\"] = (df[\"team_home\"].map(to_div) == df[\"team_away\"].map(to_div))\n",
    "    df[\"in_conf\"] = (df[\"team_home\"].map(to_conf) == df[\"team_away\"].map(to_conf))\n",
    "    return df"
   ]
  },
  {
   "cell_type": "code",
   "execution_count": 55,
   "metadata": {},
   "outputs": [
    {
     "data": {
      "text/html": [
       "<div>\n",
       "<style scoped>\n",
       "    .dataframe tbody tr th:only-of-type {\n",
       "        vertical-align: middle;\n",
       "    }\n",
       "\n",
       "    .dataframe tbody tr th {\n",
       "        vertical-align: top;\n",
       "    }\n",
       "\n",
       "    .dataframe thead th {\n",
       "        text-align: right;\n",
       "    }\n",
       "</style>\n",
       "<table border=\"1\" class=\"dataframe\">\n",
       "  <thead>\n",
       "    <tr style=\"text-align: right;\">\n",
       "      <th></th>\n",
       "      <th>schedule_date</th>\n",
       "      <th>schedule_season</th>\n",
       "      <th>schedule_week</th>\n",
       "      <th>schedule_playoff</th>\n",
       "      <th>team_home</th>\n",
       "      <th>score_home</th>\n",
       "      <th>score_away</th>\n",
       "      <th>team_away</th>\n",
       "      <th>team_favorite_id</th>\n",
       "      <th>spread_favorite</th>\n",
       "      <th>over_under_line</th>\n",
       "      <th>stadium_neutral</th>\n",
       "      <th>pr_score_home</th>\n",
       "      <th>pr_score_away</th>\n",
       "      <th>in_div</th>\n",
       "      <th>in_conf</th>\n",
       "    </tr>\n",
       "  </thead>\n",
       "  <tbody>\n",
       "    <tr>\n",
       "      <th>0</th>\n",
       "      <td>9/9/2021</td>\n",
       "      <td>2021</td>\n",
       "      <td>1</td>\n",
       "      <td>False</td>\n",
       "      <td>TB</td>\n",
       "      <td>NaN</td>\n",
       "      <td>NaN</td>\n",
       "      <td>DAL</td>\n",
       "      <td>NaN</td>\n",
       "      <td>NaN</td>\n",
       "      <td>NaN</td>\n",
       "      <td>NaN</td>\n",
       "      <td>NaN</td>\n",
       "      <td>NaN</td>\n",
       "      <td>False</td>\n",
       "      <td>True</td>\n",
       "    </tr>\n",
       "    <tr>\n",
       "      <th>1</th>\n",
       "      <td>9/12/2021</td>\n",
       "      <td>2021</td>\n",
       "      <td>1</td>\n",
       "      <td>False</td>\n",
       "      <td>ATL</td>\n",
       "      <td>NaN</td>\n",
       "      <td>NaN</td>\n",
       "      <td>PHI</td>\n",
       "      <td>NaN</td>\n",
       "      <td>NaN</td>\n",
       "      <td>NaN</td>\n",
       "      <td>NaN</td>\n",
       "      <td>NaN</td>\n",
       "      <td>NaN</td>\n",
       "      <td>False</td>\n",
       "      <td>True</td>\n",
       "    </tr>\n",
       "    <tr>\n",
       "      <th>2</th>\n",
       "      <td>9/12/2021</td>\n",
       "      <td>2021</td>\n",
       "      <td>1</td>\n",
       "      <td>False</td>\n",
       "      <td>BUF</td>\n",
       "      <td>NaN</td>\n",
       "      <td>NaN</td>\n",
       "      <td>PIT</td>\n",
       "      <td>NaN</td>\n",
       "      <td>NaN</td>\n",
       "      <td>NaN</td>\n",
       "      <td>NaN</td>\n",
       "      <td>NaN</td>\n",
       "      <td>NaN</td>\n",
       "      <td>False</td>\n",
       "      <td>True</td>\n",
       "    </tr>\n",
       "    <tr>\n",
       "      <th>3</th>\n",
       "      <td>9/12/2021</td>\n",
       "      <td>2021</td>\n",
       "      <td>1</td>\n",
       "      <td>False</td>\n",
       "      <td>CAR</td>\n",
       "      <td>NaN</td>\n",
       "      <td>NaN</td>\n",
       "      <td>NYJ</td>\n",
       "      <td>NaN</td>\n",
       "      <td>NaN</td>\n",
       "      <td>NaN</td>\n",
       "      <td>NaN</td>\n",
       "      <td>NaN</td>\n",
       "      <td>NaN</td>\n",
       "      <td>False</td>\n",
       "      <td>False</td>\n",
       "    </tr>\n",
       "    <tr>\n",
       "      <th>4</th>\n",
       "      <td>9/12/2021</td>\n",
       "      <td>2021</td>\n",
       "      <td>1</td>\n",
       "      <td>False</td>\n",
       "      <td>CIN</td>\n",
       "      <td>NaN</td>\n",
       "      <td>NaN</td>\n",
       "      <td>MIN</td>\n",
       "      <td>NaN</td>\n",
       "      <td>NaN</td>\n",
       "      <td>NaN</td>\n",
       "      <td>NaN</td>\n",
       "      <td>NaN</td>\n",
       "      <td>NaN</td>\n",
       "      <td>False</td>\n",
       "      <td>False</td>\n",
       "    </tr>\n",
       "    <tr>\n",
       "      <th>...</th>\n",
       "      <td>...</td>\n",
       "      <td>...</td>\n",
       "      <td>...</td>\n",
       "      <td>...</td>\n",
       "      <td>...</td>\n",
       "      <td>...</td>\n",
       "      <td>...</td>\n",
       "      <td>...</td>\n",
       "      <td>...</td>\n",
       "      <td>...</td>\n",
       "      <td>...</td>\n",
       "      <td>...</td>\n",
       "      <td>...</td>\n",
       "      <td>...</td>\n",
       "      <td>...</td>\n",
       "      <td>...</td>\n",
       "    </tr>\n",
       "    <tr>\n",
       "      <th>267</th>\n",
       "      <td>1/9/2022</td>\n",
       "      <td>2021</td>\n",
       "      <td>18</td>\n",
       "      <td>False</td>\n",
       "      <td>TB</td>\n",
       "      <td>NaN</td>\n",
       "      <td>NaN</td>\n",
       "      <td>CAR</td>\n",
       "      <td>NaN</td>\n",
       "      <td>NaN</td>\n",
       "      <td>NaN</td>\n",
       "      <td>NaN</td>\n",
       "      <td>NaN</td>\n",
       "      <td>NaN</td>\n",
       "      <td>True</td>\n",
       "      <td>True</td>\n",
       "    </tr>\n",
       "    <tr>\n",
       "      <th>268</th>\n",
       "      <td>1/9/2022</td>\n",
       "      <td>2021</td>\n",
       "      <td>18</td>\n",
       "      <td>False</td>\n",
       "      <td>ARI</td>\n",
       "      <td>NaN</td>\n",
       "      <td>NaN</td>\n",
       "      <td>SEA</td>\n",
       "      <td>NaN</td>\n",
       "      <td>NaN</td>\n",
       "      <td>NaN</td>\n",
       "      <td>NaN</td>\n",
       "      <td>NaN</td>\n",
       "      <td>NaN</td>\n",
       "      <td>True</td>\n",
       "      <td>True</td>\n",
       "    </tr>\n",
       "    <tr>\n",
       "      <th>269</th>\n",
       "      <td>1/9/2022</td>\n",
       "      <td>2021</td>\n",
       "      <td>18</td>\n",
       "      <td>False</td>\n",
       "      <td>DEN</td>\n",
       "      <td>NaN</td>\n",
       "      <td>NaN</td>\n",
       "      <td>KC</td>\n",
       "      <td>NaN</td>\n",
       "      <td>NaN</td>\n",
       "      <td>NaN</td>\n",
       "      <td>NaN</td>\n",
       "      <td>NaN</td>\n",
       "      <td>NaN</td>\n",
       "      <td>True</td>\n",
       "      <td>True</td>\n",
       "    </tr>\n",
       "    <tr>\n",
       "      <th>270</th>\n",
       "      <td>1/9/2022</td>\n",
       "      <td>2021</td>\n",
       "      <td>18</td>\n",
       "      <td>False</td>\n",
       "      <td>LVR</td>\n",
       "      <td>NaN</td>\n",
       "      <td>NaN</td>\n",
       "      <td>LAC</td>\n",
       "      <td>NaN</td>\n",
       "      <td>NaN</td>\n",
       "      <td>NaN</td>\n",
       "      <td>NaN</td>\n",
       "      <td>NaN</td>\n",
       "      <td>NaN</td>\n",
       "      <td>True</td>\n",
       "      <td>True</td>\n",
       "    </tr>\n",
       "    <tr>\n",
       "      <th>271</th>\n",
       "      <td>1/9/2022</td>\n",
       "      <td>2021</td>\n",
       "      <td>18</td>\n",
       "      <td>False</td>\n",
       "      <td>LAR</td>\n",
       "      <td>NaN</td>\n",
       "      <td>NaN</td>\n",
       "      <td>SF</td>\n",
       "      <td>NaN</td>\n",
       "      <td>NaN</td>\n",
       "      <td>NaN</td>\n",
       "      <td>NaN</td>\n",
       "      <td>NaN</td>\n",
       "      <td>NaN</td>\n",
       "      <td>True</td>\n",
       "      <td>True</td>\n",
       "    </tr>\n",
       "  </tbody>\n",
       "</table>\n",
       "<p>272 rows × 16 columns</p>\n",
       "</div>"
      ],
      "text/plain": [
       "    schedule_date  schedule_season schedule_week  schedule_playoff team_home  \\\n",
       "0        9/9/2021             2021             1             False        TB   \n",
       "1       9/12/2021             2021             1             False       ATL   \n",
       "2       9/12/2021             2021             1             False       BUF   \n",
       "3       9/12/2021             2021             1             False       CAR   \n",
       "4       9/12/2021             2021             1             False       CIN   \n",
       "..            ...              ...           ...               ...       ...   \n",
       "267      1/9/2022             2021            18             False        TB   \n",
       "268      1/9/2022             2021            18             False       ARI   \n",
       "269      1/9/2022             2021            18             False       DEN   \n",
       "270      1/9/2022             2021            18             False       LVR   \n",
       "271      1/9/2022             2021            18             False       LAR   \n",
       "\n",
       "     score_home  score_away team_away team_favorite_id  spread_favorite  \\\n",
       "0           NaN         NaN       DAL              NaN              NaN   \n",
       "1           NaN         NaN       PHI              NaN              NaN   \n",
       "2           NaN         NaN       PIT              NaN              NaN   \n",
       "3           NaN         NaN       NYJ              NaN              NaN   \n",
       "4           NaN         NaN       MIN              NaN              NaN   \n",
       "..          ...         ...       ...              ...              ...   \n",
       "267         NaN         NaN       CAR              NaN              NaN   \n",
       "268         NaN         NaN       SEA              NaN              NaN   \n",
       "269         NaN         NaN        KC              NaN              NaN   \n",
       "270         NaN         NaN       LAC              NaN              NaN   \n",
       "271         NaN         NaN        SF              NaN              NaN   \n",
       "\n",
       "     over_under_line stadium_neutral  pr_score_home  pr_score_away  in_div  \\\n",
       "0                NaN             NaN            NaN            NaN   False   \n",
       "1                NaN             NaN            NaN            NaN   False   \n",
       "2                NaN             NaN            NaN            NaN   False   \n",
       "3                NaN             NaN            NaN            NaN   False   \n",
       "4                NaN             NaN            NaN            NaN   False   \n",
       "..               ...             ...            ...            ...     ...   \n",
       "267              NaN             NaN            NaN            NaN    True   \n",
       "268              NaN             NaN            NaN            NaN    True   \n",
       "269              NaN             NaN            NaN            NaN    True   \n",
       "270              NaN             NaN            NaN            NaN    True   \n",
       "271              NaN             NaN            NaN            NaN    True   \n",
       "\n",
       "     in_conf  \n",
       "0       True  \n",
       "1       True  \n",
       "2       True  \n",
       "3      False  \n",
       "4      False  \n",
       "..       ...  \n",
       "267     True  \n",
       "268     True  \n",
       "269     True  \n",
       "270     True  \n",
       "271     True  \n",
       "\n",
       "[272 rows x 16 columns]"
      ]
     },
     "execution_count": 55,
     "metadata": {},
     "output_type": "execute_result"
    }
   ],
   "source": [
    "make_csv(2021)"
   ]
  },
  {
   "cell_type": "code",
   "execution_count": 18,
   "metadata": {
    "cell_id": "00006-9d33d231-3499-4325-8e66-9405f9b73be7",
    "deepnote_cell_type": "code",
    "deepnote_to_be_reexecuted": false,
    "execution_millis": 476,
    "execution_start": 1626253514196,
    "source_hash": "6e76098d",
    "tags": []
   },
   "outputs": [],
   "source": [
    "df = make_csv(2021)"
   ]
  },
  {
   "cell_type": "code",
   "execution_count": 51,
   "metadata": {},
   "outputs": [],
   "source": [
    "df.loc[df[\"schedule_date\"].map(lambda s: s[:2] == \"1/\"),\"schedule_date\"] = df.loc[df[\"schedule_date\"].map(lambda s: s[:2] == \"1/\"),\"schedule_date\"].map(lambda s: s[:-1]+\"2\")"
   ]
  },
  {
   "cell_type": "code",
   "execution_count": 52,
   "metadata": {},
   "outputs": [
    {
     "data": {
      "text/html": [
       "<div>\n",
       "<style scoped>\n",
       "    .dataframe tbody tr th:only-of-type {\n",
       "        vertical-align: middle;\n",
       "    }\n",
       "\n",
       "    .dataframe tbody tr th {\n",
       "        vertical-align: top;\n",
       "    }\n",
       "\n",
       "    .dataframe thead th {\n",
       "        text-align: right;\n",
       "    }\n",
       "</style>\n",
       "<table border=\"1\" class=\"dataframe\">\n",
       "  <thead>\n",
       "    <tr style=\"text-align: right;\">\n",
       "      <th></th>\n",
       "      <th>schedule_date</th>\n",
       "      <th>schedule_season</th>\n",
       "      <th>schedule_week</th>\n",
       "      <th>schedule_playoff</th>\n",
       "      <th>team_home</th>\n",
       "      <th>score_home</th>\n",
       "      <th>score_away</th>\n",
       "      <th>team_away</th>\n",
       "      <th>team_favorite_id</th>\n",
       "      <th>spread_favorite</th>\n",
       "      <th>over_under_line</th>\n",
       "      <th>stadium_neutral</th>\n",
       "      <th>pr_score_home</th>\n",
       "      <th>pr_score_away</th>\n",
       "      <th>in_div</th>\n",
       "      <th>in_conf</th>\n",
       "    </tr>\n",
       "  </thead>\n",
       "  <tbody>\n",
       "    <tr>\n",
       "      <th>0</th>\n",
       "      <td>9/9/2021</td>\n",
       "      <td>2021</td>\n",
       "      <td>1</td>\n",
       "      <td>False</td>\n",
       "      <td>TB</td>\n",
       "      <td>NaN</td>\n",
       "      <td>NaN</td>\n",
       "      <td>DAL</td>\n",
       "      <td>NaN</td>\n",
       "      <td>NaN</td>\n",
       "      <td>NaN</td>\n",
       "      <td>NaN</td>\n",
       "      <td>NaN</td>\n",
       "      <td>NaN</td>\n",
       "      <td>False</td>\n",
       "      <td>True</td>\n",
       "    </tr>\n",
       "    <tr>\n",
       "      <th>1</th>\n",
       "      <td>9/12/2021</td>\n",
       "      <td>2021</td>\n",
       "      <td>1</td>\n",
       "      <td>False</td>\n",
       "      <td>ATL</td>\n",
       "      <td>NaN</td>\n",
       "      <td>NaN</td>\n",
       "      <td>PHI</td>\n",
       "      <td>NaN</td>\n",
       "      <td>NaN</td>\n",
       "      <td>NaN</td>\n",
       "      <td>NaN</td>\n",
       "      <td>NaN</td>\n",
       "      <td>NaN</td>\n",
       "      <td>False</td>\n",
       "      <td>True</td>\n",
       "    </tr>\n",
       "    <tr>\n",
       "      <th>2</th>\n",
       "      <td>9/12/2021</td>\n",
       "      <td>2021</td>\n",
       "      <td>1</td>\n",
       "      <td>False</td>\n",
       "      <td>BUF</td>\n",
       "      <td>NaN</td>\n",
       "      <td>NaN</td>\n",
       "      <td>PIT</td>\n",
       "      <td>NaN</td>\n",
       "      <td>NaN</td>\n",
       "      <td>NaN</td>\n",
       "      <td>NaN</td>\n",
       "      <td>NaN</td>\n",
       "      <td>NaN</td>\n",
       "      <td>False</td>\n",
       "      <td>True</td>\n",
       "    </tr>\n",
       "    <tr>\n",
       "      <th>3</th>\n",
       "      <td>9/12/2021</td>\n",
       "      <td>2021</td>\n",
       "      <td>1</td>\n",
       "      <td>False</td>\n",
       "      <td>CAR</td>\n",
       "      <td>NaN</td>\n",
       "      <td>NaN</td>\n",
       "      <td>NYJ</td>\n",
       "      <td>NaN</td>\n",
       "      <td>NaN</td>\n",
       "      <td>NaN</td>\n",
       "      <td>NaN</td>\n",
       "      <td>NaN</td>\n",
       "      <td>NaN</td>\n",
       "      <td>False</td>\n",
       "      <td>False</td>\n",
       "    </tr>\n",
       "    <tr>\n",
       "      <th>4</th>\n",
       "      <td>9/12/2021</td>\n",
       "      <td>2021</td>\n",
       "      <td>1</td>\n",
       "      <td>False</td>\n",
       "      <td>CIN</td>\n",
       "      <td>NaN</td>\n",
       "      <td>NaN</td>\n",
       "      <td>MIN</td>\n",
       "      <td>NaN</td>\n",
       "      <td>NaN</td>\n",
       "      <td>NaN</td>\n",
       "      <td>NaN</td>\n",
       "      <td>NaN</td>\n",
       "      <td>NaN</td>\n",
       "      <td>False</td>\n",
       "      <td>False</td>\n",
       "    </tr>\n",
       "    <tr>\n",
       "      <th>...</th>\n",
       "      <td>...</td>\n",
       "      <td>...</td>\n",
       "      <td>...</td>\n",
       "      <td>...</td>\n",
       "      <td>...</td>\n",
       "      <td>...</td>\n",
       "      <td>...</td>\n",
       "      <td>...</td>\n",
       "      <td>...</td>\n",
       "      <td>...</td>\n",
       "      <td>...</td>\n",
       "      <td>...</td>\n",
       "      <td>...</td>\n",
       "      <td>...</td>\n",
       "      <td>...</td>\n",
       "      <td>...</td>\n",
       "    </tr>\n",
       "    <tr>\n",
       "      <th>267</th>\n",
       "      <td>1/9/2022</td>\n",
       "      <td>2021</td>\n",
       "      <td>18</td>\n",
       "      <td>False</td>\n",
       "      <td>TB</td>\n",
       "      <td>NaN</td>\n",
       "      <td>NaN</td>\n",
       "      <td>CAR</td>\n",
       "      <td>NaN</td>\n",
       "      <td>NaN</td>\n",
       "      <td>NaN</td>\n",
       "      <td>NaN</td>\n",
       "      <td>NaN</td>\n",
       "      <td>NaN</td>\n",
       "      <td>True</td>\n",
       "      <td>True</td>\n",
       "    </tr>\n",
       "    <tr>\n",
       "      <th>268</th>\n",
       "      <td>1/9/2022</td>\n",
       "      <td>2021</td>\n",
       "      <td>18</td>\n",
       "      <td>False</td>\n",
       "      <td>ARI</td>\n",
       "      <td>NaN</td>\n",
       "      <td>NaN</td>\n",
       "      <td>SEA</td>\n",
       "      <td>NaN</td>\n",
       "      <td>NaN</td>\n",
       "      <td>NaN</td>\n",
       "      <td>NaN</td>\n",
       "      <td>NaN</td>\n",
       "      <td>NaN</td>\n",
       "      <td>True</td>\n",
       "      <td>True</td>\n",
       "    </tr>\n",
       "    <tr>\n",
       "      <th>269</th>\n",
       "      <td>1/9/2022</td>\n",
       "      <td>2021</td>\n",
       "      <td>18</td>\n",
       "      <td>False</td>\n",
       "      <td>DEN</td>\n",
       "      <td>NaN</td>\n",
       "      <td>NaN</td>\n",
       "      <td>KC</td>\n",
       "      <td>NaN</td>\n",
       "      <td>NaN</td>\n",
       "      <td>NaN</td>\n",
       "      <td>NaN</td>\n",
       "      <td>NaN</td>\n",
       "      <td>NaN</td>\n",
       "      <td>True</td>\n",
       "      <td>True</td>\n",
       "    </tr>\n",
       "    <tr>\n",
       "      <th>270</th>\n",
       "      <td>1/9/2022</td>\n",
       "      <td>2021</td>\n",
       "      <td>18</td>\n",
       "      <td>False</td>\n",
       "      <td>LVR</td>\n",
       "      <td>NaN</td>\n",
       "      <td>NaN</td>\n",
       "      <td>LAC</td>\n",
       "      <td>NaN</td>\n",
       "      <td>NaN</td>\n",
       "      <td>NaN</td>\n",
       "      <td>NaN</td>\n",
       "      <td>NaN</td>\n",
       "      <td>NaN</td>\n",
       "      <td>True</td>\n",
       "      <td>True</td>\n",
       "    </tr>\n",
       "    <tr>\n",
       "      <th>271</th>\n",
       "      <td>1/9/2022</td>\n",
       "      <td>2021</td>\n",
       "      <td>18</td>\n",
       "      <td>False</td>\n",
       "      <td>LAR</td>\n",
       "      <td>NaN</td>\n",
       "      <td>NaN</td>\n",
       "      <td>SF</td>\n",
       "      <td>NaN</td>\n",
       "      <td>NaN</td>\n",
       "      <td>NaN</td>\n",
       "      <td>NaN</td>\n",
       "      <td>NaN</td>\n",
       "      <td>NaN</td>\n",
       "      <td>True</td>\n",
       "      <td>True</td>\n",
       "    </tr>\n",
       "  </tbody>\n",
       "</table>\n",
       "<p>272 rows × 16 columns</p>\n",
       "</div>"
      ],
      "text/plain": [
       "    schedule_date  schedule_season schedule_week  schedule_playoff team_home  \\\n",
       "0        9/9/2021             2021             1             False        TB   \n",
       "1       9/12/2021             2021             1             False       ATL   \n",
       "2       9/12/2021             2021             1             False       BUF   \n",
       "3       9/12/2021             2021             1             False       CAR   \n",
       "4       9/12/2021             2021             1             False       CIN   \n",
       "..            ...              ...           ...               ...       ...   \n",
       "267      1/9/2022             2021            18             False        TB   \n",
       "268      1/9/2022             2021            18             False       ARI   \n",
       "269      1/9/2022             2021            18             False       DEN   \n",
       "270      1/9/2022             2021            18             False       LVR   \n",
       "271      1/9/2022             2021            18             False       LAR   \n",
       "\n",
       "     score_home  score_away team_away team_favorite_id  spread_favorite  \\\n",
       "0           NaN         NaN       DAL              NaN              NaN   \n",
       "1           NaN         NaN       PHI              NaN              NaN   \n",
       "2           NaN         NaN       PIT              NaN              NaN   \n",
       "3           NaN         NaN       NYJ              NaN              NaN   \n",
       "4           NaN         NaN       MIN              NaN              NaN   \n",
       "..          ...         ...       ...              ...              ...   \n",
       "267         NaN         NaN       CAR              NaN              NaN   \n",
       "268         NaN         NaN       SEA              NaN              NaN   \n",
       "269         NaN         NaN        KC              NaN              NaN   \n",
       "270         NaN         NaN       LAC              NaN              NaN   \n",
       "271         NaN         NaN        SF              NaN              NaN   \n",
       "\n",
       "     over_under_line stadium_neutral  pr_score_home  pr_score_away  in_div  \\\n",
       "0                NaN             NaN            NaN            NaN   False   \n",
       "1                NaN             NaN            NaN            NaN   False   \n",
       "2                NaN             NaN            NaN            NaN   False   \n",
       "3                NaN             NaN            NaN            NaN   False   \n",
       "4                NaN             NaN            NaN            NaN   False   \n",
       "..               ...             ...            ...            ...     ...   \n",
       "267              NaN             NaN            NaN            NaN    True   \n",
       "268              NaN             NaN            NaN            NaN    True   \n",
       "269              NaN             NaN            NaN            NaN    True   \n",
       "270              NaN             NaN            NaN            NaN    True   \n",
       "271              NaN             NaN            NaN            NaN    True   \n",
       "\n",
       "     in_conf  \n",
       "0       True  \n",
       "1       True  \n",
       "2       True  \n",
       "3      False  \n",
       "4      False  \n",
       "..       ...  \n",
       "267     True  \n",
       "268     True  \n",
       "269     True  \n",
       "270     True  \n",
       "271     True  \n",
       "\n",
       "[272 rows x 16 columns]"
      ]
     },
     "execution_count": 52,
     "metadata": {},
     "output_type": "execute_result"
    }
   ],
   "source": [
    "df"
   ]
  },
  {
   "cell_type": "code",
   "execution_count": null,
   "metadata": {
    "cell_id": "00007-5ff8d312-afd8-4ddb-9998-65cc5ca866e4",
    "deepnote_cell_type": "code",
    "deepnote_to_be_reexecuted": false,
    "execution_millis": 3,
    "execution_start": 1626253514678,
    "source_hash": "734f03f8",
    "tags": []
   },
   "outputs": [],
   "source": [
    "mean_score = np.mean(list(df[\"score_home\"]) + list(df[\"score_away\"]))"
   ]
  },
  {
   "cell_type": "code",
   "execution_count": null,
   "metadata": {
    "cell_id": "00009-a029d148-0dee-426d-b993-668677e51647",
    "deepnote_cell_type": "code",
    "deepnote_to_be_reexecuted": false,
    "execution_millis": 3,
    "execution_start": 1626253514686,
    "source_hash": "b0bd837",
    "tags": []
   },
   "outputs": [],
   "source": [
    "pr_offense = {}\n",
    "pr_defense = {}"
   ]
  },
  {
   "cell_type": "code",
   "execution_count": null,
   "metadata": {
    "cell_id": "00010-d1a0d0b2-d133-4378-b871-ff18c5e399dd",
    "deepnote_cell_type": "code",
    "deepnote_to_be_reexecuted": false,
    "execution_millis": 0,
    "execution_start": 1626253514731,
    "source_hash": "a2c27b2c",
    "tags": []
   },
   "outputs": [],
   "source": [
    "teams = sorted(list(set(df[\"team_home\"])))"
   ]
  },
  {
   "cell_type": "code",
   "execution_count": null,
   "metadata": {
    "cell_id": "00010-2623020a-1c2e-4c3f-ad4c-87910b06ba9e",
    "deepnote_cell_type": "code",
    "deepnote_to_be_reexecuted": false,
    "execution_millis": 0,
    "execution_start": 1626253514731,
    "source_hash": "773e5c50",
    "tags": []
   },
   "outputs": [],
   "source": [
    "df_scores = pd.DataFrame(index=range(2*len(df)),columns = [t+\"_Off\" for t in teams] + [t+\"_Def\" for t in teams]+[\"HFA\"]+[\"Score\"])"
   ]
  },
  {
   "cell_type": "code",
   "execution_count": null,
   "metadata": {
    "cell_id": "00011-65efd167-a52f-4305-b64a-adbaba2e3bb6",
    "deepnote_cell_type": "code",
    "deepnote_to_be_reexecuted": false,
    "execution_millis": 306,
    "execution_start": 1626253514775,
    "source_hash": "3f02d258",
    "tags": []
   },
   "outputs": [],
   "source": [
    "for i in range(len(df)):\n",
    "    row = df.iloc[i]\n",
    "    sf = row[\"spread_favorite\"]\n",
    "    ou = row[\"over_under_line\"]\n",
    "    ht = row[\"team_home\"]\n",
    "    at = row[\"team_away\"]\n",
    "    df_scores.iloc[2*i].loc[ht+\"_Off\"] = 1\n",
    "    df_scores.iloc[2*i].loc[at+\"_Def\"] = -1\n",
    "    df_scores.iloc[2*i].loc[\"Score\"] = (ou+sf)/2\n",
    "    df_scores.iloc[2*i].loc[\"HFA\"] = 0.5\n",
    "    df_scores.iloc[2*i+1].loc[at+\"_Off\"] = 1\n",
    "    df_scores.iloc[2*i+1].loc[ht+\"_Def\"] = -1\n",
    "    df_scores.iloc[2*i+1].loc[\"Score\"] = (ou-sf)/2\n",
    "    df_scores.iloc[2*i+1].loc[\"HFA\"] = -0.5\n",
    "df_scores[\"Score\"] = df_scores[\"Score\"] - mean_score\n",
    "df_scores = df_scores.fillna(0)"
   ]
  },
  {
   "cell_type": "code",
   "execution_count": null,
   "metadata": {
    "cell_id": "00011-c7f9e341-f82c-4747-89d1-5c2fdc2ee8be",
    "deepnote_cell_type": "code",
    "deepnote_to_be_reexecuted": false,
    "execution_millis": 144,
    "execution_start": 1626253515101,
    "source_hash": "7ddb3e1e",
    "tags": []
   },
   "outputs": [
    {
     "data": {
      "application/vnd.deepnote.dataframe.v2+json": {
       "column_count": 66,
       "columns": [
        {
         "dtype": "int64",
         "name": "ARI_Off",
         "stats": {
          "histogram": [
           {
            "bin_end": 0.1,
            "bin_start": 0,
            "count": 522
           },
           {
            "bin_end": 0.2,
            "bin_start": 0.1,
            "count": 0
           },
           {
            "bin_end": 0.30000000000000004,
            "bin_start": 0.2,
            "count": 0
           },
           {
            "bin_end": 0.4,
            "bin_start": 0.30000000000000004,
            "count": 0
           },
           {
            "bin_end": 0.5,
            "bin_start": 0.4,
            "count": 0
           },
           {
            "bin_end": 0.6000000000000001,
            "bin_start": 0.5,
            "count": 0
           },
           {
            "bin_end": 0.7000000000000001,
            "bin_start": 0.6000000000000001,
            "count": 0
           },
           {
            "bin_end": 0.8,
            "bin_start": 0.7000000000000001,
            "count": 0
           },
           {
            "bin_end": 0.9,
            "bin_start": 0.8,
            "count": 0
           },
           {
            "bin_end": 1,
            "bin_start": 0.9,
            "count": 16
           }
          ],
          "max": "1",
          "min": "0",
          "nan_count": 0,
          "unique_count": 2
         }
        },
        {
         "dtype": "int64",
         "name": "ATL_Off",
         "stats": {
          "histogram": [
           {
            "bin_end": 0.1,
            "bin_start": 0,
            "count": 522
           },
           {
            "bin_end": 0.2,
            "bin_start": 0.1,
            "count": 0
           },
           {
            "bin_end": 0.30000000000000004,
            "bin_start": 0.2,
            "count": 0
           },
           {
            "bin_end": 0.4,
            "bin_start": 0.30000000000000004,
            "count": 0
           },
           {
            "bin_end": 0.5,
            "bin_start": 0.4,
            "count": 0
           },
           {
            "bin_end": 0.6000000000000001,
            "bin_start": 0.5,
            "count": 0
           },
           {
            "bin_end": 0.7000000000000001,
            "bin_start": 0.6000000000000001,
            "count": 0
           },
           {
            "bin_end": 0.8,
            "bin_start": 0.7000000000000001,
            "count": 0
           },
           {
            "bin_end": 0.9,
            "bin_start": 0.8,
            "count": 0
           },
           {
            "bin_end": 1,
            "bin_start": 0.9,
            "count": 16
           }
          ],
          "max": "1",
          "min": "0",
          "nan_count": 0,
          "unique_count": 2
         }
        },
        {
         "dtype": "int64",
         "name": "BAL_Off",
         "stats": {
          "histogram": [
           {
            "bin_end": 0.1,
            "bin_start": 0,
            "count": 520
           },
           {
            "bin_end": 0.2,
            "bin_start": 0.1,
            "count": 0
           },
           {
            "bin_end": 0.30000000000000004,
            "bin_start": 0.2,
            "count": 0
           },
           {
            "bin_end": 0.4,
            "bin_start": 0.30000000000000004,
            "count": 0
           },
           {
            "bin_end": 0.5,
            "bin_start": 0.4,
            "count": 0
           },
           {
            "bin_end": 0.6000000000000001,
            "bin_start": 0.5,
            "count": 0
           },
           {
            "bin_end": 0.7000000000000001,
            "bin_start": 0.6000000000000001,
            "count": 0
           },
           {
            "bin_end": 0.8,
            "bin_start": 0.7000000000000001,
            "count": 0
           },
           {
            "bin_end": 0.9,
            "bin_start": 0.8,
            "count": 0
           },
           {
            "bin_end": 1,
            "bin_start": 0.9,
            "count": 18
           }
          ],
          "max": "1",
          "min": "0",
          "nan_count": 0,
          "unique_count": 2
         }
        },
        {
         "dtype": "int64",
         "name": "BUF_Off",
         "stats": {
          "histogram": [
           {
            "bin_end": 0.1,
            "bin_start": 0,
            "count": 519
           },
           {
            "bin_end": 0.2,
            "bin_start": 0.1,
            "count": 0
           },
           {
            "bin_end": 0.30000000000000004,
            "bin_start": 0.2,
            "count": 0
           },
           {
            "bin_end": 0.4,
            "bin_start": 0.30000000000000004,
            "count": 0
           },
           {
            "bin_end": 0.5,
            "bin_start": 0.4,
            "count": 0
           },
           {
            "bin_end": 0.6000000000000001,
            "bin_start": 0.5,
            "count": 0
           },
           {
            "bin_end": 0.7000000000000001,
            "bin_start": 0.6000000000000001,
            "count": 0
           },
           {
            "bin_end": 0.8,
            "bin_start": 0.7000000000000001,
            "count": 0
           },
           {
            "bin_end": 0.9,
            "bin_start": 0.8,
            "count": 0
           },
           {
            "bin_end": 1,
            "bin_start": 0.9,
            "count": 19
           }
          ],
          "max": "1",
          "min": "0",
          "nan_count": 0,
          "unique_count": 2
         }
        },
        {
         "dtype": "int64",
         "name": "CAR_Off",
         "stats": {
          "histogram": [
           {
            "bin_end": 0.1,
            "bin_start": 0,
            "count": 522
           },
           {
            "bin_end": 0.2,
            "bin_start": 0.1,
            "count": 0
           },
           {
            "bin_end": 0.30000000000000004,
            "bin_start": 0.2,
            "count": 0
           },
           {
            "bin_end": 0.4,
            "bin_start": 0.30000000000000004,
            "count": 0
           },
           {
            "bin_end": 0.5,
            "bin_start": 0.4,
            "count": 0
           },
           {
            "bin_end": 0.6000000000000001,
            "bin_start": 0.5,
            "count": 0
           },
           {
            "bin_end": 0.7000000000000001,
            "bin_start": 0.6000000000000001,
            "count": 0
           },
           {
            "bin_end": 0.8,
            "bin_start": 0.7000000000000001,
            "count": 0
           },
           {
            "bin_end": 0.9,
            "bin_start": 0.8,
            "count": 0
           },
           {
            "bin_end": 1,
            "bin_start": 0.9,
            "count": 16
           }
          ],
          "max": "1",
          "min": "0",
          "nan_count": 0,
          "unique_count": 2
         }
        },
        {
         "dtype": "int64",
         "name": "CHI_Off",
         "stats": {
          "histogram": [
           {
            "bin_end": 0.1,
            "bin_start": 0,
            "count": 521
           },
           {
            "bin_end": 0.2,
            "bin_start": 0.1,
            "count": 0
           },
           {
            "bin_end": 0.30000000000000004,
            "bin_start": 0.2,
            "count": 0
           },
           {
            "bin_end": 0.4,
            "bin_start": 0.30000000000000004,
            "count": 0
           },
           {
            "bin_end": 0.5,
            "bin_start": 0.4,
            "count": 0
           },
           {
            "bin_end": 0.6000000000000001,
            "bin_start": 0.5,
            "count": 0
           },
           {
            "bin_end": 0.7000000000000001,
            "bin_start": 0.6000000000000001,
            "count": 0
           },
           {
            "bin_end": 0.8,
            "bin_start": 0.7000000000000001,
            "count": 0
           },
           {
            "bin_end": 0.9,
            "bin_start": 0.8,
            "count": 0
           },
           {
            "bin_end": 1,
            "bin_start": 0.9,
            "count": 17
           }
          ],
          "max": "1",
          "min": "0",
          "nan_count": 0,
          "unique_count": 2
         }
        },
        {
         "dtype": "int64",
         "name": "CIN_Off",
         "stats": {
          "histogram": [
           {
            "bin_end": 0.1,
            "bin_start": 0,
            "count": 522
           },
           {
            "bin_end": 0.2,
            "bin_start": 0.1,
            "count": 0
           },
           {
            "bin_end": 0.30000000000000004,
            "bin_start": 0.2,
            "count": 0
           },
           {
            "bin_end": 0.4,
            "bin_start": 0.30000000000000004,
            "count": 0
           },
           {
            "bin_end": 0.5,
            "bin_start": 0.4,
            "count": 0
           },
           {
            "bin_end": 0.6000000000000001,
            "bin_start": 0.5,
            "count": 0
           },
           {
            "bin_end": 0.7000000000000001,
            "bin_start": 0.6000000000000001,
            "count": 0
           },
           {
            "bin_end": 0.8,
            "bin_start": 0.7000000000000001,
            "count": 0
           },
           {
            "bin_end": 0.9,
            "bin_start": 0.8,
            "count": 0
           },
           {
            "bin_end": 1,
            "bin_start": 0.9,
            "count": 16
           }
          ],
          "max": "1",
          "min": "0",
          "nan_count": 0,
          "unique_count": 2
         }
        },
        {
         "dtype": "int64",
         "name": "CLE_Off",
         "stats": {
          "histogram": [
           {
            "bin_end": 0.1,
            "bin_start": 0,
            "count": 520
           },
           {
            "bin_end": 0.2,
            "bin_start": 0.1,
            "count": 0
           },
           {
            "bin_end": 0.30000000000000004,
            "bin_start": 0.2,
            "count": 0
           },
           {
            "bin_end": 0.4,
            "bin_start": 0.30000000000000004,
            "count": 0
           },
           {
            "bin_end": 0.5,
            "bin_start": 0.4,
            "count": 0
           },
           {
            "bin_end": 0.6000000000000001,
            "bin_start": 0.5,
            "count": 0
           },
           {
            "bin_end": 0.7000000000000001,
            "bin_start": 0.6000000000000001,
            "count": 0
           },
           {
            "bin_end": 0.8,
            "bin_start": 0.7000000000000001,
            "count": 0
           },
           {
            "bin_end": 0.9,
            "bin_start": 0.8,
            "count": 0
           },
           {
            "bin_end": 1,
            "bin_start": 0.9,
            "count": 18
           }
          ],
          "max": "1",
          "min": "0",
          "nan_count": 0,
          "unique_count": 2
         }
        },
        {
         "dtype": "int64",
         "name": "DAL_Off",
         "stats": {
          "histogram": [
           {
            "bin_end": 0.1,
            "bin_start": 0,
            "count": 522
           },
           {
            "bin_end": 0.2,
            "bin_start": 0.1,
            "count": 0
           },
           {
            "bin_end": 0.30000000000000004,
            "bin_start": 0.2,
            "count": 0
           },
           {
            "bin_end": 0.4,
            "bin_start": 0.30000000000000004,
            "count": 0
           },
           {
            "bin_end": 0.5,
            "bin_start": 0.4,
            "count": 0
           },
           {
            "bin_end": 0.6000000000000001,
            "bin_start": 0.5,
            "count": 0
           },
           {
            "bin_end": 0.7000000000000001,
            "bin_start": 0.6000000000000001,
            "count": 0
           },
           {
            "bin_end": 0.8,
            "bin_start": 0.7000000000000001,
            "count": 0
           },
           {
            "bin_end": 0.9,
            "bin_start": 0.8,
            "count": 0
           },
           {
            "bin_end": 1,
            "bin_start": 0.9,
            "count": 16
           }
          ],
          "max": "1",
          "min": "0",
          "nan_count": 0,
          "unique_count": 2
         }
        },
        {
         "dtype": "int64",
         "name": "DEN_Off",
         "stats": {
          "histogram": [
           {
            "bin_end": 0.1,
            "bin_start": 0,
            "count": 522
           },
           {
            "bin_end": 0.2,
            "bin_start": 0.1,
            "count": 0
           },
           {
            "bin_end": 0.30000000000000004,
            "bin_start": 0.2,
            "count": 0
           },
           {
            "bin_end": 0.4,
            "bin_start": 0.30000000000000004,
            "count": 0
           },
           {
            "bin_end": 0.5,
            "bin_start": 0.4,
            "count": 0
           },
           {
            "bin_end": 0.6000000000000001,
            "bin_start": 0.5,
            "count": 0
           },
           {
            "bin_end": 0.7000000000000001,
            "bin_start": 0.6000000000000001,
            "count": 0
           },
           {
            "bin_end": 0.8,
            "bin_start": 0.7000000000000001,
            "count": 0
           },
           {
            "bin_end": 0.9,
            "bin_start": 0.8,
            "count": 0
           },
           {
            "bin_end": 1,
            "bin_start": 0.9,
            "count": 16
           }
          ],
          "max": "1",
          "min": "0",
          "nan_count": 0,
          "unique_count": 2
         }
        },
        {
         "dtype": "int64",
         "name": "DET_Off",
         "stats": {
          "histogram": [
           {
            "bin_end": 0.1,
            "bin_start": 0,
            "count": 522
           },
           {
            "bin_end": 0.2,
            "bin_start": 0.1,
            "count": 0
           },
           {
            "bin_end": 0.30000000000000004,
            "bin_start": 0.2,
            "count": 0
           },
           {
            "bin_end": 0.4,
            "bin_start": 0.30000000000000004,
            "count": 0
           },
           {
            "bin_end": 0.5,
            "bin_start": 0.4,
            "count": 0
           },
           {
            "bin_end": 0.6000000000000001,
            "bin_start": 0.5,
            "count": 0
           },
           {
            "bin_end": 0.7000000000000001,
            "bin_start": 0.6000000000000001,
            "count": 0
           },
           {
            "bin_end": 0.8,
            "bin_start": 0.7000000000000001,
            "count": 0
           },
           {
            "bin_end": 0.9,
            "bin_start": 0.8,
            "count": 0
           },
           {
            "bin_end": 1,
            "bin_start": 0.9,
            "count": 16
           }
          ],
          "max": "1",
          "min": "0",
          "nan_count": 0,
          "unique_count": 2
         }
        },
        {
         "dtype": "int64",
         "name": "GB_Off",
         "stats": {
          "histogram": [
           {
            "bin_end": 0.1,
            "bin_start": 0,
            "count": 520
           },
           {
            "bin_end": 0.2,
            "bin_start": 0.1,
            "count": 0
           },
           {
            "bin_end": 0.30000000000000004,
            "bin_start": 0.2,
            "count": 0
           },
           {
            "bin_end": 0.4,
            "bin_start": 0.30000000000000004,
            "count": 0
           },
           {
            "bin_end": 0.5,
            "bin_start": 0.4,
            "count": 0
           },
           {
            "bin_end": 0.6000000000000001,
            "bin_start": 0.5,
            "count": 0
           },
           {
            "bin_end": 0.7000000000000001,
            "bin_start": 0.6000000000000001,
            "count": 0
           },
           {
            "bin_end": 0.8,
            "bin_start": 0.7000000000000001,
            "count": 0
           },
           {
            "bin_end": 0.9,
            "bin_start": 0.8,
            "count": 0
           },
           {
            "bin_end": 1,
            "bin_start": 0.9,
            "count": 18
           }
          ],
          "max": "1",
          "min": "0",
          "nan_count": 0,
          "unique_count": 2
         }
        },
        {
         "dtype": "int64",
         "name": "HOU_Off",
         "stats": {
          "histogram": [
           {
            "bin_end": 0.1,
            "bin_start": 0,
            "count": 522
           },
           {
            "bin_end": 0.2,
            "bin_start": 0.1,
            "count": 0
           },
           {
            "bin_end": 0.30000000000000004,
            "bin_start": 0.2,
            "count": 0
           },
           {
            "bin_end": 0.4,
            "bin_start": 0.30000000000000004,
            "count": 0
           },
           {
            "bin_end": 0.5,
            "bin_start": 0.4,
            "count": 0
           },
           {
            "bin_end": 0.6000000000000001,
            "bin_start": 0.5,
            "count": 0
           },
           {
            "bin_end": 0.7000000000000001,
            "bin_start": 0.6000000000000001,
            "count": 0
           },
           {
            "bin_end": 0.8,
            "bin_start": 0.7000000000000001,
            "count": 0
           },
           {
            "bin_end": 0.9,
            "bin_start": 0.8,
            "count": 0
           },
           {
            "bin_end": 1,
            "bin_start": 0.9,
            "count": 16
           }
          ],
          "max": "1",
          "min": "0",
          "nan_count": 0,
          "unique_count": 2
         }
        },
        {
         "dtype": "int64",
         "name": "IND_Off",
         "stats": {
          "histogram": [
           {
            "bin_end": 0.1,
            "bin_start": 0,
            "count": 521
           },
           {
            "bin_end": 0.2,
            "bin_start": 0.1,
            "count": 0
           },
           {
            "bin_end": 0.30000000000000004,
            "bin_start": 0.2,
            "count": 0
           },
           {
            "bin_end": 0.4,
            "bin_start": 0.30000000000000004,
            "count": 0
           },
           {
            "bin_end": 0.5,
            "bin_start": 0.4,
            "count": 0
           },
           {
            "bin_end": 0.6000000000000001,
            "bin_start": 0.5,
            "count": 0
           },
           {
            "bin_end": 0.7000000000000001,
            "bin_start": 0.6000000000000001,
            "count": 0
           },
           {
            "bin_end": 0.8,
            "bin_start": 0.7000000000000001,
            "count": 0
           },
           {
            "bin_end": 0.9,
            "bin_start": 0.8,
            "count": 0
           },
           {
            "bin_end": 1,
            "bin_start": 0.9,
            "count": 17
           }
          ],
          "max": "1",
          "min": "0",
          "nan_count": 0,
          "unique_count": 2
         }
        },
        {
         "dtype": "int64",
         "name": "JAX_Off",
         "stats": {
          "histogram": [
           {
            "bin_end": 0.1,
            "bin_start": 0,
            "count": 522
           },
           {
            "bin_end": 0.2,
            "bin_start": 0.1,
            "count": 0
           },
           {
            "bin_end": 0.30000000000000004,
            "bin_start": 0.2,
            "count": 0
           },
           {
            "bin_end": 0.4,
            "bin_start": 0.30000000000000004,
            "count": 0
           },
           {
            "bin_end": 0.5,
            "bin_start": 0.4,
            "count": 0
           },
           {
            "bin_end": 0.6000000000000001,
            "bin_start": 0.5,
            "count": 0
           },
           {
            "bin_end": 0.7000000000000001,
            "bin_start": 0.6000000000000001,
            "count": 0
           },
           {
            "bin_end": 0.8,
            "bin_start": 0.7000000000000001,
            "count": 0
           },
           {
            "bin_end": 0.9,
            "bin_start": 0.8,
            "count": 0
           },
           {
            "bin_end": 1,
            "bin_start": 0.9,
            "count": 16
           }
          ],
          "max": "1",
          "min": "0",
          "nan_count": 0,
          "unique_count": 2
         }
        },
        {
         "dtype": "int64",
         "name": "KC_Off",
         "stats": {
          "histogram": [
           {
            "bin_end": 0.1,
            "bin_start": 0,
            "count": 519
           },
           {
            "bin_end": 0.2,
            "bin_start": 0.1,
            "count": 0
           },
           {
            "bin_end": 0.30000000000000004,
            "bin_start": 0.2,
            "count": 0
           },
           {
            "bin_end": 0.4,
            "bin_start": 0.30000000000000004,
            "count": 0
           },
           {
            "bin_end": 0.5,
            "bin_start": 0.4,
            "count": 0
           },
           {
            "bin_end": 0.6000000000000001,
            "bin_start": 0.5,
            "count": 0
           },
           {
            "bin_end": 0.7000000000000001,
            "bin_start": 0.6000000000000001,
            "count": 0
           },
           {
            "bin_end": 0.8,
            "bin_start": 0.7000000000000001,
            "count": 0
           },
           {
            "bin_end": 0.9,
            "bin_start": 0.8,
            "count": 0
           },
           {
            "bin_end": 1,
            "bin_start": 0.9,
            "count": 19
           }
          ],
          "max": "1",
          "min": "0",
          "nan_count": 0,
          "unique_count": 2
         }
        },
        {
         "dtype": "int64",
         "name": "LAC_Off",
         "stats": {
          "histogram": [
           {
            "bin_end": 0.1,
            "bin_start": 0,
            "count": 522
           },
           {
            "bin_end": 0.2,
            "bin_start": 0.1,
            "count": 0
           },
           {
            "bin_end": 0.30000000000000004,
            "bin_start": 0.2,
            "count": 0
           },
           {
            "bin_end": 0.4,
            "bin_start": 0.30000000000000004,
            "count": 0
           },
           {
            "bin_end": 0.5,
            "bin_start": 0.4,
            "count": 0
           },
           {
            "bin_end": 0.6000000000000001,
            "bin_start": 0.5,
            "count": 0
           },
           {
            "bin_end": 0.7000000000000001,
            "bin_start": 0.6000000000000001,
            "count": 0
           },
           {
            "bin_end": 0.8,
            "bin_start": 0.7000000000000001,
            "count": 0
           },
           {
            "bin_end": 0.9,
            "bin_start": 0.8,
            "count": 0
           },
           {
            "bin_end": 1,
            "bin_start": 0.9,
            "count": 16
           }
          ],
          "max": "1",
          "min": "0",
          "nan_count": 0,
          "unique_count": 2
         }
        },
        {
         "dtype": "int64",
         "name": "LAR_Off",
         "stats": {
          "histogram": [
           {
            "bin_end": 0.1,
            "bin_start": 0,
            "count": 520
           },
           {
            "bin_end": 0.2,
            "bin_start": 0.1,
            "count": 0
           },
           {
            "bin_end": 0.30000000000000004,
            "bin_start": 0.2,
            "count": 0
           },
           {
            "bin_end": 0.4,
            "bin_start": 0.30000000000000004,
            "count": 0
           },
           {
            "bin_end": 0.5,
            "bin_start": 0.4,
            "count": 0
           },
           {
            "bin_end": 0.6000000000000001,
            "bin_start": 0.5,
            "count": 0
           },
           {
            "bin_end": 0.7000000000000001,
            "bin_start": 0.6000000000000001,
            "count": 0
           },
           {
            "bin_end": 0.8,
            "bin_start": 0.7000000000000001,
            "count": 0
           },
           {
            "bin_end": 0.9,
            "bin_start": 0.8,
            "count": 0
           },
           {
            "bin_end": 1,
            "bin_start": 0.9,
            "count": 18
           }
          ],
          "max": "1",
          "min": "0",
          "nan_count": 0,
          "unique_count": 2
         }
        },
        {
         "dtype": "int64",
         "name": "LVR_Off",
         "stats": {
          "histogram": [
           {
            "bin_end": 0.1,
            "bin_start": 0,
            "count": 522
           },
           {
            "bin_end": 0.2,
            "bin_start": 0.1,
            "count": 0
           },
           {
            "bin_end": 0.30000000000000004,
            "bin_start": 0.2,
            "count": 0
           },
           {
            "bin_end": 0.4,
            "bin_start": 0.30000000000000004,
            "count": 0
           },
           {
            "bin_end": 0.5,
            "bin_start": 0.4,
            "count": 0
           },
           {
            "bin_end": 0.6000000000000001,
            "bin_start": 0.5,
            "count": 0
           },
           {
            "bin_end": 0.7000000000000001,
            "bin_start": 0.6000000000000001,
            "count": 0
           },
           {
            "bin_end": 0.8,
            "bin_start": 0.7000000000000001,
            "count": 0
           },
           {
            "bin_end": 0.9,
            "bin_start": 0.8,
            "count": 0
           },
           {
            "bin_end": 1,
            "bin_start": 0.9,
            "count": 16
           }
          ],
          "max": "1",
          "min": "0",
          "nan_count": 0,
          "unique_count": 2
         }
        },
        {
         "dtype": "int64",
         "name": "MIA_Off",
         "stats": {
          "histogram": [
           {
            "bin_end": 0.1,
            "bin_start": 0,
            "count": 522
           },
           {
            "bin_end": 0.2,
            "bin_start": 0.1,
            "count": 0
           },
           {
            "bin_end": 0.30000000000000004,
            "bin_start": 0.2,
            "count": 0
           },
           {
            "bin_end": 0.4,
            "bin_start": 0.30000000000000004,
            "count": 0
           },
           {
            "bin_end": 0.5,
            "bin_start": 0.4,
            "count": 0
           },
           {
            "bin_end": 0.6000000000000001,
            "bin_start": 0.5,
            "count": 0
           },
           {
            "bin_end": 0.7000000000000001,
            "bin_start": 0.6000000000000001,
            "count": 0
           },
           {
            "bin_end": 0.8,
            "bin_start": 0.7000000000000001,
            "count": 0
           },
           {
            "bin_end": 0.9,
            "bin_start": 0.8,
            "count": 0
           },
           {
            "bin_end": 1,
            "bin_start": 0.9,
            "count": 16
           }
          ],
          "max": "1",
          "min": "0",
          "nan_count": 0,
          "unique_count": 2
         }
        },
        {
         "dtype": "int64",
         "name": "MIN_Off",
         "stats": {
          "histogram": [
           {
            "bin_end": 0.1,
            "bin_start": 0,
            "count": 522
           },
           {
            "bin_end": 0.2,
            "bin_start": 0.1,
            "count": 0
           },
           {
            "bin_end": 0.30000000000000004,
            "bin_start": 0.2,
            "count": 0
           },
           {
            "bin_end": 0.4,
            "bin_start": 0.30000000000000004,
            "count": 0
           },
           {
            "bin_end": 0.5,
            "bin_start": 0.4,
            "count": 0
           },
           {
            "bin_end": 0.6000000000000001,
            "bin_start": 0.5,
            "count": 0
           },
           {
            "bin_end": 0.7000000000000001,
            "bin_start": 0.6000000000000001,
            "count": 0
           },
           {
            "bin_end": 0.8,
            "bin_start": 0.7000000000000001,
            "count": 0
           },
           {
            "bin_end": 0.9,
            "bin_start": 0.8,
            "count": 0
           },
           {
            "bin_end": 1,
            "bin_start": 0.9,
            "count": 16
           }
          ],
          "max": "1",
          "min": "0",
          "nan_count": 0,
          "unique_count": 2
         }
        },
        {
         "dtype": "int64",
         "name": "NE_Off",
         "stats": {
          "histogram": [
           {
            "bin_end": 0.1,
            "bin_start": 0,
            "count": 522
           },
           {
            "bin_end": 0.2,
            "bin_start": 0.1,
            "count": 0
           },
           {
            "bin_end": 0.30000000000000004,
            "bin_start": 0.2,
            "count": 0
           },
           {
            "bin_end": 0.4,
            "bin_start": 0.30000000000000004,
            "count": 0
           },
           {
            "bin_end": 0.5,
            "bin_start": 0.4,
            "count": 0
           },
           {
            "bin_end": 0.6000000000000001,
            "bin_start": 0.5,
            "count": 0
           },
           {
            "bin_end": 0.7000000000000001,
            "bin_start": 0.6000000000000001,
            "count": 0
           },
           {
            "bin_end": 0.8,
            "bin_start": 0.7000000000000001,
            "count": 0
           },
           {
            "bin_end": 0.9,
            "bin_start": 0.8,
            "count": 0
           },
           {
            "bin_end": 1,
            "bin_start": 0.9,
            "count": 16
           }
          ],
          "max": "1",
          "min": "0",
          "nan_count": 0,
          "unique_count": 2
         }
        },
        {
         "dtype": "int64",
         "name": "NO_Off",
         "stats": {
          "histogram": [
           {
            "bin_end": 0.1,
            "bin_start": 0,
            "count": 520
           },
           {
            "bin_end": 0.2,
            "bin_start": 0.1,
            "count": 0
           },
           {
            "bin_end": 0.30000000000000004,
            "bin_start": 0.2,
            "count": 0
           },
           {
            "bin_end": 0.4,
            "bin_start": 0.30000000000000004,
            "count": 0
           },
           {
            "bin_end": 0.5,
            "bin_start": 0.4,
            "count": 0
           },
           {
            "bin_end": 0.6000000000000001,
            "bin_start": 0.5,
            "count": 0
           },
           {
            "bin_end": 0.7000000000000001,
            "bin_start": 0.6000000000000001,
            "count": 0
           },
           {
            "bin_end": 0.8,
            "bin_start": 0.7000000000000001,
            "count": 0
           },
           {
            "bin_end": 0.9,
            "bin_start": 0.8,
            "count": 0
           },
           {
            "bin_end": 1,
            "bin_start": 0.9,
            "count": 18
           }
          ],
          "max": "1",
          "min": "0",
          "nan_count": 0,
          "unique_count": 2
         }
        },
        {
         "dtype": "int64",
         "name": "NYG_Off",
         "stats": {
          "histogram": [
           {
            "bin_end": 0.1,
            "bin_start": 0,
            "count": 522
           },
           {
            "bin_end": 0.2,
            "bin_start": 0.1,
            "count": 0
           },
           {
            "bin_end": 0.30000000000000004,
            "bin_start": 0.2,
            "count": 0
           },
           {
            "bin_end": 0.4,
            "bin_start": 0.30000000000000004,
            "count": 0
           },
           {
            "bin_end": 0.5,
            "bin_start": 0.4,
            "count": 0
           },
           {
            "bin_end": 0.6000000000000001,
            "bin_start": 0.5,
            "count": 0
           },
           {
            "bin_end": 0.7000000000000001,
            "bin_start": 0.6000000000000001,
            "count": 0
           },
           {
            "bin_end": 0.8,
            "bin_start": 0.7000000000000001,
            "count": 0
           },
           {
            "bin_end": 0.9,
            "bin_start": 0.8,
            "count": 0
           },
           {
            "bin_end": 1,
            "bin_start": 0.9,
            "count": 16
           }
          ],
          "max": "1",
          "min": "0",
          "nan_count": 0,
          "unique_count": 2
         }
        },
        {
         "dtype": "int64",
         "name": "NYJ_Off",
         "stats": {
          "histogram": [
           {
            "bin_end": 0.1,
            "bin_start": 0,
            "count": 522
           },
           {
            "bin_end": 0.2,
            "bin_start": 0.1,
            "count": 0
           },
           {
            "bin_end": 0.30000000000000004,
            "bin_start": 0.2,
            "count": 0
           },
           {
            "bin_end": 0.4,
            "bin_start": 0.30000000000000004,
            "count": 0
           },
           {
            "bin_end": 0.5,
            "bin_start": 0.4,
            "count": 0
           },
           {
            "bin_end": 0.6000000000000001,
            "bin_start": 0.5,
            "count": 0
           },
           {
            "bin_end": 0.7000000000000001,
            "bin_start": 0.6000000000000001,
            "count": 0
           },
           {
            "bin_end": 0.8,
            "bin_start": 0.7000000000000001,
            "count": 0
           },
           {
            "bin_end": 0.9,
            "bin_start": 0.8,
            "count": 0
           },
           {
            "bin_end": 1,
            "bin_start": 0.9,
            "count": 16
           }
          ],
          "max": "1",
          "min": "0",
          "nan_count": 0,
          "unique_count": 2
         }
        },
        {
         "dtype": "int64",
         "name": "PHI_Off",
         "stats": {
          "histogram": [
           {
            "bin_end": 0.1,
            "bin_start": 0,
            "count": 522
           },
           {
            "bin_end": 0.2,
            "bin_start": 0.1,
            "count": 0
           },
           {
            "bin_end": 0.30000000000000004,
            "bin_start": 0.2,
            "count": 0
           },
           {
            "bin_end": 0.4,
            "bin_start": 0.30000000000000004,
            "count": 0
           },
           {
            "bin_end": 0.5,
            "bin_start": 0.4,
            "count": 0
           },
           {
            "bin_end": 0.6000000000000001,
            "bin_start": 0.5,
            "count": 0
           },
           {
            "bin_end": 0.7000000000000001,
            "bin_start": 0.6000000000000001,
            "count": 0
           },
           {
            "bin_end": 0.8,
            "bin_start": 0.7000000000000001,
            "count": 0
           },
           {
            "bin_end": 0.9,
            "bin_start": 0.8,
            "count": 0
           },
           {
            "bin_end": 1,
            "bin_start": 0.9,
            "count": 16
           }
          ],
          "max": "1",
          "min": "0",
          "nan_count": 0,
          "unique_count": 2
         }
        },
        {
         "dtype": "int64",
         "name": "PIT_Off",
         "stats": {
          "histogram": [
           {
            "bin_end": 0.1,
            "bin_start": 0,
            "count": 521
           },
           {
            "bin_end": 0.2,
            "bin_start": 0.1,
            "count": 0
           },
           {
            "bin_end": 0.30000000000000004,
            "bin_start": 0.2,
            "count": 0
           },
           {
            "bin_end": 0.4,
            "bin_start": 0.30000000000000004,
            "count": 0
           },
           {
            "bin_end": 0.5,
            "bin_start": 0.4,
            "count": 0
           },
           {
            "bin_end": 0.6000000000000001,
            "bin_start": 0.5,
            "count": 0
           },
           {
            "bin_end": 0.7000000000000001,
            "bin_start": 0.6000000000000001,
            "count": 0
           },
           {
            "bin_end": 0.8,
            "bin_start": 0.7000000000000001,
            "count": 0
           },
           {
            "bin_end": 0.9,
            "bin_start": 0.8,
            "count": 0
           },
           {
            "bin_end": 1,
            "bin_start": 0.9,
            "count": 17
           }
          ],
          "max": "1",
          "min": "0",
          "nan_count": 0,
          "unique_count": 2
         }
        },
        {
         "dtype": "int64",
         "name": "SEA_Off",
         "stats": {
          "histogram": [
           {
            "bin_end": 0.1,
            "bin_start": 0,
            "count": 521
           },
           {
            "bin_end": 0.2,
            "bin_start": 0.1,
            "count": 0
           },
           {
            "bin_end": 0.30000000000000004,
            "bin_start": 0.2,
            "count": 0
           },
           {
            "bin_end": 0.4,
            "bin_start": 0.30000000000000004,
            "count": 0
           },
           {
            "bin_end": 0.5,
            "bin_start": 0.4,
            "count": 0
           },
           {
            "bin_end": 0.6000000000000001,
            "bin_start": 0.5,
            "count": 0
           },
           {
            "bin_end": 0.7000000000000001,
            "bin_start": 0.6000000000000001,
            "count": 0
           },
           {
            "bin_end": 0.8,
            "bin_start": 0.7000000000000001,
            "count": 0
           },
           {
            "bin_end": 0.9,
            "bin_start": 0.8,
            "count": 0
           },
           {
            "bin_end": 1,
            "bin_start": 0.9,
            "count": 17
           }
          ],
          "max": "1",
          "min": "0",
          "nan_count": 0,
          "unique_count": 2
         }
        },
        {
         "dtype": "int64",
         "name": "SF_Off",
         "stats": {
          "histogram": [
           {
            "bin_end": 0.1,
            "bin_start": 0,
            "count": 522
           },
           {
            "bin_end": 0.2,
            "bin_start": 0.1,
            "count": 0
           },
           {
            "bin_end": 0.30000000000000004,
            "bin_start": 0.2,
            "count": 0
           },
           {
            "bin_end": 0.4,
            "bin_start": 0.30000000000000004,
            "count": 0
           },
           {
            "bin_end": 0.5,
            "bin_start": 0.4,
            "count": 0
           },
           {
            "bin_end": 0.6000000000000001,
            "bin_start": 0.5,
            "count": 0
           },
           {
            "bin_end": 0.7000000000000001,
            "bin_start": 0.6000000000000001,
            "count": 0
           },
           {
            "bin_end": 0.8,
            "bin_start": 0.7000000000000001,
            "count": 0
           },
           {
            "bin_end": 0.9,
            "bin_start": 0.8,
            "count": 0
           },
           {
            "bin_end": 1,
            "bin_start": 0.9,
            "count": 16
           }
          ],
          "max": "1",
          "min": "0",
          "nan_count": 0,
          "unique_count": 2
         }
        },
        {
         "dtype": "int64",
         "name": "TB_Off",
         "stats": {
          "histogram": [
           {
            "bin_end": 0.1,
            "bin_start": 0,
            "count": 518
           },
           {
            "bin_end": 0.2,
            "bin_start": 0.1,
            "count": 0
           },
           {
            "bin_end": 0.30000000000000004,
            "bin_start": 0.2,
            "count": 0
           },
           {
            "bin_end": 0.4,
            "bin_start": 0.30000000000000004,
            "count": 0
           },
           {
            "bin_end": 0.5,
            "bin_start": 0.4,
            "count": 0
           },
           {
            "bin_end": 0.6000000000000001,
            "bin_start": 0.5,
            "count": 0
           },
           {
            "bin_end": 0.7000000000000001,
            "bin_start": 0.6000000000000001,
            "count": 0
           },
           {
            "bin_end": 0.8,
            "bin_start": 0.7000000000000001,
            "count": 0
           },
           {
            "bin_end": 0.9,
            "bin_start": 0.8,
            "count": 0
           },
           {
            "bin_end": 1,
            "bin_start": 0.9,
            "count": 20
           }
          ],
          "max": "1",
          "min": "0",
          "nan_count": 0,
          "unique_count": 2
         }
        },
        {
         "dtype": "int64",
         "name": "TEN_Off",
         "stats": {
          "histogram": [
           {
            "bin_end": 0.1,
            "bin_start": 0,
            "count": 521
           },
           {
            "bin_end": 0.2,
            "bin_start": 0.1,
            "count": 0
           },
           {
            "bin_end": 0.30000000000000004,
            "bin_start": 0.2,
            "count": 0
           },
           {
            "bin_end": 0.4,
            "bin_start": 0.30000000000000004,
            "count": 0
           },
           {
            "bin_end": 0.5,
            "bin_start": 0.4,
            "count": 0
           },
           {
            "bin_end": 0.6000000000000001,
            "bin_start": 0.5,
            "count": 0
           },
           {
            "bin_end": 0.7000000000000001,
            "bin_start": 0.6000000000000001,
            "count": 0
           },
           {
            "bin_end": 0.8,
            "bin_start": 0.7000000000000001,
            "count": 0
           },
           {
            "bin_end": 0.9,
            "bin_start": 0.8,
            "count": 0
           },
           {
            "bin_end": 1,
            "bin_start": 0.9,
            "count": 17
           }
          ],
          "max": "1",
          "min": "0",
          "nan_count": 0,
          "unique_count": 2
         }
        },
        {
         "dtype": "int64",
         "name": "WAS_Off",
         "stats": {
          "histogram": [
           {
            "bin_end": 0.1,
            "bin_start": 0,
            "count": 521
           },
           {
            "bin_end": 0.2,
            "bin_start": 0.1,
            "count": 0
           },
           {
            "bin_end": 0.30000000000000004,
            "bin_start": 0.2,
            "count": 0
           },
           {
            "bin_end": 0.4,
            "bin_start": 0.30000000000000004,
            "count": 0
           },
           {
            "bin_end": 0.5,
            "bin_start": 0.4,
            "count": 0
           },
           {
            "bin_end": 0.6000000000000001,
            "bin_start": 0.5,
            "count": 0
           },
           {
            "bin_end": 0.7000000000000001,
            "bin_start": 0.6000000000000001,
            "count": 0
           },
           {
            "bin_end": 0.8,
            "bin_start": 0.7000000000000001,
            "count": 0
           },
           {
            "bin_end": 0.9,
            "bin_start": 0.8,
            "count": 0
           },
           {
            "bin_end": 1,
            "bin_start": 0.9,
            "count": 17
           }
          ],
          "max": "1",
          "min": "0",
          "nan_count": 0,
          "unique_count": 2
         }
        },
        {
         "dtype": "int64",
         "name": "ARI_Def",
         "stats": {
          "histogram": [
           {
            "bin_end": -0.9,
            "bin_start": -1,
            "count": 16
           },
           {
            "bin_end": -0.8,
            "bin_start": -0.9,
            "count": 0
           },
           {
            "bin_end": -0.7,
            "bin_start": -0.8,
            "count": 0
           },
           {
            "bin_end": -0.6,
            "bin_start": -0.7,
            "count": 0
           },
           {
            "bin_end": -0.5,
            "bin_start": -0.6,
            "count": 0
           },
           {
            "bin_end": -0.3999999999999999,
            "bin_start": -0.5,
            "count": 0
           },
           {
            "bin_end": -0.29999999999999993,
            "bin_start": -0.3999999999999999,
            "count": 0
           },
           {
            "bin_end": -0.19999999999999996,
            "bin_start": -0.29999999999999993,
            "count": 0
           },
           {
            "bin_end": -0.09999999999999998,
            "bin_start": -0.19999999999999996,
            "count": 0
           },
           {
            "bin_end": 0,
            "bin_start": -0.09999999999999998,
            "count": 522
           }
          ],
          "max": "0",
          "min": "-1",
          "nan_count": 0,
          "unique_count": 2
         }
        },
        {
         "dtype": "int64",
         "name": "ATL_Def",
         "stats": {
          "histogram": [
           {
            "bin_end": -0.9,
            "bin_start": -1,
            "count": 16
           },
           {
            "bin_end": -0.8,
            "bin_start": -0.9,
            "count": 0
           },
           {
            "bin_end": -0.7,
            "bin_start": -0.8,
            "count": 0
           },
           {
            "bin_end": -0.6,
            "bin_start": -0.7,
            "count": 0
           },
           {
            "bin_end": -0.5,
            "bin_start": -0.6,
            "count": 0
           },
           {
            "bin_end": -0.3999999999999999,
            "bin_start": -0.5,
            "count": 0
           },
           {
            "bin_end": -0.29999999999999993,
            "bin_start": -0.3999999999999999,
            "count": 0
           },
           {
            "bin_end": -0.19999999999999996,
            "bin_start": -0.29999999999999993,
            "count": 0
           },
           {
            "bin_end": -0.09999999999999998,
            "bin_start": -0.19999999999999996,
            "count": 0
           },
           {
            "bin_end": 0,
            "bin_start": -0.09999999999999998,
            "count": 522
           }
          ],
          "max": "0",
          "min": "-1",
          "nan_count": 0,
          "unique_count": 2
         }
        },
        {
         "dtype": "int64",
         "name": "BAL_Def",
         "stats": {
          "histogram": [
           {
            "bin_end": -0.9,
            "bin_start": -1,
            "count": 18
           },
           {
            "bin_end": -0.8,
            "bin_start": -0.9,
            "count": 0
           },
           {
            "bin_end": -0.7,
            "bin_start": -0.8,
            "count": 0
           },
           {
            "bin_end": -0.6,
            "bin_start": -0.7,
            "count": 0
           },
           {
            "bin_end": -0.5,
            "bin_start": -0.6,
            "count": 0
           },
           {
            "bin_end": -0.3999999999999999,
            "bin_start": -0.5,
            "count": 0
           },
           {
            "bin_end": -0.29999999999999993,
            "bin_start": -0.3999999999999999,
            "count": 0
           },
           {
            "bin_end": -0.19999999999999996,
            "bin_start": -0.29999999999999993,
            "count": 0
           },
           {
            "bin_end": -0.09999999999999998,
            "bin_start": -0.19999999999999996,
            "count": 0
           },
           {
            "bin_end": 0,
            "bin_start": -0.09999999999999998,
            "count": 520
           }
          ],
          "max": "0",
          "min": "-1",
          "nan_count": 0,
          "unique_count": 2
         }
        },
        {
         "dtype": "int64",
         "name": "BUF_Def",
         "stats": {
          "histogram": [
           {
            "bin_end": -0.9,
            "bin_start": -1,
            "count": 19
           },
           {
            "bin_end": -0.8,
            "bin_start": -0.9,
            "count": 0
           },
           {
            "bin_end": -0.7,
            "bin_start": -0.8,
            "count": 0
           },
           {
            "bin_end": -0.6,
            "bin_start": -0.7,
            "count": 0
           },
           {
            "bin_end": -0.5,
            "bin_start": -0.6,
            "count": 0
           },
           {
            "bin_end": -0.3999999999999999,
            "bin_start": -0.5,
            "count": 0
           },
           {
            "bin_end": -0.29999999999999993,
            "bin_start": -0.3999999999999999,
            "count": 0
           },
           {
            "bin_end": -0.19999999999999996,
            "bin_start": -0.29999999999999993,
            "count": 0
           },
           {
            "bin_end": -0.09999999999999998,
            "bin_start": -0.19999999999999996,
            "count": 0
           },
           {
            "bin_end": 0,
            "bin_start": -0.09999999999999998,
            "count": 519
           }
          ],
          "max": "0",
          "min": "-1",
          "nan_count": 0,
          "unique_count": 2
         }
        },
        {
         "dtype": "int64",
         "name": "CAR_Def",
         "stats": {
          "histogram": [
           {
            "bin_end": -0.9,
            "bin_start": -1,
            "count": 16
           },
           {
            "bin_end": -0.8,
            "bin_start": -0.9,
            "count": 0
           },
           {
            "bin_end": -0.7,
            "bin_start": -0.8,
            "count": 0
           },
           {
            "bin_end": -0.6,
            "bin_start": -0.7,
            "count": 0
           },
           {
            "bin_end": -0.5,
            "bin_start": -0.6,
            "count": 0
           },
           {
            "bin_end": -0.3999999999999999,
            "bin_start": -0.5,
            "count": 0
           },
           {
            "bin_end": -0.29999999999999993,
            "bin_start": -0.3999999999999999,
            "count": 0
           },
           {
            "bin_end": -0.19999999999999996,
            "bin_start": -0.29999999999999993,
            "count": 0
           },
           {
            "bin_end": -0.09999999999999998,
            "bin_start": -0.19999999999999996,
            "count": 0
           },
           {
            "bin_end": 0,
            "bin_start": -0.09999999999999998,
            "count": 522
           }
          ],
          "max": "0",
          "min": "-1",
          "nan_count": 0,
          "unique_count": 2
         }
        },
        {
         "dtype": "int64",
         "name": "CHI_Def",
         "stats": {
          "histogram": [
           {
            "bin_end": -0.9,
            "bin_start": -1,
            "count": 17
           },
           {
            "bin_end": -0.8,
            "bin_start": -0.9,
            "count": 0
           },
           {
            "bin_end": -0.7,
            "bin_start": -0.8,
            "count": 0
           },
           {
            "bin_end": -0.6,
            "bin_start": -0.7,
            "count": 0
           },
           {
            "bin_end": -0.5,
            "bin_start": -0.6,
            "count": 0
           },
           {
            "bin_end": -0.3999999999999999,
            "bin_start": -0.5,
            "count": 0
           },
           {
            "bin_end": -0.29999999999999993,
            "bin_start": -0.3999999999999999,
            "count": 0
           },
           {
            "bin_end": -0.19999999999999996,
            "bin_start": -0.29999999999999993,
            "count": 0
           },
           {
            "bin_end": -0.09999999999999998,
            "bin_start": -0.19999999999999996,
            "count": 0
           },
           {
            "bin_end": 0,
            "bin_start": -0.09999999999999998,
            "count": 521
           }
          ],
          "max": "0",
          "min": "-1",
          "nan_count": 0,
          "unique_count": 2
         }
        },
        {
         "dtype": "int64",
         "name": "CIN_Def",
         "stats": {
          "histogram": [
           {
            "bin_end": -0.9,
            "bin_start": -1,
            "count": 16
           },
           {
            "bin_end": -0.8,
            "bin_start": -0.9,
            "count": 0
           },
           {
            "bin_end": -0.7,
            "bin_start": -0.8,
            "count": 0
           },
           {
            "bin_end": -0.6,
            "bin_start": -0.7,
            "count": 0
           },
           {
            "bin_end": -0.5,
            "bin_start": -0.6,
            "count": 0
           },
           {
            "bin_end": -0.3999999999999999,
            "bin_start": -0.5,
            "count": 0
           },
           {
            "bin_end": -0.29999999999999993,
            "bin_start": -0.3999999999999999,
            "count": 0
           },
           {
            "bin_end": -0.19999999999999996,
            "bin_start": -0.29999999999999993,
            "count": 0
           },
           {
            "bin_end": -0.09999999999999998,
            "bin_start": -0.19999999999999996,
            "count": 0
           },
           {
            "bin_end": 0,
            "bin_start": -0.09999999999999998,
            "count": 522
           }
          ],
          "max": "0",
          "min": "-1",
          "nan_count": 0,
          "unique_count": 2
         }
        },
        {
         "dtype": "int64",
         "name": "CLE_Def",
         "stats": {
          "histogram": [
           {
            "bin_end": -0.9,
            "bin_start": -1,
            "count": 18
           },
           {
            "bin_end": -0.8,
            "bin_start": -0.9,
            "count": 0
           },
           {
            "bin_end": -0.7,
            "bin_start": -0.8,
            "count": 0
           },
           {
            "bin_end": -0.6,
            "bin_start": -0.7,
            "count": 0
           },
           {
            "bin_end": -0.5,
            "bin_start": -0.6,
            "count": 0
           },
           {
            "bin_end": -0.3999999999999999,
            "bin_start": -0.5,
            "count": 0
           },
           {
            "bin_end": -0.29999999999999993,
            "bin_start": -0.3999999999999999,
            "count": 0
           },
           {
            "bin_end": -0.19999999999999996,
            "bin_start": -0.29999999999999993,
            "count": 0
           },
           {
            "bin_end": -0.09999999999999998,
            "bin_start": -0.19999999999999996,
            "count": 0
           },
           {
            "bin_end": 0,
            "bin_start": -0.09999999999999998,
            "count": 520
           }
          ],
          "max": "0",
          "min": "-1",
          "nan_count": 0,
          "unique_count": 2
         }
        },
        {
         "dtype": "int64",
         "name": "DAL_Def",
         "stats": {
          "histogram": [
           {
            "bin_end": -0.9,
            "bin_start": -1,
            "count": 16
           },
           {
            "bin_end": -0.8,
            "bin_start": -0.9,
            "count": 0
           },
           {
            "bin_end": -0.7,
            "bin_start": -0.8,
            "count": 0
           },
           {
            "bin_end": -0.6,
            "bin_start": -0.7,
            "count": 0
           },
           {
            "bin_end": -0.5,
            "bin_start": -0.6,
            "count": 0
           },
           {
            "bin_end": -0.3999999999999999,
            "bin_start": -0.5,
            "count": 0
           },
           {
            "bin_end": -0.29999999999999993,
            "bin_start": -0.3999999999999999,
            "count": 0
           },
           {
            "bin_end": -0.19999999999999996,
            "bin_start": -0.29999999999999993,
            "count": 0
           },
           {
            "bin_end": -0.09999999999999998,
            "bin_start": -0.19999999999999996,
            "count": 0
           },
           {
            "bin_end": 0,
            "bin_start": -0.09999999999999998,
            "count": 522
           }
          ],
          "max": "0",
          "min": "-1",
          "nan_count": 0,
          "unique_count": 2
         }
        },
        {
         "dtype": "int64",
         "name": "DEN_Def",
         "stats": {
          "histogram": [
           {
            "bin_end": -0.9,
            "bin_start": -1,
            "count": 16
           },
           {
            "bin_end": -0.8,
            "bin_start": -0.9,
            "count": 0
           },
           {
            "bin_end": -0.7,
            "bin_start": -0.8,
            "count": 0
           },
           {
            "bin_end": -0.6,
            "bin_start": -0.7,
            "count": 0
           },
           {
            "bin_end": -0.5,
            "bin_start": -0.6,
            "count": 0
           },
           {
            "bin_end": -0.3999999999999999,
            "bin_start": -0.5,
            "count": 0
           },
           {
            "bin_end": -0.29999999999999993,
            "bin_start": -0.3999999999999999,
            "count": 0
           },
           {
            "bin_end": -0.19999999999999996,
            "bin_start": -0.29999999999999993,
            "count": 0
           },
           {
            "bin_end": -0.09999999999999998,
            "bin_start": -0.19999999999999996,
            "count": 0
           },
           {
            "bin_end": 0,
            "bin_start": -0.09999999999999998,
            "count": 522
           }
          ],
          "max": "0",
          "min": "-1",
          "nan_count": 0,
          "unique_count": 2
         }
        },
        {
         "dtype": "int64",
         "name": "DET_Def",
         "stats": {
          "histogram": [
           {
            "bin_end": -0.9,
            "bin_start": -1,
            "count": 16
           },
           {
            "bin_end": -0.8,
            "bin_start": -0.9,
            "count": 0
           },
           {
            "bin_end": -0.7,
            "bin_start": -0.8,
            "count": 0
           },
           {
            "bin_end": -0.6,
            "bin_start": -0.7,
            "count": 0
           },
           {
            "bin_end": -0.5,
            "bin_start": -0.6,
            "count": 0
           },
           {
            "bin_end": -0.3999999999999999,
            "bin_start": -0.5,
            "count": 0
           },
           {
            "bin_end": -0.29999999999999993,
            "bin_start": -0.3999999999999999,
            "count": 0
           },
           {
            "bin_end": -0.19999999999999996,
            "bin_start": -0.29999999999999993,
            "count": 0
           },
           {
            "bin_end": -0.09999999999999998,
            "bin_start": -0.19999999999999996,
            "count": 0
           },
           {
            "bin_end": 0,
            "bin_start": -0.09999999999999998,
            "count": 522
           }
          ],
          "max": "0",
          "min": "-1",
          "nan_count": 0,
          "unique_count": 2
         }
        },
        {
         "dtype": "int64",
         "name": "GB_Def",
         "stats": {
          "histogram": [
           {
            "bin_end": -0.9,
            "bin_start": -1,
            "count": 18
           },
           {
            "bin_end": -0.8,
            "bin_start": -0.9,
            "count": 0
           },
           {
            "bin_end": -0.7,
            "bin_start": -0.8,
            "count": 0
           },
           {
            "bin_end": -0.6,
            "bin_start": -0.7,
            "count": 0
           },
           {
            "bin_end": -0.5,
            "bin_start": -0.6,
            "count": 0
           },
           {
            "bin_end": -0.3999999999999999,
            "bin_start": -0.5,
            "count": 0
           },
           {
            "bin_end": -0.29999999999999993,
            "bin_start": -0.3999999999999999,
            "count": 0
           },
           {
            "bin_end": -0.19999999999999996,
            "bin_start": -0.29999999999999993,
            "count": 0
           },
           {
            "bin_end": -0.09999999999999998,
            "bin_start": -0.19999999999999996,
            "count": 0
           },
           {
            "bin_end": 0,
            "bin_start": -0.09999999999999998,
            "count": 520
           }
          ],
          "max": "0",
          "min": "-1",
          "nan_count": 0,
          "unique_count": 2
         }
        },
        {
         "dtype": "int64",
         "name": "HOU_Def",
         "stats": {
          "histogram": [
           {
            "bin_end": -0.9,
            "bin_start": -1,
            "count": 16
           },
           {
            "bin_end": -0.8,
            "bin_start": -0.9,
            "count": 0
           },
           {
            "bin_end": -0.7,
            "bin_start": -0.8,
            "count": 0
           },
           {
            "bin_end": -0.6,
            "bin_start": -0.7,
            "count": 0
           },
           {
            "bin_end": -0.5,
            "bin_start": -0.6,
            "count": 0
           },
           {
            "bin_end": -0.3999999999999999,
            "bin_start": -0.5,
            "count": 0
           },
           {
            "bin_end": -0.29999999999999993,
            "bin_start": -0.3999999999999999,
            "count": 0
           },
           {
            "bin_end": -0.19999999999999996,
            "bin_start": -0.29999999999999993,
            "count": 0
           },
           {
            "bin_end": -0.09999999999999998,
            "bin_start": -0.19999999999999996,
            "count": 0
           },
           {
            "bin_end": 0,
            "bin_start": -0.09999999999999998,
            "count": 522
           }
          ],
          "max": "0",
          "min": "-1",
          "nan_count": 0,
          "unique_count": 2
         }
        },
        {
         "dtype": "int64",
         "name": "IND_Def",
         "stats": {
          "histogram": [
           {
            "bin_end": -0.9,
            "bin_start": -1,
            "count": 17
           },
           {
            "bin_end": -0.8,
            "bin_start": -0.9,
            "count": 0
           },
           {
            "bin_end": -0.7,
            "bin_start": -0.8,
            "count": 0
           },
           {
            "bin_end": -0.6,
            "bin_start": -0.7,
            "count": 0
           },
           {
            "bin_end": -0.5,
            "bin_start": -0.6,
            "count": 0
           },
           {
            "bin_end": -0.3999999999999999,
            "bin_start": -0.5,
            "count": 0
           },
           {
            "bin_end": -0.29999999999999993,
            "bin_start": -0.3999999999999999,
            "count": 0
           },
           {
            "bin_end": -0.19999999999999996,
            "bin_start": -0.29999999999999993,
            "count": 0
           },
           {
            "bin_end": -0.09999999999999998,
            "bin_start": -0.19999999999999996,
            "count": 0
           },
           {
            "bin_end": 0,
            "bin_start": -0.09999999999999998,
            "count": 521
           }
          ],
          "max": "0",
          "min": "-1",
          "nan_count": 0,
          "unique_count": 2
         }
        },
        {
         "dtype": "int64",
         "name": "JAX_Def",
         "stats": {
          "histogram": [
           {
            "bin_end": -0.9,
            "bin_start": -1,
            "count": 16
           },
           {
            "bin_end": -0.8,
            "bin_start": -0.9,
            "count": 0
           },
           {
            "bin_end": -0.7,
            "bin_start": -0.8,
            "count": 0
           },
           {
            "bin_end": -0.6,
            "bin_start": -0.7,
            "count": 0
           },
           {
            "bin_end": -0.5,
            "bin_start": -0.6,
            "count": 0
           },
           {
            "bin_end": -0.3999999999999999,
            "bin_start": -0.5,
            "count": 0
           },
           {
            "bin_end": -0.29999999999999993,
            "bin_start": -0.3999999999999999,
            "count": 0
           },
           {
            "bin_end": -0.19999999999999996,
            "bin_start": -0.29999999999999993,
            "count": 0
           },
           {
            "bin_end": -0.09999999999999998,
            "bin_start": -0.19999999999999996,
            "count": 0
           },
           {
            "bin_end": 0,
            "bin_start": -0.09999999999999998,
            "count": 522
           }
          ],
          "max": "0",
          "min": "-1",
          "nan_count": 0,
          "unique_count": 2
         }
        },
        {
         "dtype": "int64",
         "name": "KC_Def",
         "stats": {
          "histogram": [
           {
            "bin_end": -0.9,
            "bin_start": -1,
            "count": 19
           },
           {
            "bin_end": -0.8,
            "bin_start": -0.9,
            "count": 0
           },
           {
            "bin_end": -0.7,
            "bin_start": -0.8,
            "count": 0
           },
           {
            "bin_end": -0.6,
            "bin_start": -0.7,
            "count": 0
           },
           {
            "bin_end": -0.5,
            "bin_start": -0.6,
            "count": 0
           },
           {
            "bin_end": -0.3999999999999999,
            "bin_start": -0.5,
            "count": 0
           },
           {
            "bin_end": -0.29999999999999993,
            "bin_start": -0.3999999999999999,
            "count": 0
           },
           {
            "bin_end": -0.19999999999999996,
            "bin_start": -0.29999999999999993,
            "count": 0
           },
           {
            "bin_end": -0.09999999999999998,
            "bin_start": -0.19999999999999996,
            "count": 0
           },
           {
            "bin_end": 0,
            "bin_start": -0.09999999999999998,
            "count": 519
           }
          ],
          "max": "0",
          "min": "-1",
          "nan_count": 0,
          "unique_count": 2
         }
        },
        {
         "dtype": "int64",
         "name": "LAC_Def",
         "stats": {
          "histogram": [
           {
            "bin_end": -0.9,
            "bin_start": -1,
            "count": 16
           },
           {
            "bin_end": -0.8,
            "bin_start": -0.9,
            "count": 0
           },
           {
            "bin_end": -0.7,
            "bin_start": -0.8,
            "count": 0
           },
           {
            "bin_end": -0.6,
            "bin_start": -0.7,
            "count": 0
           },
           {
            "bin_end": -0.5,
            "bin_start": -0.6,
            "count": 0
           },
           {
            "bin_end": -0.3999999999999999,
            "bin_start": -0.5,
            "count": 0
           },
           {
            "bin_end": -0.29999999999999993,
            "bin_start": -0.3999999999999999,
            "count": 0
           },
           {
            "bin_end": -0.19999999999999996,
            "bin_start": -0.29999999999999993,
            "count": 0
           },
           {
            "bin_end": -0.09999999999999998,
            "bin_start": -0.19999999999999996,
            "count": 0
           },
           {
            "bin_end": 0,
            "bin_start": -0.09999999999999998,
            "count": 522
           }
          ],
          "max": "0",
          "min": "-1",
          "nan_count": 0,
          "unique_count": 2
         }
        },
        {
         "dtype": "int64",
         "name": "LAR_Def",
         "stats": {
          "histogram": [
           {
            "bin_end": -0.9,
            "bin_start": -1,
            "count": 18
           },
           {
            "bin_end": -0.8,
            "bin_start": -0.9,
            "count": 0
           },
           {
            "bin_end": -0.7,
            "bin_start": -0.8,
            "count": 0
           },
           {
            "bin_end": -0.6,
            "bin_start": -0.7,
            "count": 0
           },
           {
            "bin_end": -0.5,
            "bin_start": -0.6,
            "count": 0
           },
           {
            "bin_end": -0.3999999999999999,
            "bin_start": -0.5,
            "count": 0
           },
           {
            "bin_end": -0.29999999999999993,
            "bin_start": -0.3999999999999999,
            "count": 0
           },
           {
            "bin_end": -0.19999999999999996,
            "bin_start": -0.29999999999999993,
            "count": 0
           },
           {
            "bin_end": -0.09999999999999998,
            "bin_start": -0.19999999999999996,
            "count": 0
           },
           {
            "bin_end": 0,
            "bin_start": -0.09999999999999998,
            "count": 520
           }
          ],
          "max": "0",
          "min": "-1",
          "nan_count": 0,
          "unique_count": 2
         }
        },
        {
         "dtype": "int64",
         "name": "LVR_Def",
         "stats": {
          "histogram": [
           {
            "bin_end": -0.9,
            "bin_start": -1,
            "count": 16
           },
           {
            "bin_end": -0.8,
            "bin_start": -0.9,
            "count": 0
           },
           {
            "bin_end": -0.7,
            "bin_start": -0.8,
            "count": 0
           },
           {
            "bin_end": -0.6,
            "bin_start": -0.7,
            "count": 0
           },
           {
            "bin_end": -0.5,
            "bin_start": -0.6,
            "count": 0
           },
           {
            "bin_end": -0.3999999999999999,
            "bin_start": -0.5,
            "count": 0
           },
           {
            "bin_end": -0.29999999999999993,
            "bin_start": -0.3999999999999999,
            "count": 0
           },
           {
            "bin_end": -0.19999999999999996,
            "bin_start": -0.29999999999999993,
            "count": 0
           },
           {
            "bin_end": -0.09999999999999998,
            "bin_start": -0.19999999999999996,
            "count": 0
           },
           {
            "bin_end": 0,
            "bin_start": -0.09999999999999998,
            "count": 522
           }
          ],
          "max": "0",
          "min": "-1",
          "nan_count": 0,
          "unique_count": 2
         }
        },
        {
         "dtype": "int64",
         "name": "MIA_Def",
         "stats": {
          "histogram": [
           {
            "bin_end": -0.9,
            "bin_start": -1,
            "count": 16
           },
           {
            "bin_end": -0.8,
            "bin_start": -0.9,
            "count": 0
           },
           {
            "bin_end": -0.7,
            "bin_start": -0.8,
            "count": 0
           },
           {
            "bin_end": -0.6,
            "bin_start": -0.7,
            "count": 0
           },
           {
            "bin_end": -0.5,
            "bin_start": -0.6,
            "count": 0
           },
           {
            "bin_end": -0.3999999999999999,
            "bin_start": -0.5,
            "count": 0
           },
           {
            "bin_end": -0.29999999999999993,
            "bin_start": -0.3999999999999999,
            "count": 0
           },
           {
            "bin_end": -0.19999999999999996,
            "bin_start": -0.29999999999999993,
            "count": 0
           },
           {
            "bin_end": -0.09999999999999998,
            "bin_start": -0.19999999999999996,
            "count": 0
           },
           {
            "bin_end": 0,
            "bin_start": -0.09999999999999998,
            "count": 522
           }
          ],
          "max": "0",
          "min": "-1",
          "nan_count": 0,
          "unique_count": 2
         }
        },
        {
         "dtype": "int64",
         "name": "MIN_Def",
         "stats": {
          "histogram": [
           {
            "bin_end": -0.9,
            "bin_start": -1,
            "count": 16
           },
           {
            "bin_end": -0.8,
            "bin_start": -0.9,
            "count": 0
           },
           {
            "bin_end": -0.7,
            "bin_start": -0.8,
            "count": 0
           },
           {
            "bin_end": -0.6,
            "bin_start": -0.7,
            "count": 0
           },
           {
            "bin_end": -0.5,
            "bin_start": -0.6,
            "count": 0
           },
           {
            "bin_end": -0.3999999999999999,
            "bin_start": -0.5,
            "count": 0
           },
           {
            "bin_end": -0.29999999999999993,
            "bin_start": -0.3999999999999999,
            "count": 0
           },
           {
            "bin_end": -0.19999999999999996,
            "bin_start": -0.29999999999999993,
            "count": 0
           },
           {
            "bin_end": -0.09999999999999998,
            "bin_start": -0.19999999999999996,
            "count": 0
           },
           {
            "bin_end": 0,
            "bin_start": -0.09999999999999998,
            "count": 522
           }
          ],
          "max": "0",
          "min": "-1",
          "nan_count": 0,
          "unique_count": 2
         }
        },
        {
         "dtype": "int64",
         "name": "NE_Def",
         "stats": {
          "histogram": [
           {
            "bin_end": -0.9,
            "bin_start": -1,
            "count": 16
           },
           {
            "bin_end": -0.8,
            "bin_start": -0.9,
            "count": 0
           },
           {
            "bin_end": -0.7,
            "bin_start": -0.8,
            "count": 0
           },
           {
            "bin_end": -0.6,
            "bin_start": -0.7,
            "count": 0
           },
           {
            "bin_end": -0.5,
            "bin_start": -0.6,
            "count": 0
           },
           {
            "bin_end": -0.3999999999999999,
            "bin_start": -0.5,
            "count": 0
           },
           {
            "bin_end": -0.29999999999999993,
            "bin_start": -0.3999999999999999,
            "count": 0
           },
           {
            "bin_end": -0.19999999999999996,
            "bin_start": -0.29999999999999993,
            "count": 0
           },
           {
            "bin_end": -0.09999999999999998,
            "bin_start": -0.19999999999999996,
            "count": 0
           },
           {
            "bin_end": 0,
            "bin_start": -0.09999999999999998,
            "count": 522
           }
          ],
          "max": "0",
          "min": "-1",
          "nan_count": 0,
          "unique_count": 2
         }
        },
        {
         "dtype": "int64",
         "name": "NO_Def",
         "stats": {
          "histogram": [
           {
            "bin_end": -0.9,
            "bin_start": -1,
            "count": 18
           },
           {
            "bin_end": -0.8,
            "bin_start": -0.9,
            "count": 0
           },
           {
            "bin_end": -0.7,
            "bin_start": -0.8,
            "count": 0
           },
           {
            "bin_end": -0.6,
            "bin_start": -0.7,
            "count": 0
           },
           {
            "bin_end": -0.5,
            "bin_start": -0.6,
            "count": 0
           },
           {
            "bin_end": -0.3999999999999999,
            "bin_start": -0.5,
            "count": 0
           },
           {
            "bin_end": -0.29999999999999993,
            "bin_start": -0.3999999999999999,
            "count": 0
           },
           {
            "bin_end": -0.19999999999999996,
            "bin_start": -0.29999999999999993,
            "count": 0
           },
           {
            "bin_end": -0.09999999999999998,
            "bin_start": -0.19999999999999996,
            "count": 0
           },
           {
            "bin_end": 0,
            "bin_start": -0.09999999999999998,
            "count": 520
           }
          ],
          "max": "0",
          "min": "-1",
          "nan_count": 0,
          "unique_count": 2
         }
        },
        {
         "dtype": "int64",
         "name": "NYG_Def",
         "stats": {
          "histogram": [
           {
            "bin_end": -0.9,
            "bin_start": -1,
            "count": 16
           },
           {
            "bin_end": -0.8,
            "bin_start": -0.9,
            "count": 0
           },
           {
            "bin_end": -0.7,
            "bin_start": -0.8,
            "count": 0
           },
           {
            "bin_end": -0.6,
            "bin_start": -0.7,
            "count": 0
           },
           {
            "bin_end": -0.5,
            "bin_start": -0.6,
            "count": 0
           },
           {
            "bin_end": -0.3999999999999999,
            "bin_start": -0.5,
            "count": 0
           },
           {
            "bin_end": -0.29999999999999993,
            "bin_start": -0.3999999999999999,
            "count": 0
           },
           {
            "bin_end": -0.19999999999999996,
            "bin_start": -0.29999999999999993,
            "count": 0
           },
           {
            "bin_end": -0.09999999999999998,
            "bin_start": -0.19999999999999996,
            "count": 0
           },
           {
            "bin_end": 0,
            "bin_start": -0.09999999999999998,
            "count": 522
           }
          ],
          "max": "0",
          "min": "-1",
          "nan_count": 0,
          "unique_count": 2
         }
        },
        {
         "dtype": "int64",
         "name": "NYJ_Def",
         "stats": {
          "histogram": [
           {
            "bin_end": -0.9,
            "bin_start": -1,
            "count": 16
           },
           {
            "bin_end": -0.8,
            "bin_start": -0.9,
            "count": 0
           },
           {
            "bin_end": -0.7,
            "bin_start": -0.8,
            "count": 0
           },
           {
            "bin_end": -0.6,
            "bin_start": -0.7,
            "count": 0
           },
           {
            "bin_end": -0.5,
            "bin_start": -0.6,
            "count": 0
           },
           {
            "bin_end": -0.3999999999999999,
            "bin_start": -0.5,
            "count": 0
           },
           {
            "bin_end": -0.29999999999999993,
            "bin_start": -0.3999999999999999,
            "count": 0
           },
           {
            "bin_end": -0.19999999999999996,
            "bin_start": -0.29999999999999993,
            "count": 0
           },
           {
            "bin_end": -0.09999999999999998,
            "bin_start": -0.19999999999999996,
            "count": 0
           },
           {
            "bin_end": 0,
            "bin_start": -0.09999999999999998,
            "count": 522
           }
          ],
          "max": "0",
          "min": "-1",
          "nan_count": 0,
          "unique_count": 2
         }
        },
        {
         "dtype": "int64",
         "name": "PHI_Def",
         "stats": {
          "histogram": [
           {
            "bin_end": -0.9,
            "bin_start": -1,
            "count": 16
           },
           {
            "bin_end": -0.8,
            "bin_start": -0.9,
            "count": 0
           },
           {
            "bin_end": -0.7,
            "bin_start": -0.8,
            "count": 0
           },
           {
            "bin_end": -0.6,
            "bin_start": -0.7,
            "count": 0
           },
           {
            "bin_end": -0.5,
            "bin_start": -0.6,
            "count": 0
           },
           {
            "bin_end": -0.3999999999999999,
            "bin_start": -0.5,
            "count": 0
           },
           {
            "bin_end": -0.29999999999999993,
            "bin_start": -0.3999999999999999,
            "count": 0
           },
           {
            "bin_end": -0.19999999999999996,
            "bin_start": -0.29999999999999993,
            "count": 0
           },
           {
            "bin_end": -0.09999999999999998,
            "bin_start": -0.19999999999999996,
            "count": 0
           },
           {
            "bin_end": 0,
            "bin_start": -0.09999999999999998,
            "count": 522
           }
          ],
          "max": "0",
          "min": "-1",
          "nan_count": 0,
          "unique_count": 2
         }
        },
        {
         "dtype": "int64",
         "name": "PIT_Def",
         "stats": {
          "histogram": [
           {
            "bin_end": -0.9,
            "bin_start": -1,
            "count": 17
           },
           {
            "bin_end": -0.8,
            "bin_start": -0.9,
            "count": 0
           },
           {
            "bin_end": -0.7,
            "bin_start": -0.8,
            "count": 0
           },
           {
            "bin_end": -0.6,
            "bin_start": -0.7,
            "count": 0
           },
           {
            "bin_end": -0.5,
            "bin_start": -0.6,
            "count": 0
           },
           {
            "bin_end": -0.3999999999999999,
            "bin_start": -0.5,
            "count": 0
           },
           {
            "bin_end": -0.29999999999999993,
            "bin_start": -0.3999999999999999,
            "count": 0
           },
           {
            "bin_end": -0.19999999999999996,
            "bin_start": -0.29999999999999993,
            "count": 0
           },
           {
            "bin_end": -0.09999999999999998,
            "bin_start": -0.19999999999999996,
            "count": 0
           },
           {
            "bin_end": 0,
            "bin_start": -0.09999999999999998,
            "count": 521
           }
          ],
          "max": "0",
          "min": "-1",
          "nan_count": 0,
          "unique_count": 2
         }
        },
        {
         "dtype": "int64",
         "name": "SEA_Def",
         "stats": {
          "histogram": [
           {
            "bin_end": -0.9,
            "bin_start": -1,
            "count": 17
           },
           {
            "bin_end": -0.8,
            "bin_start": -0.9,
            "count": 0
           },
           {
            "bin_end": -0.7,
            "bin_start": -0.8,
            "count": 0
           },
           {
            "bin_end": -0.6,
            "bin_start": -0.7,
            "count": 0
           },
           {
            "bin_end": -0.5,
            "bin_start": -0.6,
            "count": 0
           },
           {
            "bin_end": -0.3999999999999999,
            "bin_start": -0.5,
            "count": 0
           },
           {
            "bin_end": -0.29999999999999993,
            "bin_start": -0.3999999999999999,
            "count": 0
           },
           {
            "bin_end": -0.19999999999999996,
            "bin_start": -0.29999999999999993,
            "count": 0
           },
           {
            "bin_end": -0.09999999999999998,
            "bin_start": -0.19999999999999996,
            "count": 0
           },
           {
            "bin_end": 0,
            "bin_start": -0.09999999999999998,
            "count": 521
           }
          ],
          "max": "0",
          "min": "-1",
          "nan_count": 0,
          "unique_count": 2
         }
        },
        {
         "dtype": "int64",
         "name": "SF_Def",
         "stats": {
          "histogram": [
           {
            "bin_end": -0.9,
            "bin_start": -1,
            "count": 16
           },
           {
            "bin_end": -0.8,
            "bin_start": -0.9,
            "count": 0
           },
           {
            "bin_end": -0.7,
            "bin_start": -0.8,
            "count": 0
           },
           {
            "bin_end": -0.6,
            "bin_start": -0.7,
            "count": 0
           },
           {
            "bin_end": -0.5,
            "bin_start": -0.6,
            "count": 0
           },
           {
            "bin_end": -0.3999999999999999,
            "bin_start": -0.5,
            "count": 0
           },
           {
            "bin_end": -0.29999999999999993,
            "bin_start": -0.3999999999999999,
            "count": 0
           },
           {
            "bin_end": -0.19999999999999996,
            "bin_start": -0.29999999999999993,
            "count": 0
           },
           {
            "bin_end": -0.09999999999999998,
            "bin_start": -0.19999999999999996,
            "count": 0
           },
           {
            "bin_end": 0,
            "bin_start": -0.09999999999999998,
            "count": 522
           }
          ],
          "max": "0",
          "min": "-1",
          "nan_count": 0,
          "unique_count": 2
         }
        },
        {
         "dtype": "int64",
         "name": "TB_Def",
         "stats": {
          "histogram": [
           {
            "bin_end": -0.9,
            "bin_start": -1,
            "count": 20
           },
           {
            "bin_end": -0.8,
            "bin_start": -0.9,
            "count": 0
           },
           {
            "bin_end": -0.7,
            "bin_start": -0.8,
            "count": 0
           },
           {
            "bin_end": -0.6,
            "bin_start": -0.7,
            "count": 0
           },
           {
            "bin_end": -0.5,
            "bin_start": -0.6,
            "count": 0
           },
           {
            "bin_end": -0.3999999999999999,
            "bin_start": -0.5,
            "count": 0
           },
           {
            "bin_end": -0.29999999999999993,
            "bin_start": -0.3999999999999999,
            "count": 0
           },
           {
            "bin_end": -0.19999999999999996,
            "bin_start": -0.29999999999999993,
            "count": 0
           },
           {
            "bin_end": -0.09999999999999998,
            "bin_start": -0.19999999999999996,
            "count": 0
           },
           {
            "bin_end": 0,
            "bin_start": -0.09999999999999998,
            "count": 518
           }
          ],
          "max": "0",
          "min": "-1",
          "nan_count": 0,
          "unique_count": 2
         }
        },
        {
         "dtype": "int64",
         "name": "TEN_Def",
         "stats": {
          "histogram": [
           {
            "bin_end": -0.9,
            "bin_start": -1,
            "count": 17
           },
           {
            "bin_end": -0.8,
            "bin_start": -0.9,
            "count": 0
           },
           {
            "bin_end": -0.7,
            "bin_start": -0.8,
            "count": 0
           },
           {
            "bin_end": -0.6,
            "bin_start": -0.7,
            "count": 0
           },
           {
            "bin_end": -0.5,
            "bin_start": -0.6,
            "count": 0
           },
           {
            "bin_end": -0.3999999999999999,
            "bin_start": -0.5,
            "count": 0
           },
           {
            "bin_end": -0.29999999999999993,
            "bin_start": -0.3999999999999999,
            "count": 0
           },
           {
            "bin_end": -0.19999999999999996,
            "bin_start": -0.29999999999999993,
            "count": 0
           },
           {
            "bin_end": -0.09999999999999998,
            "bin_start": -0.19999999999999996,
            "count": 0
           },
           {
            "bin_end": 0,
            "bin_start": -0.09999999999999998,
            "count": 521
           }
          ],
          "max": "0",
          "min": "-1",
          "nan_count": 0,
          "unique_count": 2
         }
        },
        {
         "dtype": "int64",
         "name": "WAS_Def",
         "stats": {
          "histogram": [
           {
            "bin_end": -0.9,
            "bin_start": -1,
            "count": 17
           },
           {
            "bin_end": -0.8,
            "bin_start": -0.9,
            "count": 0
           },
           {
            "bin_end": -0.7,
            "bin_start": -0.8,
            "count": 0
           },
           {
            "bin_end": -0.6,
            "bin_start": -0.7,
            "count": 0
           },
           {
            "bin_end": -0.5,
            "bin_start": -0.6,
            "count": 0
           },
           {
            "bin_end": -0.3999999999999999,
            "bin_start": -0.5,
            "count": 0
           },
           {
            "bin_end": -0.29999999999999993,
            "bin_start": -0.3999999999999999,
            "count": 0
           },
           {
            "bin_end": -0.19999999999999996,
            "bin_start": -0.29999999999999993,
            "count": 0
           },
           {
            "bin_end": -0.09999999999999998,
            "bin_start": -0.19999999999999996,
            "count": 0
           },
           {
            "bin_end": 0,
            "bin_start": -0.09999999999999998,
            "count": 521
           }
          ],
          "max": "0",
          "min": "-1",
          "nan_count": 0,
          "unique_count": 2
         }
        },
        {
         "dtype": "float64",
         "name": "HFA",
         "stats": {
          "histogram": [
           {
            "bin_end": -0.4,
            "bin_start": -0.5,
            "count": 269
           },
           {
            "bin_end": -0.3,
            "bin_start": -0.4,
            "count": 0
           },
           {
            "bin_end": -0.19999999999999996,
            "bin_start": -0.3,
            "count": 0
           },
           {
            "bin_end": -0.09999999999999998,
            "bin_start": -0.19999999999999996,
            "count": 0
           },
           {
            "bin_end": 0,
            "bin_start": -0.09999999999999998,
            "count": 0
           },
           {
            "bin_end": 0.10000000000000009,
            "bin_start": 0,
            "count": 0
           },
           {
            "bin_end": 0.20000000000000007,
            "bin_start": 0.10000000000000009,
            "count": 0
           },
           {
            "bin_end": 0.30000000000000004,
            "bin_start": 0.20000000000000007,
            "count": 0
           },
           {
            "bin_end": 0.4,
            "bin_start": 0.30000000000000004,
            "count": 0
           },
           {
            "bin_end": 0.5,
            "bin_start": 0.4,
            "count": 269
           }
          ],
          "max": "0.5",
          "min": "-0.5",
          "nan_count": 0,
          "unique_count": 2
         }
        },
        {
         "dtype": "float64",
         "name": "Score",
         "stats": {
          "histogram": [
           {
            "bin_end": -11.420353159851302,
            "bin_start": -13.745353159851302,
            "count": 2
           },
           {
            "bin_end": -9.095353159851301,
            "bin_start": -11.420353159851302,
            "count": 5
           },
           {
            "bin_end": -6.770353159851301,
            "bin_start": -9.095353159851301,
            "count": 20
           },
           {
            "bin_end": -4.445353159851301,
            "bin_start": -6.770353159851301,
            "count": 73
           },
           {
            "bin_end": -2.1203531598513017,
            "bin_start": -4.445353159851301,
            "count": 87
           },
           {
            "bin_end": 0.20464684014869938,
            "bin_start": -2.1203531598513017,
            "count": 111
           },
           {
            "bin_end": 2.5296468401487004,
            "bin_start": 0.20464684014869938,
            "count": 127
           },
           {
            "bin_end": 4.8546468401487,
            "bin_start": 2.5296468401487004,
            "count": 75
           },
           {
            "bin_end": 7.179646840148699,
            "bin_start": 4.8546468401487,
            "count": 29
           },
           {
            "bin_end": 9.504646840148698,
            "bin_start": 7.179646840148699,
            "count": 9
           }
          ],
          "max": "9.504646840148698",
          "min": "-13.745353159851302",
          "nan_count": 0,
          "unique_count": 77
         }
        },
        {
         "dtype": "int64",
         "name": "_deepnote_index_column"
        }
       ],
       "row_count": 538,
       "rows_bottom": [
        {
         "ARI_Def": 0,
         "ARI_Off": 0,
         "ATL_Def": 0,
         "ATL_Off": 0,
         "BAL_Def": 0,
         "BAL_Off": 0,
         "BUF_Def": 0,
         "BUF_Off": 0,
         "CAR_Def": 0,
         "CAR_Off": 0,
         "CHI_Def": 0,
         "CHI_Off": 0,
         "CIN_Def": 0,
         "CIN_Off": 0,
         "CLE_Def": 0,
         "CLE_Off": 0,
         "DAL_Def": 0,
         "DAL_Off": 0,
         "DEN_Def": 0,
         "DEN_Off": 0,
         "DET_Def": 0,
         "DET_Off": 0,
         "GB_Def": 0,
         "GB_Off": 0,
         "HFA": 0.5,
         "HOU_Def": 0,
         "HOU_Off": 0,
         "IND_Def": 0,
         "IND_Off": 0,
         "JAX_Def": 0,
         "JAX_Off": 0,
         "KC_Def": 0,
         "KC_Off": 0,
         "LAC_Def": 0,
         "LAC_Off": 0,
         "LAR_Def": 0,
         "LAR_Off": 0,
         "LVR_Def": 0,
         "LVR_Off": 0,
         "MIA_Def": 0,
         "MIA_Off": 0,
         "MIN_Def": 0,
         "MIN_Off": 0,
         "NE_Def": 0,
         "NE_Off": 0,
         "NO_Def": 0,
         "NO_Off": 1,
         "NYG_Def": 0,
         "NYG_Off": 0,
         "NYJ_Def": 0,
         "NYJ_Off": 0,
         "PHI_Def": 0,
         "PHI_Off": 0,
         "PIT_Def": 0,
         "PIT_Off": 0,
         "SEA_Def": 0,
         "SEA_Off": 0,
         "SF_Def": 0,
         "SF_Off": 0,
         "Score": 3.0046468401486983,
         "TB_Def": -1,
         "TB_Off": 0,
         "TEN_Def": 0,
         "TEN_Off": 0,
         "WAS_Def": 0,
         "WAS_Off": 0,
         "_deepnote_index_column": 530
        },
        {
         "ARI_Def": 0,
         "ARI_Off": 0,
         "ATL_Def": 0,
         "ATL_Off": 0,
         "BAL_Def": 0,
         "BAL_Off": 0,
         "BUF_Def": 0,
         "BUF_Off": 0,
         "CAR_Def": 0,
         "CAR_Off": 0,
         "CHI_Def": 0,
         "CHI_Off": 0,
         "CIN_Def": 0,
         "CIN_Off": 0,
         "CLE_Def": 0,
         "CLE_Off": 0,
         "DAL_Def": 0,
         "DAL_Off": 0,
         "DEN_Def": 0,
         "DEN_Off": 0,
         "DET_Def": 0,
         "DET_Off": 0,
         "GB_Def": 0,
         "GB_Off": 0,
         "HFA": -0.5,
         "HOU_Def": 0,
         "HOU_Off": 0,
         "IND_Def": 0,
         "IND_Off": 0,
         "JAX_Def": 0,
         "JAX_Off": 0,
         "KC_Def": 0,
         "KC_Off": 0,
         "LAC_Def": 0,
         "LAC_Off": 0,
         "LAR_Def": 0,
         "LAR_Off": 0,
         "LVR_Def": 0,
         "LVR_Off": 0,
         "MIA_Def": 0,
         "MIA_Off": 0,
         "MIN_Def": 0,
         "MIN_Off": 0,
         "NE_Def": 0,
         "NE_Off": 0,
         "NO_Def": -1,
         "NO_Off": 0,
         "NYG_Def": 0,
         "NYG_Off": 0,
         "NYJ_Def": 0,
         "NYJ_Off": 0,
         "PHI_Def": 0,
         "PHI_Off": 0,
         "PIT_Def": 0,
         "PIT_Off": 0,
         "SEA_Def": 0,
         "SEA_Off": 0,
         "SF_Def": 0,
         "SF_Off": 0,
         "Score": 0.5046468401486983,
         "TB_Def": 0,
         "TB_Off": 1,
         "TEN_Def": 0,
         "TEN_Off": 0,
         "WAS_Def": 0,
         "WAS_Off": 0,
         "_deepnote_index_column": 531
        },
        {
         "ARI_Def": 0,
         "ARI_Off": 0,
         "ATL_Def": 0,
         "ATL_Off": 0,
         "BAL_Def": 0,
         "BAL_Off": 0,
         "BUF_Def": 0,
         "BUF_Off": 0,
         "CAR_Def": 0,
         "CAR_Off": 0,
         "CHI_Def": 0,
         "CHI_Off": 0,
         "CIN_Def": 0,
         "CIN_Off": 0,
         "CLE_Def": 0,
         "CLE_Off": 0,
         "DAL_Def": 0,
         "DAL_Off": 0,
         "DEN_Def": 0,
         "DEN_Off": 0,
         "DET_Def": 0,
         "DET_Off": 0,
         "GB_Def": 0,
         "GB_Off": 1,
         "HFA": 0.5,
         "HOU_Def": 0,
         "HOU_Off": 0,
         "IND_Def": 0,
         "IND_Off": 0,
         "JAX_Def": 0,
         "JAX_Off": 0,
         "KC_Def": 0,
         "KC_Off": 0,
         "LAC_Def": 0,
         "LAC_Off": 0,
         "LAR_Def": 0,
         "LAR_Off": 0,
         "LVR_Def": 0,
         "LVR_Off": 0,
         "MIA_Def": 0,
         "MIA_Off": 0,
         "MIN_Def": 0,
         "MIN_Off": 0,
         "NE_Def": 0,
         "NE_Off": 0,
         "NO_Def": 0,
         "NO_Off": 0,
         "NYG_Def": 0,
         "NYG_Off": 0,
         "NYJ_Def": 0,
         "NYJ_Off": 0,
         "PHI_Def": 0,
         "PHI_Off": 0,
         "PIT_Def": 0,
         "PIT_Off": 0,
         "SEA_Def": 0,
         "SEA_Off": 0,
         "SF_Def": 0,
         "SF_Off": 0,
         "Score": 3.2546468401486983,
         "TB_Def": -1,
         "TB_Off": 0,
         "TEN_Def": 0,
         "TEN_Off": 0,
         "WAS_Def": 0,
         "WAS_Off": 0,
         "_deepnote_index_column": 532
        },
        {
         "ARI_Def": 0,
         "ARI_Off": 0,
         "ATL_Def": 0,
         "ATL_Off": 0,
         "BAL_Def": 0,
         "BAL_Off": 0,
         "BUF_Def": 0,
         "BUF_Off": 0,
         "CAR_Def": 0,
         "CAR_Off": 0,
         "CHI_Def": 0,
         "CHI_Off": 0,
         "CIN_Def": 0,
         "CIN_Off": 0,
         "CLE_Def": 0,
         "CLE_Off": 0,
         "DAL_Def": 0,
         "DAL_Off": 0,
         "DEN_Def": 0,
         "DEN_Off": 0,
         "DET_Def": 0,
         "DET_Off": 0,
         "GB_Def": -1,
         "GB_Off": 0,
         "HFA": -0.5,
         "HOU_Def": 0,
         "HOU_Off": 0,
         "IND_Def": 0,
         "IND_Off": 0,
         "JAX_Def": 0,
         "JAX_Off": 0,
         "KC_Def": 0,
         "KC_Off": 0,
         "LAC_Def": 0,
         "LAC_Off": 0,
         "LAR_Def": 0,
         "LAR_Off": 0,
         "LVR_Def": 0,
         "LVR_Off": 0,
         "MIA_Def": 0,
         "MIA_Off": 0,
         "MIN_Def": 0,
         "MIN_Off": 0,
         "NE_Def": 0,
         "NE_Off": 0,
         "NO_Def": 0,
         "NO_Off": 0,
         "NYG_Def": 0,
         "NYG_Off": 0,
         "NYJ_Def": 0,
         "NYJ_Off": 0,
         "PHI_Def": 0,
         "PHI_Off": 0,
         "PIT_Def": 0,
         "PIT_Off": 0,
         "SEA_Def": 0,
         "SEA_Off": 0,
         "SF_Def": 0,
         "SF_Off": 0,
         "Score": 0.2546468401486983,
         "TB_Def": 0,
         "TB_Off": 1,
         "TEN_Def": 0,
         "TEN_Off": 0,
         "WAS_Def": 0,
         "WAS_Off": 0,
         "_deepnote_index_column": 533
        },
        {
         "ARI_Def": 0,
         "ARI_Off": 0,
         "ATL_Def": 0,
         "ATL_Off": 0,
         "BAL_Def": 0,
         "BAL_Off": 0,
         "BUF_Def": -1,
         "BUF_Off": 0,
         "CAR_Def": 0,
         "CAR_Off": 0,
         "CHI_Def": 0,
         "CHI_Off": 0,
         "CIN_Def": 0,
         "CIN_Off": 0,
         "CLE_Def": 0,
         "CLE_Off": 0,
         "DAL_Def": 0,
         "DAL_Off": 0,
         "DEN_Def": 0,
         "DEN_Off": 0,
         "DET_Def": 0,
         "DET_Off": 0,
         "GB_Def": 0,
         "GB_Off": 0,
         "HFA": 0.5,
         "HOU_Def": 0,
         "HOU_Off": 0,
         "IND_Def": 0,
         "IND_Off": 0,
         "JAX_Def": 0,
         "JAX_Off": 0,
         "KC_Def": 0,
         "KC_Off": 1,
         "LAC_Def": 0,
         "LAC_Off": 0,
         "LAR_Def": 0,
         "LAR_Off": 0,
         "LVR_Def": 0,
         "LVR_Off": 0,
         "MIA_Def": 0,
         "MIA_Off": 0,
         "MIN_Def": 0,
         "MIN_Off": 0,
         "NE_Def": 0,
         "NE_Off": 0,
         "NO_Def": 0,
         "NO_Off": 0,
         "NYG_Def": 0,
         "NYG_Off": 0,
         "NYJ_Def": 0,
         "NYJ_Off": 0,
         "PHI_Def": 0,
         "PHI_Off": 0,
         "PIT_Def": 0,
         "PIT_Off": 0,
         "SEA_Def": 0,
         "SEA_Off": 0,
         "SF_Def": 0,
         "SF_Off": 0,
         "Score": 4.254646840148698,
         "TB_Def": 0,
         "TB_Off": 0,
         "TEN_Def": 0,
         "TEN_Off": 0,
         "WAS_Def": 0,
         "WAS_Off": 0,
         "_deepnote_index_column": 534
        },
        {
         "ARI_Def": 0,
         "ARI_Off": 0,
         "ATL_Def": 0,
         "ATL_Off": 0,
         "BAL_Def": 0,
         "BAL_Off": 0,
         "BUF_Def": 0,
         "BUF_Off": 1,
         "CAR_Def": 0,
         "CAR_Off": 0,
         "CHI_Def": 0,
         "CHI_Off": 0,
         "CIN_Def": 0,
         "CIN_Off": 0,
         "CLE_Def": 0,
         "CLE_Off": 0,
         "DAL_Def": 0,
         "DAL_Off": 0,
         "DEN_Def": 0,
         "DEN_Off": 0,
         "DET_Def": 0,
         "DET_Off": 0,
         "GB_Def": 0,
         "GB_Off": 0,
         "HFA": -0.5,
         "HOU_Def": 0,
         "HOU_Off": 0,
         "IND_Def": 0,
         "IND_Off": 0,
         "JAX_Def": 0,
         "JAX_Off": 0,
         "KC_Def": -1,
         "KC_Off": 0,
         "LAC_Def": 0,
         "LAC_Off": 0,
         "LAR_Def": 0,
         "LAR_Off": 0,
         "LVR_Def": 0,
         "LVR_Off": 0,
         "MIA_Def": 0,
         "MIA_Off": 0,
         "MIN_Def": 0,
         "MIN_Off": 0,
         "NE_Def": 0,
         "NE_Off": 0,
         "NO_Def": 0,
         "NO_Off": 0,
         "NYG_Def": 0,
         "NYG_Off": 0,
         "NYJ_Def": 0,
         "NYJ_Off": 0,
         "PHI_Def": 0,
         "PHI_Off": 0,
         "PIT_Def": 0,
         "PIT_Off": 0,
         "SEA_Def": 0,
         "SEA_Off": 0,
         "SF_Def": 0,
         "SF_Off": 0,
         "Score": 1.2546468401486983,
         "TB_Def": 0,
         "TB_Off": 0,
         "TEN_Def": 0,
         "TEN_Off": 0,
         "WAS_Def": 0,
         "WAS_Off": 0,
         "_deepnote_index_column": 535
        },
        {
         "ARI_Def": 0,
         "ARI_Off": 0,
         "ATL_Def": 0,
         "ATL_Off": 0,
         "BAL_Def": 0,
         "BAL_Off": 0,
         "BUF_Def": 0,
         "BUF_Off": 0,
         "CAR_Def": 0,
         "CAR_Off": 0,
         "CHI_Def": 0,
         "CHI_Off": 0,
         "CIN_Def": 0,
         "CIN_Off": 0,
         "CLE_Def": 0,
         "CLE_Off": 0,
         "DAL_Def": 0,
         "DAL_Off": 0,
         "DEN_Def": 0,
         "DEN_Off": 0,
         "DET_Def": 0,
         "DET_Off": 0,
         "GB_Def": 0,
         "GB_Off": 0,
         "HFA": 0.5,
         "HOU_Def": 0,
         "HOU_Off": 0,
         "IND_Def": 0,
         "IND_Off": 0,
         "JAX_Def": 0,
         "JAX_Off": 0,
         "KC_Def": -1,
         "KC_Off": 0,
         "LAC_Def": 0,
         "LAC_Off": 0,
         "LAR_Def": 0,
         "LAR_Off": 0,
         "LVR_Def": 0,
         "LVR_Off": 0,
         "MIA_Def": 0,
         "MIA_Off": 0,
         "MIN_Def": 0,
         "MIN_Off": 0,
         "NE_Def": 0,
         "NE_Off": 0,
         "NO_Def": 0,
         "NO_Off": 0,
         "NYG_Def": 0,
         "NYG_Off": 0,
         "NYJ_Def": 0,
         "NYJ_Off": 0,
         "PHI_Def": 0,
         "PHI_Off": 0,
         "PIT_Def": 0,
         "PIT_Off": 0,
         "SEA_Def": 0,
         "SEA_Off": 0,
         "SF_Def": 0,
         "SF_Off": 0,
         "Score": 1.0046468401486983,
         "TB_Def": 0,
         "TB_Off": 1,
         "TEN_Def": 0,
         "TEN_Off": 0,
         "WAS_Def": 0,
         "WAS_Off": 0,
         "_deepnote_index_column": 536
        },
        {
         "ARI_Def": 0,
         "ARI_Off": 0,
         "ATL_Def": 0,
         "ATL_Off": 0,
         "BAL_Def": 0,
         "BAL_Off": 0,
         "BUF_Def": 0,
         "BUF_Off": 0,
         "CAR_Def": 0,
         "CAR_Off": 0,
         "CHI_Def": 0,
         "CHI_Off": 0,
         "CIN_Def": 0,
         "CIN_Off": 0,
         "CLE_Def": 0,
         "CLE_Off": 0,
         "DAL_Def": 0,
         "DAL_Off": 0,
         "DEN_Def": 0,
         "DEN_Off": 0,
         "DET_Def": 0,
         "DET_Off": 0,
         "GB_Def": 0,
         "GB_Off": 0,
         "HFA": -0.5,
         "HOU_Def": 0,
         "HOU_Off": 0,
         "IND_Def": 0,
         "IND_Off": 0,
         "JAX_Def": 0,
         "JAX_Off": 0,
         "KC_Def": 0,
         "KC_Off": 1,
         "LAC_Def": 0,
         "LAC_Off": 0,
         "LAR_Def": 0,
         "LAR_Off": 0,
         "LVR_Def": 0,
         "LVR_Off": 0,
         "MIA_Def": 0,
         "MIA_Off": 0,
         "MIN_Def": 0,
         "MIN_Off": 0,
         "NE_Def": 0,
         "NE_Off": 0,
         "NO_Def": 0,
         "NO_Off": 0,
         "NYG_Def": 0,
         "NYG_Off": 0,
         "NYJ_Def": 0,
         "NYJ_Off": 0,
         "PHI_Def": 0,
         "PHI_Off": 0,
         "PIT_Def": 0,
         "PIT_Off": 0,
         "SEA_Def": 0,
         "SEA_Off": 0,
         "SF_Def": 0,
         "SF_Off": 0,
         "Score": 4.004646840148698,
         "TB_Def": -1,
         "TB_Off": 0,
         "TEN_Def": 0,
         "TEN_Off": 0,
         "WAS_Def": 0,
         "WAS_Off": 0,
         "_deepnote_index_column": 537
        }
       ],
       "rows_top": [
        {
         "ARI_Def": 0,
         "ARI_Off": 0,
         "ATL_Def": 0,
         "ATL_Off": 0,
         "BAL_Def": 0,
         "BAL_Off": 0,
         "BUF_Def": 0,
         "BUF_Off": 0,
         "CAR_Def": 0,
         "CAR_Off": 0,
         "CHI_Def": 0,
         "CHI_Off": 0,
         "CIN_Def": 0,
         "CIN_Off": 0,
         "CLE_Def": 0,
         "CLE_Off": 0,
         "DAL_Def": 0,
         "DAL_Off": 0,
         "DEN_Def": 0,
         "DEN_Off": 0,
         "DET_Def": 0,
         "DET_Off": 0,
         "GB_Def": 0,
         "GB_Off": 0,
         "HFA": 0.5,
         "HOU_Def": -1,
         "HOU_Off": 0,
         "IND_Def": 0,
         "IND_Off": 0,
         "JAX_Def": 0,
         "JAX_Off": 0,
         "KC_Def": 0,
         "KC_Off": 1,
         "LAC_Def": 0,
         "LAC_Off": 0,
         "LAR_Def": 0,
         "LAR_Off": 0,
         "LVR_Def": 0,
         "LVR_Off": 0,
         "MIA_Def": 0,
         "MIA_Off": 0,
         "MIN_Def": 0,
         "MIN_Off": 0,
         "NE_Def": 0,
         "NE_Off": 0,
         "NO_Def": 0,
         "NO_Off": 0,
         "NYG_Def": 0,
         "NYG_Off": 0,
         "NYJ_Def": 0,
         "NYJ_Off": 0,
         "PHI_Def": 0,
         "PHI_Off": 0,
         "PIT_Def": 0,
         "PIT_Off": 0,
         "SEA_Def": 0,
         "SEA_Off": 0,
         "SF_Def": 0,
         "SF_Off": 0,
         "Score": 6.754646840148698,
         "TB_Def": 0,
         "TB_Off": 0,
         "TEN_Def": 0,
         "TEN_Off": 0,
         "WAS_Def": 0,
         "WAS_Off": 0,
         "_deepnote_index_column": 0
        },
        {
         "ARI_Def": 0,
         "ARI_Off": 0,
         "ATL_Def": 0,
         "ATL_Off": 0,
         "BAL_Def": 0,
         "BAL_Off": 0,
         "BUF_Def": 0,
         "BUF_Off": 0,
         "CAR_Def": 0,
         "CAR_Off": 0,
         "CHI_Def": 0,
         "CHI_Off": 0,
         "CIN_Def": 0,
         "CIN_Off": 0,
         "CLE_Def": 0,
         "CLE_Off": 0,
         "DAL_Def": 0,
         "DAL_Off": 0,
         "DEN_Def": 0,
         "DEN_Off": 0,
         "DET_Def": 0,
         "DET_Off": 0,
         "GB_Def": 0,
         "GB_Off": 0,
         "HFA": -0.5,
         "HOU_Def": 0,
         "HOU_Off": 1,
         "IND_Def": 0,
         "IND_Off": 0,
         "JAX_Def": 0,
         "JAX_Off": 0,
         "KC_Def": -1,
         "KC_Off": 0,
         "LAC_Def": 0,
         "LAC_Off": 0,
         "LAR_Def": 0,
         "LAR_Off": 0,
         "LVR_Def": 0,
         "LVR_Off": 0,
         "MIA_Def": 0,
         "MIA_Off": 0,
         "MIN_Def": 0,
         "MIN_Off": 0,
         "NE_Def": 0,
         "NE_Off": 0,
         "NO_Def": 0,
         "NO_Off": 0,
         "NYG_Def": 0,
         "NYG_Off": 0,
         "NYJ_Def": 0,
         "NYJ_Off": 0,
         "PHI_Def": 0,
         "PHI_Off": 0,
         "PIT_Def": 0,
         "PIT_Off": 0,
         "SEA_Def": 0,
         "SEA_Off": 0,
         "SF_Def": 0,
         "SF_Off": 0,
         "Score": -2.2453531598513017,
         "TB_Def": 0,
         "TB_Off": 0,
         "TEN_Def": 0,
         "TEN_Off": 0,
         "WAS_Def": 0,
         "WAS_Off": 0,
         "_deepnote_index_column": 1
        },
        {
         "ARI_Def": 0,
         "ARI_Off": 0,
         "ATL_Def": 0,
         "ATL_Off": 1,
         "BAL_Def": 0,
         "BAL_Off": 0,
         "BUF_Def": 0,
         "BUF_Off": 0,
         "CAR_Def": 0,
         "CAR_Off": 0,
         "CHI_Def": 0,
         "CHI_Off": 0,
         "CIN_Def": 0,
         "CIN_Off": 0,
         "CLE_Def": 0,
         "CLE_Off": 0,
         "DAL_Def": 0,
         "DAL_Off": 0,
         "DEN_Def": 0,
         "DEN_Off": 0,
         "DET_Def": 0,
         "DET_Off": 0,
         "GB_Def": 0,
         "GB_Off": 0,
         "HFA": 0.5,
         "HOU_Def": 0,
         "HOU_Off": 0,
         "IND_Def": 0,
         "IND_Off": 0,
         "JAX_Def": 0,
         "JAX_Off": 0,
         "KC_Def": 0,
         "KC_Off": 0,
         "LAC_Def": 0,
         "LAC_Off": 0,
         "LAR_Def": 0,
         "LAR_Off": 0,
         "LVR_Def": 0,
         "LVR_Off": 0,
         "MIA_Def": 0,
         "MIA_Off": 0,
         "MIN_Def": 0,
         "MIN_Off": 0,
         "NE_Def": 0,
         "NE_Off": 0,
         "NO_Def": 0,
         "NO_Off": 0,
         "NYG_Def": 0,
         "NYG_Off": 0,
         "NYJ_Def": 0,
         "NYJ_Off": 0,
         "PHI_Def": 0,
         "PHI_Off": 0,
         "PIT_Def": 0,
         "PIT_Off": 0,
         "SEA_Def": -1,
         "SEA_Off": 0,
         "SF_Def": 0,
         "SF_Off": 0,
         "Score": -0.7453531598513017,
         "TB_Def": 0,
         "TB_Off": 0,
         "TEN_Def": 0,
         "TEN_Off": 0,
         "WAS_Def": 0,
         "WAS_Off": 0,
         "_deepnote_index_column": 2
        },
        {
         "ARI_Def": 0,
         "ARI_Off": 0,
         "ATL_Def": -1,
         "ATL_Off": 0,
         "BAL_Def": 0,
         "BAL_Off": 0,
         "BUF_Def": 0,
         "BUF_Off": 0,
         "CAR_Def": 0,
         "CAR_Off": 0,
         "CHI_Def": 0,
         "CHI_Off": 0,
         "CIN_Def": 0,
         "CIN_Off": 0,
         "CLE_Def": 0,
         "CLE_Off": 0,
         "DAL_Def": 0,
         "DAL_Off": 0,
         "DEN_Def": 0,
         "DEN_Off": 0,
         "DET_Def": 0,
         "DET_Off": 0,
         "GB_Def": 0,
         "GB_Off": 0,
         "HFA": -0.5,
         "HOU_Def": 0,
         "HOU_Off": 0,
         "IND_Def": 0,
         "IND_Off": 0,
         "JAX_Def": 0,
         "JAX_Off": 0,
         "KC_Def": 0,
         "KC_Off": 0,
         "LAC_Def": 0,
         "LAC_Off": 0,
         "LAR_Def": 0,
         "LAR_Off": 0,
         "LVR_Def": 0,
         "LVR_Off": 0,
         "MIA_Def": 0,
         "MIA_Off": 0,
         "MIN_Def": 0,
         "MIN_Off": 0,
         "NE_Def": 0,
         "NE_Off": 0,
         "NO_Def": 0,
         "NO_Off": 0,
         "NYG_Def": 0,
         "NYG_Off": 0,
         "NYJ_Def": 0,
         "NYJ_Off": 0,
         "PHI_Def": 0,
         "PHI_Off": 0,
         "PIT_Def": 0,
         "PIT_Off": 0,
         "SEA_Def": 0,
         "SEA_Off": 1,
         "SF_Def": 0,
         "SF_Off": 0,
         "Score": 0.2546468401486983,
         "TB_Def": 0,
         "TB_Off": 0,
         "TEN_Def": 0,
         "TEN_Off": 0,
         "WAS_Def": 0,
         "WAS_Off": 0,
         "_deepnote_index_column": 3
        },
        {
         "ARI_Def": 0,
         "ARI_Off": 0,
         "ATL_Def": 0,
         "ATL_Off": 0,
         "BAL_Def": 0,
         "BAL_Off": 1,
         "BUF_Def": 0,
         "BUF_Off": 0,
         "CAR_Def": 0,
         "CAR_Off": 0,
         "CHI_Def": 0,
         "CHI_Off": 0,
         "CIN_Def": 0,
         "CIN_Off": 0,
         "CLE_Def": -1,
         "CLE_Off": 0,
         "DAL_Def": 0,
         "DAL_Off": 0,
         "DEN_Def": 0,
         "DEN_Off": 0,
         "DET_Def": 0,
         "DET_Off": 0,
         "GB_Def": 0,
         "GB_Off": 0,
         "HFA": 0.5,
         "HOU_Def": 0,
         "HOU_Off": 0,
         "IND_Def": 0,
         "IND_Off": 0,
         "JAX_Def": 0,
         "JAX_Off": 0,
         "KC_Def": 0,
         "KC_Off": 0,
         "LAC_Def": 0,
         "LAC_Off": 0,
         "LAR_Def": 0,
         "LAR_Off": 0,
         "LVR_Def": 0,
         "LVR_Off": 0,
         "MIA_Def": 0,
         "MIA_Off": 0,
         "MIN_Def": 0,
         "MIN_Off": 0,
         "NE_Def": 0,
         "NE_Off": 0,
         "NO_Def": 0,
         "NO_Off": 0,
         "NYG_Def": 0,
         "NYG_Off": 0,
         "NYJ_Def": 0,
         "NYJ_Off": 0,
         "PHI_Def": 0,
         "PHI_Off": 0,
         "PIT_Def": 0,
         "PIT_Off": 0,
         "SEA_Def": 0,
         "SEA_Off": 0,
         "SF_Def": 0,
         "SF_Off": 0,
         "Score": 2.5046468401486983,
         "TB_Def": 0,
         "TB_Off": 0,
         "TEN_Def": 0,
         "TEN_Off": 0,
         "WAS_Def": 0,
         "WAS_Off": 0,
         "_deepnote_index_column": 4
        },
        {
         "ARI_Def": 0,
         "ARI_Off": 0,
         "ATL_Def": 0,
         "ATL_Off": 0,
         "BAL_Def": -1,
         "BAL_Off": 0,
         "BUF_Def": 0,
         "BUF_Off": 0,
         "CAR_Def": 0,
         "CAR_Off": 0,
         "CHI_Def": 0,
         "CHI_Off": 0,
         "CIN_Def": 0,
         "CIN_Off": 0,
         "CLE_Def": 0,
         "CLE_Off": 1,
         "DAL_Def": 0,
         "DAL_Off": 0,
         "DEN_Def": 0,
         "DEN_Off": 0,
         "DET_Def": 0,
         "DET_Off": 0,
         "GB_Def": 0,
         "GB_Off": 0,
         "HFA": -0.5,
         "HOU_Def": 0,
         "HOU_Off": 0,
         "IND_Def": 0,
         "IND_Off": 0,
         "JAX_Def": 0,
         "JAX_Off": 0,
         "KC_Def": 0,
         "KC_Off": 0,
         "LAC_Def": 0,
         "LAC_Off": 0,
         "LAR_Def": 0,
         "LAR_Off": 0,
         "LVR_Def": 0,
         "LVR_Off": 0,
         "MIA_Def": 0,
         "MIA_Off": 0,
         "MIN_Def": 0,
         "MIN_Off": 0,
         "NE_Def": 0,
         "NE_Off": 0,
         "NO_Def": 0,
         "NO_Off": 0,
         "NYG_Def": 0,
         "NYG_Off": 0,
         "NYJ_Def": 0,
         "NYJ_Off": 0,
         "PHI_Def": 0,
         "PHI_Off": 0,
         "PIT_Def": 0,
         "PIT_Off": 0,
         "SEA_Def": 0,
         "SEA_Off": 0,
         "SF_Def": 0,
         "SF_Off": 0,
         "Score": -4.495353159851302,
         "TB_Def": 0,
         "TB_Off": 0,
         "TEN_Def": 0,
         "TEN_Off": 0,
         "WAS_Def": 0,
         "WAS_Off": 0,
         "_deepnote_index_column": 5
        },
        {
         "ARI_Def": 0,
         "ARI_Off": 0,
         "ATL_Def": 0,
         "ATL_Off": 0,
         "BAL_Def": 0,
         "BAL_Off": 0,
         "BUF_Def": 0,
         "BUF_Off": 1,
         "CAR_Def": 0,
         "CAR_Off": 0,
         "CHI_Def": 0,
         "CHI_Off": 0,
         "CIN_Def": 0,
         "CIN_Off": 0,
         "CLE_Def": 0,
         "CLE_Off": 0,
         "DAL_Def": 0,
         "DAL_Off": 0,
         "DEN_Def": 0,
         "DEN_Off": 0,
         "DET_Def": 0,
         "DET_Off": 0,
         "GB_Def": 0,
         "GB_Off": 0,
         "HFA": 0.5,
         "HOU_Def": 0,
         "HOU_Off": 0,
         "IND_Def": 0,
         "IND_Off": 0,
         "JAX_Def": 0,
         "JAX_Off": 0,
         "KC_Def": 0,
         "KC_Off": 0,
         "LAC_Def": 0,
         "LAC_Off": 0,
         "LAR_Def": 0,
         "LAR_Off": 0,
         "LVR_Def": 0,
         "LVR_Off": 0,
         "MIA_Def": 0,
         "MIA_Off": 0,
         "MIN_Def": 0,
         "MIN_Off": 0,
         "NE_Def": 0,
         "NE_Off": 0,
         "NO_Def": 0,
         "NO_Off": 0,
         "NYG_Def": 0,
         "NYG_Off": 0,
         "NYJ_Def": -1,
         "NYJ_Off": 0,
         "PHI_Def": 0,
         "PHI_Off": 0,
         "PIT_Def": 0,
         "PIT_Off": 0,
         "SEA_Def": 0,
         "SEA_Off": 0,
         "SF_Def": 0,
         "SF_Off": 0,
         "Score": -1.7453531598513017,
         "TB_Def": 0,
         "TB_Off": 0,
         "TEN_Def": 0,
         "TEN_Off": 0,
         "WAS_Def": 0,
         "WAS_Off": 0,
         "_deepnote_index_column": 6
        }
       ]
      },
      "text/html": [
       "<div>\n",
       "<style scoped>\n",
       "    .dataframe tbody tr th:only-of-type {\n",
       "        vertical-align: middle;\n",
       "    }\n",
       "\n",
       "    .dataframe tbody tr th {\n",
       "        vertical-align: top;\n",
       "    }\n",
       "\n",
       "    .dataframe thead th {\n",
       "        text-align: right;\n",
       "    }\n",
       "</style>\n",
       "<table border=\"1\" class=\"dataframe\">\n",
       "  <thead>\n",
       "    <tr style=\"text-align: right;\">\n",
       "      <th></th>\n",
       "      <th>ARI_Off</th>\n",
       "      <th>ATL_Off</th>\n",
       "      <th>BAL_Off</th>\n",
       "      <th>BUF_Off</th>\n",
       "      <th>CAR_Off</th>\n",
       "      <th>CHI_Off</th>\n",
       "      <th>CIN_Off</th>\n",
       "      <th>CLE_Off</th>\n",
       "      <th>DAL_Off</th>\n",
       "      <th>DEN_Off</th>\n",
       "      <th>...</th>\n",
       "      <th>NYJ_Def</th>\n",
       "      <th>PHI_Def</th>\n",
       "      <th>PIT_Def</th>\n",
       "      <th>SEA_Def</th>\n",
       "      <th>SF_Def</th>\n",
       "      <th>TB_Def</th>\n",
       "      <th>TEN_Def</th>\n",
       "      <th>WAS_Def</th>\n",
       "      <th>HFA</th>\n",
       "      <th>Score</th>\n",
       "    </tr>\n",
       "  </thead>\n",
       "  <tbody>\n",
       "    <tr>\n",
       "      <th>0</th>\n",
       "      <td>0</td>\n",
       "      <td>0</td>\n",
       "      <td>0</td>\n",
       "      <td>0</td>\n",
       "      <td>0</td>\n",
       "      <td>0</td>\n",
       "      <td>0</td>\n",
       "      <td>0</td>\n",
       "      <td>0</td>\n",
       "      <td>0</td>\n",
       "      <td>...</td>\n",
       "      <td>0</td>\n",
       "      <td>0</td>\n",
       "      <td>0</td>\n",
       "      <td>0</td>\n",
       "      <td>0</td>\n",
       "      <td>0</td>\n",
       "      <td>0</td>\n",
       "      <td>0</td>\n",
       "      <td>0.5</td>\n",
       "      <td>6.754647</td>\n",
       "    </tr>\n",
       "    <tr>\n",
       "      <th>1</th>\n",
       "      <td>0</td>\n",
       "      <td>0</td>\n",
       "      <td>0</td>\n",
       "      <td>0</td>\n",
       "      <td>0</td>\n",
       "      <td>0</td>\n",
       "      <td>0</td>\n",
       "      <td>0</td>\n",
       "      <td>0</td>\n",
       "      <td>0</td>\n",
       "      <td>...</td>\n",
       "      <td>0</td>\n",
       "      <td>0</td>\n",
       "      <td>0</td>\n",
       "      <td>0</td>\n",
       "      <td>0</td>\n",
       "      <td>0</td>\n",
       "      <td>0</td>\n",
       "      <td>0</td>\n",
       "      <td>-0.5</td>\n",
       "      <td>-2.245353</td>\n",
       "    </tr>\n",
       "    <tr>\n",
       "      <th>2</th>\n",
       "      <td>0</td>\n",
       "      <td>1</td>\n",
       "      <td>0</td>\n",
       "      <td>0</td>\n",
       "      <td>0</td>\n",
       "      <td>0</td>\n",
       "      <td>0</td>\n",
       "      <td>0</td>\n",
       "      <td>0</td>\n",
       "      <td>0</td>\n",
       "      <td>...</td>\n",
       "      <td>0</td>\n",
       "      <td>0</td>\n",
       "      <td>0</td>\n",
       "      <td>-1</td>\n",
       "      <td>0</td>\n",
       "      <td>0</td>\n",
       "      <td>0</td>\n",
       "      <td>0</td>\n",
       "      <td>0.5</td>\n",
       "      <td>-0.745353</td>\n",
       "    </tr>\n",
       "    <tr>\n",
       "      <th>3</th>\n",
       "      <td>0</td>\n",
       "      <td>0</td>\n",
       "      <td>0</td>\n",
       "      <td>0</td>\n",
       "      <td>0</td>\n",
       "      <td>0</td>\n",
       "      <td>0</td>\n",
       "      <td>0</td>\n",
       "      <td>0</td>\n",
       "      <td>0</td>\n",
       "      <td>...</td>\n",
       "      <td>0</td>\n",
       "      <td>0</td>\n",
       "      <td>0</td>\n",
       "      <td>0</td>\n",
       "      <td>0</td>\n",
       "      <td>0</td>\n",
       "      <td>0</td>\n",
       "      <td>0</td>\n",
       "      <td>-0.5</td>\n",
       "      <td>0.254647</td>\n",
       "    </tr>\n",
       "    <tr>\n",
       "      <th>4</th>\n",
       "      <td>0</td>\n",
       "      <td>0</td>\n",
       "      <td>1</td>\n",
       "      <td>0</td>\n",
       "      <td>0</td>\n",
       "      <td>0</td>\n",
       "      <td>0</td>\n",
       "      <td>0</td>\n",
       "      <td>0</td>\n",
       "      <td>0</td>\n",
       "      <td>...</td>\n",
       "      <td>0</td>\n",
       "      <td>0</td>\n",
       "      <td>0</td>\n",
       "      <td>0</td>\n",
       "      <td>0</td>\n",
       "      <td>0</td>\n",
       "      <td>0</td>\n",
       "      <td>0</td>\n",
       "      <td>0.5</td>\n",
       "      <td>2.504647</td>\n",
       "    </tr>\n",
       "    <tr>\n",
       "      <th>...</th>\n",
       "      <td>...</td>\n",
       "      <td>...</td>\n",
       "      <td>...</td>\n",
       "      <td>...</td>\n",
       "      <td>...</td>\n",
       "      <td>...</td>\n",
       "      <td>...</td>\n",
       "      <td>...</td>\n",
       "      <td>...</td>\n",
       "      <td>...</td>\n",
       "      <td>...</td>\n",
       "      <td>...</td>\n",
       "      <td>...</td>\n",
       "      <td>...</td>\n",
       "      <td>...</td>\n",
       "      <td>...</td>\n",
       "      <td>...</td>\n",
       "      <td>...</td>\n",
       "      <td>...</td>\n",
       "      <td>...</td>\n",
       "      <td>...</td>\n",
       "    </tr>\n",
       "    <tr>\n",
       "      <th>533</th>\n",
       "      <td>0</td>\n",
       "      <td>0</td>\n",
       "      <td>0</td>\n",
       "      <td>0</td>\n",
       "      <td>0</td>\n",
       "      <td>0</td>\n",
       "      <td>0</td>\n",
       "      <td>0</td>\n",
       "      <td>0</td>\n",
       "      <td>0</td>\n",
       "      <td>...</td>\n",
       "      <td>0</td>\n",
       "      <td>0</td>\n",
       "      <td>0</td>\n",
       "      <td>0</td>\n",
       "      <td>0</td>\n",
       "      <td>0</td>\n",
       "      <td>0</td>\n",
       "      <td>0</td>\n",
       "      <td>-0.5</td>\n",
       "      <td>0.254647</td>\n",
       "    </tr>\n",
       "    <tr>\n",
       "      <th>534</th>\n",
       "      <td>0</td>\n",
       "      <td>0</td>\n",
       "      <td>0</td>\n",
       "      <td>0</td>\n",
       "      <td>0</td>\n",
       "      <td>0</td>\n",
       "      <td>0</td>\n",
       "      <td>0</td>\n",
       "      <td>0</td>\n",
       "      <td>0</td>\n",
       "      <td>...</td>\n",
       "      <td>0</td>\n",
       "      <td>0</td>\n",
       "      <td>0</td>\n",
       "      <td>0</td>\n",
       "      <td>0</td>\n",
       "      <td>0</td>\n",
       "      <td>0</td>\n",
       "      <td>0</td>\n",
       "      <td>0.5</td>\n",
       "      <td>4.254647</td>\n",
       "    </tr>\n",
       "    <tr>\n",
       "      <th>535</th>\n",
       "      <td>0</td>\n",
       "      <td>0</td>\n",
       "      <td>0</td>\n",
       "      <td>1</td>\n",
       "      <td>0</td>\n",
       "      <td>0</td>\n",
       "      <td>0</td>\n",
       "      <td>0</td>\n",
       "      <td>0</td>\n",
       "      <td>0</td>\n",
       "      <td>...</td>\n",
       "      <td>0</td>\n",
       "      <td>0</td>\n",
       "      <td>0</td>\n",
       "      <td>0</td>\n",
       "      <td>0</td>\n",
       "      <td>0</td>\n",
       "      <td>0</td>\n",
       "      <td>0</td>\n",
       "      <td>-0.5</td>\n",
       "      <td>1.254647</td>\n",
       "    </tr>\n",
       "    <tr>\n",
       "      <th>536</th>\n",
       "      <td>0</td>\n",
       "      <td>0</td>\n",
       "      <td>0</td>\n",
       "      <td>0</td>\n",
       "      <td>0</td>\n",
       "      <td>0</td>\n",
       "      <td>0</td>\n",
       "      <td>0</td>\n",
       "      <td>0</td>\n",
       "      <td>0</td>\n",
       "      <td>...</td>\n",
       "      <td>0</td>\n",
       "      <td>0</td>\n",
       "      <td>0</td>\n",
       "      <td>0</td>\n",
       "      <td>0</td>\n",
       "      <td>0</td>\n",
       "      <td>0</td>\n",
       "      <td>0</td>\n",
       "      <td>0.5</td>\n",
       "      <td>1.004647</td>\n",
       "    </tr>\n",
       "    <tr>\n",
       "      <th>537</th>\n",
       "      <td>0</td>\n",
       "      <td>0</td>\n",
       "      <td>0</td>\n",
       "      <td>0</td>\n",
       "      <td>0</td>\n",
       "      <td>0</td>\n",
       "      <td>0</td>\n",
       "      <td>0</td>\n",
       "      <td>0</td>\n",
       "      <td>0</td>\n",
       "      <td>...</td>\n",
       "      <td>0</td>\n",
       "      <td>0</td>\n",
       "      <td>0</td>\n",
       "      <td>0</td>\n",
       "      <td>0</td>\n",
       "      <td>-1</td>\n",
       "      <td>0</td>\n",
       "      <td>0</td>\n",
       "      <td>-0.5</td>\n",
       "      <td>4.004647</td>\n",
       "    </tr>\n",
       "  </tbody>\n",
       "</table>\n",
       "<p>538 rows × 66 columns</p>\n",
       "</div>"
      ],
      "text/plain": [
       "     ARI_Off  ATL_Off  BAL_Off  BUF_Off  CAR_Off  CHI_Off  CIN_Off  CLE_Off  \\\n",
       "0          0        0        0        0        0        0        0        0   \n",
       "1          0        0        0        0        0        0        0        0   \n",
       "2          0        1        0        0        0        0        0        0   \n",
       "3          0        0        0        0        0        0        0        0   \n",
       "4          0        0        1        0        0        0        0        0   \n",
       "..       ...      ...      ...      ...      ...      ...      ...      ...   \n",
       "533        0        0        0        0        0        0        0        0   \n",
       "534        0        0        0        0        0        0        0        0   \n",
       "535        0        0        0        1        0        0        0        0   \n",
       "536        0        0        0        0        0        0        0        0   \n",
       "537        0        0        0        0        0        0        0        0   \n",
       "\n",
       "     DAL_Off  DEN_Off  ...  NYJ_Def  PHI_Def  PIT_Def  SEA_Def  SF_Def  \\\n",
       "0          0        0  ...        0        0        0        0       0   \n",
       "1          0        0  ...        0        0        0        0       0   \n",
       "2          0        0  ...        0        0        0       -1       0   \n",
       "3          0        0  ...        0        0        0        0       0   \n",
       "4          0        0  ...        0        0        0        0       0   \n",
       "..       ...      ...  ...      ...      ...      ...      ...     ...   \n",
       "533        0        0  ...        0        0        0        0       0   \n",
       "534        0        0  ...        0        0        0        0       0   \n",
       "535        0        0  ...        0        0        0        0       0   \n",
       "536        0        0  ...        0        0        0        0       0   \n",
       "537        0        0  ...        0        0        0        0       0   \n",
       "\n",
       "     TB_Def  TEN_Def  WAS_Def  HFA     Score  \n",
       "0         0        0        0  0.5  6.754647  \n",
       "1         0        0        0 -0.5 -2.245353  \n",
       "2         0        0        0  0.5 -0.745353  \n",
       "3         0        0        0 -0.5  0.254647  \n",
       "4         0        0        0  0.5  2.504647  \n",
       "..      ...      ...      ...  ...       ...  \n",
       "533       0        0        0 -0.5  0.254647  \n",
       "534       0        0        0  0.5  4.254647  \n",
       "535       0        0        0 -0.5  1.254647  \n",
       "536       0        0        0  0.5  1.004647  \n",
       "537      -1        0        0 -0.5  4.004647  \n",
       "\n",
       "[538 rows x 66 columns]"
      ]
     },
     "execution_count": 13,
     "metadata": {},
     "output_type": "execute_result"
    }
   ],
   "source": [
    "df_scores"
   ]
  },
  {
   "cell_type": "code",
   "execution_count": null,
   "metadata": {
    "cell_id": "00012-b039ad69-7924-4f75-9ce3-677b18d3994a",
    "deepnote_cell_type": "code",
    "deepnote_to_be_reexecuted": false,
    "execution_millis": 32,
    "execution_start": 1626253515240,
    "source_hash": "eee5eb4a",
    "tags": []
   },
   "outputs": [],
   "source": [
    "reg = LinearRegression(fit_intercept=False).fit(df_scores.drop(\"Score\",axis=1),df_scores[\"Score\"])"
   ]
  },
  {
   "cell_type": "code",
   "execution_count": null,
   "metadata": {
    "cell_id": "00013-a50f91a9-6b48-4aec-9df6-95b23b5b25aa",
    "deepnote_cell_type": "code",
    "deepnote_to_be_reexecuted": false,
    "execution_millis": 9,
    "execution_start": 1626253515274,
    "source_hash": "c0bd65f9",
    "tags": []
   },
   "outputs": [
    {
     "data": {
      "text/plain": [
       "array([ 1.8409639 ,  0.29064674,  2.43196644,  1.77072011, -1.7338173 ,\n",
       "       -3.22283533, -4.3231456 ,  0.30832439, -0.9267051 , -4.21899336,\n",
       "       -0.36276684,  3.42116847,  0.37000281,  0.83959257, -3.56976607,\n",
       "        5.33971913, -0.92111242,  0.44509548,  0.97978478, -1.59593346,\n",
       "        0.65177657, -1.87507225,  2.25340119, -4.03805388, -5.98273467,\n",
       "       -2.19607076,  0.00715316,  3.43764045, -0.7802294 ,  2.74000327,\n",
       "        2.04652107, -4.20276103, -0.43828322, -1.49234367,  3.47943024,\n",
       "        1.32789538, -0.63758145,  1.47355442, -1.97023423,  0.52439237,\n",
       "       -1.63362054, -0.14729241, -2.31245893,  1.68722293, -1.34783538,\n",
       "        2.07976287, -3.43234507,  1.46143478,  0.88131085,  2.49258602,\n",
       "       -1.57249951,  0.34258961,  0.03714392,  2.21778702,  3.0190864 ,\n",
       "       -1.1462804 , -1.93463345,  0.35205932,  3.095651  ,  0.90950197,\n",
       "        0.98443805,  2.26434553,  0.17846817,  0.03226437,  1.12407582])"
      ]
     },
     "execution_count": 15,
     "metadata": {},
     "output_type": "execute_result"
    }
   ],
   "source": [
    "reg.coef_"
   ]
  },
  {
   "cell_type": "code",
   "execution_count": null,
   "metadata": {
    "cell_id": "00014-8f3e7dc1-e99b-4bf7-a3b2-e243e0f6429d",
    "deepnote_cell_type": "code",
    "deepnote_to_be_reexecuted": false,
    "execution_millis": 11,
    "execution_start": 1626253515286,
    "source_hash": "1e003600",
    "tags": []
   },
   "outputs": [
    {
     "data": {
      "text/plain": [
       "{'ARI_Off': 1.840963904550135,\n",
       " 'ATL_Off': 0.29064674300847915,\n",
       " 'BAL_Off': 2.4319664385095034,\n",
       " 'BUF_Off': 1.770720105256705,\n",
       " 'CAR_Off': -1.7338173030481774,\n",
       " 'CHI_Off': -3.2228353262872096,\n",
       " 'CIN_Off': -4.323145596878868,\n",
       " 'CLE_Off': 0.30832439413700374,\n",
       " 'DAL_Off': -0.926705096105485,\n",
       " 'DEN_Off': -4.218993360992924,\n",
       " 'DET_Off': -0.36276684252662195,\n",
       " 'GB_Off': 3.421168468824723,\n",
       " 'HOU_Off': 0.37000280506617556,\n",
       " 'IND_Off': 0.8395925742071148,\n",
       " 'JAX_Off': -3.5697660670775986,\n",
       " 'KC_Off': 5.339719127549936,\n",
       " 'LAC_Off': -0.9211124238980655,\n",
       " 'LAR_Off': 0.44509548377995434,\n",
       " 'LVR_Off': 0.979784780293365,\n",
       " 'MIA_Off': -1.5959334642163914,\n",
       " 'MIN_Off': 0.6517765686093955,\n",
       " 'NE_Off': -1.875072254983185,\n",
       " 'NO_Off': 2.2534011933489877,\n",
       " 'NYG_Off': -4.038053882145625,\n",
       " 'NYJ_Off': -5.982734672723364,\n",
       " 'PHI_Off': -2.196070760398654,\n",
       " 'PIT_Off': 0.007153164084682251,\n",
       " 'SEA_Off': 3.4376404507851124,\n",
       " 'SF_Off': -0.7802293981039303,\n",
       " 'TB_Off': 2.7400032661387934,\n",
       " 'TEN_Off': 2.046521065518864,\n",
       " 'WAS_Off': -4.202761030784263,\n",
       " 'ARI_Def': -0.43828322319575097,\n",
       " 'ATL_Def': -1.4923436739529872,\n",
       " 'BAL_Def': 3.479430237293042,\n",
       " 'BUF_Def': 1.3278953830179472,\n",
       " 'CAR_Def': -0.6375814482530124,\n",
       " 'CHI_Def': 1.4735544170149817,\n",
       " 'CIN_Def': -1.9702342330469271,\n",
       " 'CLE_Def': 0.5243923731045648,\n",
       " 'DAL_Def': -1.6336205397846753,\n",
       " 'DEN_Def': -0.1472924145064507,\n",
       " 'DET_Def': -2.3124589293223057,\n",
       " 'GB_Def': 1.6872229292139131,\n",
       " 'HOU_Def': -1.34783538475269,\n",
       " 'IND_Def': 2.079762865623982,\n",
       " 'JAX_Def': -3.432345073277295,\n",
       " 'KC_Def': 1.461434775792007,\n",
       " 'LAC_Def': 0.8813108500091897,\n",
       " 'LAR_Def': 2.4925860230438968,\n",
       " 'LVR_Def': -1.5724995109959554,\n",
       " 'MIA_Def': 0.3425896132955142,\n",
       " 'MIN_Def': 0.03714392434281055,\n",
       " 'NE_Def': 2.217787018862119,\n",
       " 'NO_Def': 3.0190864023777966,\n",
       " 'NYG_Def': -1.146280402265046,\n",
       " 'NYJ_Def': -1.934633446122331,\n",
       " 'PHI_Def': 0.3520593151617111,\n",
       " 'PIT_Def': 3.0956510015216,\n",
       " 'SEA_Def': 0.9095019722000375,\n",
       " 'SF_Def': 0.9844380526202876,\n",
       " 'TB_Def': 2.2643455317716814,\n",
       " 'TEN_Def': 0.17846816960516976,\n",
       " 'WAS_Def': 0.032264370104632345,\n",
       " 'HFA': 1.1240758196428815}"
      ]
     },
     "execution_count": 16,
     "metadata": {},
     "output_type": "execute_result"
    }
   ],
   "source": [
    "dict(zip(df_scores.columns,reg.coef_))"
   ]
  },
  {
   "cell_type": "code",
   "execution_count": null,
   "metadata": {
    "cell_id": "00006-0765924d-abb8-4a9a-8f82-f1168912a1f4",
    "deepnote_cell_type": "code",
    "deepnote_to_be_reexecuted": false,
    "execution_millis": 2817,
    "execution_start": 1626253625750,
    "source_hash": "688ea21d",
    "tags": []
   },
   "outputs": [],
   "source": [
    "for year in range(2016,2022):\n",
    "    df = make_csv(year)\n",
    "    df.to_csv(f\"schedule{year}.csv\",index=False)"
   ]
  },
  {
   "cell_type": "code",
   "execution_count": null,
   "metadata": {
    "cell_id": "00008-24ae2e46-215d-4f15-9221-ac492a71478e",
    "deepnote_cell_type": "code",
    "deepnote_to_be_reexecuted": false,
    "execution_millis": 7,
    "execution_start": 1625216683089,
    "source_hash": "16efabf4",
    "tags": []
   },
   "outputs": [],
   "source": [
    "df21.to_csv(\"schedule21.csv\",index=False)"
   ]
  },
  {
   "cell_type": "code",
   "execution_count": null,
   "metadata": {
    "cell_id": "00008-3b1ea1ec-d7d0-46e3-a3f7-90ceed02a599",
    "deepnote_cell_type": "code",
    "deepnote_to_be_reexecuted": false,
    "execution_millis": 4,
    "execution_start": 1625214551740,
    "source_hash": "176e5671",
    "tags": []
   },
   "outputs": [],
   "source": [
    "teams = sorted(list(set(df21[\"team_home\"])))"
   ]
  },
  {
   "cell_type": "code",
   "execution_count": null,
   "metadata": {
    "cell_id": "00009-9b1f9f4e-f57e-4e86-b820-53393f84949b",
    "deepnote_cell_type": "code",
    "deepnote_to_be_reexecuted": false,
    "execution_millis": 11,
    "execution_start": 1625214616049,
    "source_hash": "2943e5b9",
    "tags": []
   },
   "outputs": [],
   "source": [
    "pd.Series({t:to_div(t) for t in teams}).to_csv(\"divisions.csv\")"
   ]
  },
  {
   "cell_type": "code",
   "execution_count": null,
   "metadata": {
    "cell_id": "00010-875fa78b-b5ec-4392-bcc0-40c3dc09bcbe",
    "deepnote_cell_type": "code",
    "deepnote_to_be_reexecuted": false,
    "execution_millis": 804,
    "execution_start": 1625044237083,
    "source_hash": "3921be2b",
    "tags": []
   },
   "outputs": [
    {
     "name": "stdout",
     "output_type": "stream",
     "text": [
      "Connecting to wss://anvil.works/uplink\n",
      "Anvil websocket open\n",
      "Connected to \"Default environment (dev)\" as SERVER\n"
     ]
    }
   ],
   "source": [
    "import anvil.server\n",
    "\n",
    "anvil.server.connect(\"3KLT2ZIMIW24YNI7NGK7LDOI-OFIY2TEEA7UANSRQ\")"
   ]
  },
  {
   "cell_type": "code",
   "execution_count": null,
   "metadata": {
    "cell_id": "00011-97bba083-e70f-401d-8ff3-a3b1675073e9",
    "deepnote_cell_type": "code",
    "deepnote_to_be_reexecuted": false,
    "execution_millis": 3,
    "execution_start": 1625212256731,
    "source_hash": "1567ce80",
    "tags": []
   },
   "outputs": [],
   "source": [
    "tol = .0001\n",
    "\n",
    "\n",
    "\n",
    "def to_div(id):\n",
    "    return df_teams[\"team_division\"][df_teams[\"team_id\"] == id].dropna().iloc[0]\n",
    "\n",
    "def to_conf(id):\n",
    "    return to_div(id)[:3]\n",
    "\n",
    "def pr_spread(row):\n",
    "    return pr_dict[row[\"team_home\"]] - pr_dict[row[\"team_away\"]]+pr_dict['HFA']\n",
    "\n",
    "reverse_dict = {'Win':'Loss','Loss':'Win', 'Tie':'Tie'}\n",
    "\n",
    "def get_score(row):\n",
    "    total = row[\"pr_total\"] + 10*np.random.randn()\n",
    "    diff = row[\"pr_spread\"] + 14*np.random.randn()\n",
    "    ps = round(0.5*(total + diff))\n",
    "    pa = round(0.5*(total - diff))\n",
    "    # Artificially get rid of most ties.\n",
    "    if ps == pa:\n",
    "        x = np.random.randn()\n",
    "        if (x > -1.6) and (x < 0):\n",
    "            pa = pa+3\n",
    "        elif x >= 0:\n",
    "            ps = ps+3\n",
    "    return (ps, pa)\n",
    "\n",
    "def get_outcome(row):\n",
    "    s = row[\"Points_scored\"]\n",
    "    a = row[\"Points_allowed\"]\n",
    "    if s > a:\n",
    "        return \"Win\"\n",
    "    elif s < a:\n",
    "        return \"Loss\"\n",
    "    elif s == a:\n",
    "        return \"Tie\"\n",
    "\n",
    "def get_WLT(games):\n",
    "    s = games.Outcome.value_counts()\n",
    "    return (s.get(\"Win\",0) + 0.5*s.get(\"Tie\",0))/len(games)\n",
    "\n",
    "def get_strength(teams):\n",
    "    return get_WLT(df21_ind[df21_ind[\"Team\"].isin(teams)])\n",
    "\n",
    "def get_victories(team):\n",
    "    return set(df21_ind[\"Opponent\"][(df21_ind[\"Team\"] == team) & (df21_ind[\"Outcome\"] == \"Win\")])\n",
    "\n",
    "def get_opps(team):\n",
    "    return set(df21_ind[\"Opponent\"][df21_ind[\"Team\"] == team])\n",
    "\n",
    "def get_common(teams):\n",
    "    opps = []\n",
    "    for t in teams:\n",
    "        opps.append(get_opps(t))\n",
    "    return set.intersection(*opps)"
   ]
  },
  {
   "cell_type": "code",
   "execution_count": null,
   "metadata": {
    "cell_id": "00012-6786b062-065e-4999-915a-3cf358d58ee9",
    "deepnote_cell_type": "code",
    "deepnote_to_be_reexecuted": false,
    "execution_millis": 591110,
    "execution_start": 1625043530146,
    "source_hash": "555a3b8f",
    "tags": []
   },
   "outputs": [],
   "source": []
  },
  {
   "cell_type": "code",
   "execution_count": null,
   "metadata": {
    "cell_id": "00013-360dda9a-5010-4087-92c6-aa4ba8af2330",
    "deepnote_cell_type": "code",
    "deepnote_to_be_reexecuted": false,
    "execution_millis": 591131,
    "execution_start": 1625043530147,
    "source_hash": "681700d3",
    "tags": []
   },
   "outputs": [],
   "source": [
    "# Haven't thought about a length 4 dictionary.\n",
    "def analyze_dict(d):\n",
    "    tol = .0001\n",
    "    outs = sorted(d.values(),reverse=True)\n",
    "    if isclose(outs[0],outs[-1],abs_tol=tol):\n",
    "        return None\n",
    "    teams = [k for k in d.keys() if isclose(d[k],outs[0],abs_tol = tol)]\n",
    "    if len(teams) == 1:\n",
    "        return teams[0]\n",
    "    if to_div(teams[0]) == to_div(teams[1]):\n",
    "        return break_tie_div(teams)\n",
    "    else:\n",
    "        return break_tie_conf(teams)"
   ]
  },
  {
   "cell_type": "code",
   "execution_count": null,
   "metadata": {
    "cell_id": "00014-bc9fe9e2-b74a-4631-b889-7f9af3cde33f",
    "deepnote_cell_type": "code",
    "deepnote_to_be_reexecuted": false,
    "execution_millis": 591130,
    "execution_start": 1625043530147,
    "source_hash": "1efe95c0",
    "tags": []
   },
   "outputs": [],
   "source": [
    "break_tie_fns = {}"
   ]
  },
  {
   "cell_type": "code",
   "execution_count": null,
   "metadata": {
    "cell_id": "00015-8f33a3ff-e009-446c-92a9-75cc322f73e8",
    "deepnote_cell_type": "code",
    "deepnote_to_be_reexecuted": false,
    "execution_millis": 591113,
    "execution_start": 1625043530148,
    "source_hash": "f662f904",
    "tags": []
   },
   "outputs": [],
   "source": [
    "# Are there any numerical precision problems here?\n",
    "def fd21(teams):\n",
    "    wlt_dict = {teams[0]:get_WLT(df21_ind[(df21_ind[\"Team\"] == teams[0]) & (df21_ind[\"Opponent\"] == teams[1])])}\n",
    "    wlt_dict[teams[1]] = get_WLT(df21_ind[(df21_ind[\"Team\"] == teams[1]) & (df21_ind[\"Opponent\"] == teams[0])])\n",
    "    return analyze_dict(wlt_dict)\n",
    "\n",
    "break_tie_fns[(\"div\",2,1)] = fd21"
   ]
  },
  {
   "cell_type": "code",
   "execution_count": null,
   "metadata": {
    "cell_id": "00016-da013f7f-dd0d-4912-baed-947c734ec676",
    "deepnote_cell_type": "code",
    "deepnote_to_be_reexecuted": false,
    "execution_millis": 591110,
    "execution_start": 1625043530190,
    "source_hash": "66dd16c1",
    "tags": []
   },
   "outputs": [],
   "source": [
    "def fd22(teams):\n",
    "    div_dict = {t: get_WLT(df21_ind[(df21_ind.Team == t) & (df21_ind.in_div)]) for t in teams}\n",
    "    return analyze_dict(div_dict)\n",
    "\n",
    "break_tie_fns[(\"div\",2,2)] = fd22"
   ]
  },
  {
   "cell_type": "code",
   "execution_count": null,
   "metadata": {
    "cell_id": "00017-bcf7879c-d1b5-4a76-b833-8384bc790040",
    "deepnote_cell_type": "code",
    "deepnote_to_be_reexecuted": false,
    "execution_millis": 591145,
    "execution_start": 1625043530191,
    "source_hash": "e0d67aa1",
    "tags": []
   },
   "outputs": [],
   "source": [
    "def fd23(teams):\n",
    "    common = get_common(teams)\n",
    "    common_dict = {t: get_WLT(df21_ind[(df21_ind.Team == t) & (df21_ind.Opponent.isin(common))]) for t in teams}\n",
    "    return analyze_dict(common_dict)\n",
    "\n",
    "break_tie_fns[(\"div\",2,3)] = fd23"
   ]
  },
  {
   "cell_type": "code",
   "execution_count": null,
   "metadata": {
    "cell_id": "00018-f085c6b8-232d-4ca7-adcb-8c66467af282",
    "deepnote_cell_type": "code",
    "deepnote_to_be_reexecuted": false,
    "execution_millis": 591118,
    "execution_start": 1625043530192,
    "source_hash": "fae0fa61",
    "tags": []
   },
   "outputs": [],
   "source": [
    "def fd24(teams):\n",
    "    conf_dict = {t: get_WLT(df21_ind[(df21_ind.Team == t) & (df21_ind.in_conf)]) for t in teams}\n",
    "    return analyze_dict(conf_dict)\n",
    "\n",
    "break_tie_fns[(\"div\",2,4)] = fd24"
   ]
  },
  {
   "cell_type": "code",
   "execution_count": null,
   "metadata": {
    "cell_id": "00019-d9c0c48c-451c-4f8d-b9bf-bd8e29abb06a",
    "deepnote_cell_type": "code",
    "deepnote_to_be_reexecuted": false,
    "execution_millis": 591118,
    "execution_start": 1625043530193,
    "source_hash": "9022a962",
    "tags": []
   },
   "outputs": [],
   "source": [
    "def fd25(teams):\n",
    "    wlt_dict = {t: get_strength(get_victories(t)) for t in teams}\n",
    "    return analyze_dict(wlt_dict)\n",
    "\n",
    "break_tie_fns[(\"div\",2,5)] = fd25\n",
    "break_tie_fns[(\"div\",3,5)] = fd25"
   ]
  },
  {
   "cell_type": "code",
   "execution_count": null,
   "metadata": {
    "cell_id": "00020-ceb03982-9797-42c8-89ac-db981c9ff9e9",
    "deepnote_cell_type": "code",
    "deepnote_to_be_reexecuted": false,
    "execution_millis": 591118,
    "execution_start": 1625043530246,
    "source_hash": "7525317f",
    "tags": []
   },
   "outputs": [],
   "source": [
    "def fd26(teams):\n",
    "    wlt_dict = {t: get_strength(get_opps(t)) for t in teams}\n",
    "    return analyze_dict(wlt_dict)\n",
    "\n",
    "break_tie_fns[(\"div\",2,6)] = fd26\n",
    "break_tie_fns[(\"div\",3,6)] = fd26"
   ]
  },
  {
   "cell_type": "code",
   "execution_count": null,
   "metadata": {
    "cell_id": "00021-014d2a6a-c6db-4344-8b62-00dd9b6c2d44",
    "deepnote_cell_type": "code",
    "deepnote_to_be_reexecuted": false,
    "execution_millis": 591168,
    "execution_start": 1625043530247,
    "source_hash": "d8e6905b",
    "tags": []
   },
   "outputs": [],
   "source": [
    "# The negatives are because we want \"lower rank\" to correspond to higher numbers\n",
    "# Maybe would be better to have a reverse flag in the dictionary\n",
    "def fd27(teams):\n",
    "    conf = to_conf(teams[0])\n",
    "    ps = list(df_standings.query(\"Conference==@conf\").sort_values(\"Points scored\",ascending=False).index)\n",
    "    pa = list(df_standings.query(\"Conference==@conf\").sort_values(\"Points allowed\",ascending=True).index)\n",
    "    rank_dict = {t: -ps.index(t)-pa.index(t) for t in teams}\n",
    "    return analyze_dict(rank_dict)\n",
    "\n",
    "break_tie_fns[(\"div\",2,7)] = fd27\n",
    "break_tie_fns[(\"div\",3,7)] = fd27"
   ]
  },
  {
   "cell_type": "code",
   "execution_count": null,
   "metadata": {
    "cell_id": "00022-aa3e4320-f3a9-42c7-9b07-734e780d434d",
    "deepnote_cell_type": "code",
    "deepnote_to_be_reexecuted": false,
    "execution_millis": 591166,
    "execution_start": 1625043530247,
    "source_hash": "78eb0ae2",
    "tags": []
   },
   "outputs": [],
   "source": [
    "# The negatives are because we want \"lower rank\" to correspond to higher numbers\n",
    "def fd28(teams):\n",
    "    ps = list(df_standings.sort_values(\"Points scored\",ascending=False).index)\n",
    "    pa = list(df_standings.sort_values(\"Points allowed\",ascending=True).index)\n",
    "    rank_dict = {t: -ps.index(t)-pa.index(t) for t in teams}\n",
    "    return analyze_dict(rank_dict)\n",
    "\n",
    "break_tie_fns[(\"div\",2,8)] = fd28\n",
    "break_tie_fns[(\"div\",3,8)] = fd28"
   ]
  },
  {
   "cell_type": "code",
   "execution_count": null,
   "metadata": {
    "cell_id": "00023-df16166a-4891-4ef7-a605-2eb019d13600",
    "deepnote_cell_type": "code",
    "deepnote_to_be_reexecuted": false,
    "execution_millis": 1,
    "execution_start": 1625043530283,
    "source_hash": "c0ed8a67",
    "tags": []
   },
   "outputs": [],
   "source": [
    "def fd29(teams):\n",
    "    common = get_common(teams)\n",
    "    pt_dict = {}\n",
    "    for t in teams:\n",
    "        df_common = df21_ind[[\"Points_scored\",\"Points_allowed\"]][(df21_ind.Team == t) & (df21_ind.Opponent.isin(common))].sum()\n",
    "        pt_dict[t] = df_common[\"Points_scored\"]-df_common[\"Points_allowed\"]\n",
    "    return analyze_dict(pt_dict)\n",
    "\n",
    "break_tie_fns[(\"div\",2,9)] = fd29\n",
    "break_tie_fns[(\"div\",3,9)] = fd29"
   ]
  },
  {
   "cell_type": "code",
   "execution_count": null,
   "metadata": {
    "cell_id": "00024-e2e50166-578d-4d1b-9e32-b06c03e70d07",
    "deepnote_cell_type": "code",
    "deepnote_to_be_reexecuted": false,
    "execution_millis": 591178,
    "execution_start": 1625043530284,
    "source_hash": "a5d80e56",
    "tags": []
   },
   "outputs": [],
   "source": [
    "# Would it be better to use df_standings for this?\n",
    "def fd210(teams):\n",
    "    pt_dict = {}\n",
    "    for t in teams:\n",
    "        df_common = df21_ind[[\"Points_scored\",\"Points_allowed\"]][df21_ind.Team == t].sum()\n",
    "        pt_dict[t] = df_common[\"Points_scored\"]-df_common[\"Points_allowed\"]\n",
    "    return analyze_dict(pt_dict)\n",
    "\n",
    "break_tie_fns[(\"div\",2,10)] = fd210\n",
    "break_tie_fns[(\"div\",3,10)] = fd210"
   ]
  },
  {
   "cell_type": "code",
   "execution_count": null,
   "metadata": {
    "cell_id": "00025-a8647ee0-8b04-4bd5-b5c1-a1d1dcf8112a",
    "deepnote_cell_type": "code",
    "deepnote_to_be_reexecuted": false,
    "execution_millis": 591178,
    "execution_start": 1625043530285,
    "source_hash": "6cee6a9e",
    "tags": []
   },
   "outputs": [],
   "source": [
    "# How does the coin toss work for three teams?\n",
    "def fd212(teams):\n",
    "    return np.random.choice(teams)\n",
    "\n",
    "break_tie_fns[(\"div\",2,12)] = fd212\n",
    "break_tie_fns[(\"div\",3,12)] = fd212"
   ]
  },
  {
   "cell_type": "code",
   "execution_count": null,
   "metadata": {
    "cell_id": "00026-417a9965-0b4a-4378-a380-30da7ed1394a",
    "deepnote_cell_type": "code",
    "deepnote_to_be_reexecuted": false,
    "execution_millis": 591176,
    "execution_start": 1625043530288,
    "source_hash": "d843dc40",
    "tags": []
   },
   "outputs": [],
   "source": [
    "def fd31(teams):\n",
    "    df = df21_ind[df21_ind[\"Team\"].isin(teams) & df21_ind[\"Opponent\"].isin(teams)]\n",
    "    wlt_dict = {t: get_WLT(df[df.Team == t]) for t in teams}\n",
    "    return analyze_dict(wlt_dict)\n",
    "\n",
    "break_tie_fns[(\"div\",3,1)] = fd31"
   ]
  },
  {
   "cell_type": "code",
   "execution_count": null,
   "metadata": {
    "cell_id": "00027-6c852c51-f993-40c7-b598-10a7bca0e3c1",
    "deepnote_cell_type": "code",
    "deepnote_to_be_reexecuted": false,
    "execution_millis": 0,
    "execution_start": 1625043530333,
    "source_hash": "10cfaf09",
    "tags": []
   },
   "outputs": [],
   "source": [
    "def fd32(teams):\n",
    "    wlt_dict = {t: get_WLT(df21_ind[(df21_ind.Team == t) & (df21_ind.in_div)]) for t in teams}\n",
    "    return analyze_dict(wlt_dict)\n",
    "\n",
    "break_tie_fns[(\"div\",3,2)] = fd32"
   ]
  },
  {
   "cell_type": "code",
   "execution_count": null,
   "metadata": {
    "cell_id": "00028-192cfc46-e72e-4dc1-a34f-39534e1ad901",
    "deepnote_cell_type": "code",
    "deepnote_to_be_reexecuted": false,
    "execution_millis": 0,
    "execution_start": 1625043530334,
    "source_hash": "d672636e",
    "tags": []
   },
   "outputs": [],
   "source": [
    "def fd33(teams):\n",
    "    opps = []\n",
    "    for t in teams:\n",
    "        opps.append(get_opps(t))\n",
    "    common = set.intersection(*opps)\n",
    "    wlt_dict = {t: get_WLT(df21_ind[(df21_ind.Team == t) & (df21_ind.Opponent.isin(common))]) for t in teams}\n",
    "    return analyze_dict(wlt_dict)\n",
    "\n",
    "break_tie_fns[(\"div\",3,3)] = fd33"
   ]
  },
  {
   "cell_type": "code",
   "execution_count": null,
   "metadata": {
    "cell_id": "00029-c54640f8-4407-4cf1-8a88-8711e9cad3d8",
    "deepnote_cell_type": "code",
    "deepnote_to_be_reexecuted": false,
    "execution_millis": 0,
    "execution_start": 1625043530335,
    "source_hash": "522820de",
    "tags": []
   },
   "outputs": [],
   "source": [
    "def fd34(teams):\n",
    "    wlt_dict = {t: get_WLT(df21_ind[(df21_ind.Team == t) & (df21_ind.in_conf)]) for t in teams}\n",
    "    return analyze_dict(wlt_dict)\n",
    "\n",
    "break_tie_fns[(\"div\",3,4)] = fd34"
   ]
  },
  {
   "cell_type": "code",
   "execution_count": null,
   "metadata": {
    "cell_id": "00030-ff1668de-17bd-4746-83c5-7800b23504ab",
    "deepnote_cell_type": "code",
    "deepnote_to_be_reexecuted": false,
    "execution_millis": 4,
    "execution_start": 1625043530336,
    "source_hash": "9eb85146",
    "tags": []
   },
   "outputs": [],
   "source": [
    "def fc21(teams):\n",
    "    df_head = df21_ind[(df21_ind[\"Team\"] == teams[0]) & (df21_ind[\"Opponent\"] == teams[1])]\n",
    "    if len(df_head) == 0:\n",
    "        return None\n",
    "    wlt_dict = {teams[0]:get_WLT(df21_ind[(df21_ind[\"Team\"] == teams[0]) & (df21_ind[\"Opponent\"] == teams[1])])}\n",
    "    wlt_dict[teams[1]] = get_WLT(df21_ind[(df21_ind[\"Team\"] == teams[1]) & (df21_ind[\"Opponent\"] == teams[0])])\n",
    "    return analyze_dict(wlt_dict)\n",
    "\n",
    "break_tie_fns[(\"conf\",2,1)] = fc21"
   ]
  },
  {
   "cell_type": "code",
   "execution_count": null,
   "metadata": {
    "cell_id": "00031-d555acca-bf7c-4346-bf46-f9f96c314d02",
    "deepnote_cell_type": "code",
    "deepnote_to_be_reexecuted": false,
    "execution_millis": 11,
    "execution_start": 1625043530343,
    "source_hash": "b97a6c9e",
    "tags": []
   },
   "outputs": [],
   "source": [
    "def fc23(teams):\n",
    "    common = get_common(teams)\n",
    "    if len(common) < 4:\n",
    "        return None\n",
    "    common_dict = {t: get_WLT(df21_ind[(df21_ind.Team == t) & (df21_ind.Opponent.isin(common))]) for t in teams}\n",
    "    return analyze_dict(common_dict)\n",
    "\n",
    "break_tie_fns[(\"conf\",2,3)] = fc23"
   ]
  },
  {
   "cell_type": "code",
   "execution_count": null,
   "metadata": {
    "cell_id": "00032-8fd2312c-43a5-48eb-badd-f0918260be69",
    "deepnote_cell_type": "code",
    "deepnote_to_be_reexecuted": false,
    "execution_millis": 8,
    "execution_start": 1625043530357,
    "source_hash": "18378e33",
    "tags": []
   },
   "outputs": [],
   "source": [
    "def fc28(teams):\n",
    "    pt_dict = {}\n",
    "    for t in teams:\n",
    "        df_conf = df21_ind[[\"Points_scored\",\"Points_allowed\"]][(df21_ind.Team == t) & (df21_ind.in_conf)].sum()\n",
    "        pt_dict[t] = df_conf[\"Points_scored\"]-df_conf[\"Points_allowed\"]\n",
    "    return analyze_dict(pt_dict)\n",
    "\n",
    "break_tie_fns[(\"conf\",2,8)] = fc28"
   ]
  },
  {
   "cell_type": "code",
   "execution_count": null,
   "metadata": {
    "cell_id": "00033-86f6f7be-0983-4a09-ac34-9934444146d6",
    "deepnote_cell_type": "code",
    "deepnote_to_be_reexecuted": false,
    "execution_millis": 13,
    "execution_start": 1625043530370,
    "source_hash": "6259d4d3",
    "tags": []
   },
   "outputs": [],
   "source": [
    "break_tie_fns[(\"conf\",2,2)] = break_tie_fns[(\"div\",2,4)]\n",
    "break_tie_fns[(\"conf\",2,4)] = break_tie_fns[(\"div\",2,5)]\n",
    "break_tie_fns[(\"conf\",2,5)] = break_tie_fns[(\"div\",2,6)]\n",
    "break_tie_fns[(\"conf\",2,6)] = break_tie_fns[(\"div\",2,7)]\n",
    "break_tie_fns[(\"conf\",2,7)] = break_tie_fns[(\"div\",2,8)]\n",
    "break_tie_fns[(\"conf\",2,9)] = break_tie_fns[(\"div\",2,10)]\n",
    "break_tie_fns[(\"conf\",2,11)] = break_tie_fns[(\"div\",2,12)]"
   ]
  },
  {
   "cell_type": "code",
   "execution_count": null,
   "metadata": {
    "cell_id": "00034-1c26ffa5-5ebd-4abc-a6bc-9a743705af44",
    "deepnote_cell_type": "code",
    "deepnote_to_be_reexecuted": false,
    "execution_millis": 13,
    "execution_start": 1625043530385,
    "source_hash": "f575ca52",
    "tags": []
   },
   "outputs": [],
   "source": [
    "def find_sweep(teams):\n",
    "    for t in teams:\n",
    "        others = [x for x in teams if x != t]\n",
    "        outcomes = []\n",
    "        temp_df = df21_ind[(df21_ind[\"Team\"] == t) & (df21_ind[\"Opponent\"].isin(others))]\n",
    "        outcomes += list(temp_df[\"Outcome\"])\n",
    "        if len(outcomes) >= len(others): # make sure teams played\n",
    "            if set(outcomes) == {'Win'}:\n",
    "                return t\n",
    "            elif set(outcomes) == {'Loss'}:\n",
    "                return break_tie_conf(others)\n",
    "    return None"
   ]
  },
  {
   "cell_type": "code",
   "execution_count": null,
   "metadata": {
    "cell_id": "00035-ff0878a5-affe-4556-b4c6-ff14a318268f",
    "deepnote_cell_type": "code",
    "deepnote_to_be_reexecuted": false,
    "execution_millis": 10,
    "execution_start": 1625043530401,
    "source_hash": "956cba09",
    "tags": []
   },
   "outputs": [],
   "source": [
    "break_tie_fns[(\"conf\",3,2)] = find_sweep\n",
    "break_tie_fns[(\"conf\",3,3)] = break_tie_fns[(\"div\",3,4)]\n",
    "break_tie_fns[(\"conf\",3,4)] = break_tie_fns[(\"conf\",2,3)]\n",
    "break_tie_fns[(\"conf\",3,5)] = break_tie_fns[(\"div\",2,5)]\n",
    "break_tie_fns[(\"conf\",3,6)] = break_tie_fns[(\"div\",2,6)]\n",
    "break_tie_fns[(\"conf\",3,7)] = break_tie_fns[(\"div\",2,7)]\n",
    "break_tie_fns[(\"conf\",3,8)] = break_tie_fns[(\"div\",2,8)]\n",
    "break_tie_fns[(\"conf\",3,9)] = break_tie_fns[(\"conf\",2,8)]\n",
    "break_tie_fns[(\"conf\",3,10)] = break_tie_fns[(\"div\",2,10)]\n",
    "break_tie_fns[(\"conf\",3,12)] = break_tie_fns[(\"div\",2,12)]"
   ]
  },
  {
   "cell_type": "code",
   "execution_count": null,
   "metadata": {
    "cell_id": "00036-e399a27e-57c6-4c89-9222-0e6efae8b04e",
    "deepnote_cell_type": "code",
    "deepnote_to_be_reexecuted": false,
    "execution_millis": 11,
    "execution_start": 1625043530415,
    "source_hash": "acf4f095",
    "tags": []
   },
   "outputs": [],
   "source": [
    "def break_tie_div(teams):\n",
    "    scenario = 2 if len(teams) == 2 else 3\n",
    "    rules = sorted([c for (a,b,c) in break_tie_fns.keys() if a == 'div' and b == scenario])\n",
    "    for c in rules:\n",
    "        t = break_tie_fns[(\"div\",scenario,c)](teams)\n",
    "        if t is not None:\n",
    "            return t"
   ]
  },
  {
   "cell_type": "code",
   "execution_count": null,
   "metadata": {
    "cell_id": "00037-f66c2bc3-f7ae-464b-8280-367573995947",
    "deepnote_cell_type": "code",
    "deepnote_to_be_reexecuted": false,
    "execution_millis": 3,
    "execution_start": 1625043530432,
    "source_hash": "a55a0f31",
    "tags": []
   },
   "outputs": [],
   "source": [
    "def break_tie_conf(teams):\n",
    "    scenario = 2 if len(teams) == 2 else 3\n",
    "    rules = sorted([c for (a,b,c) in break_tie_fns.keys() if a == 'conf' and b == scenario])\n",
    "    for c in rules:\n",
    "        t = break_tie_fns[(\"conf\",scenario,c)](teams)\n",
    "        if t is not None:\n",
    "            return t"
   ]
  },
  {
   "cell_type": "code",
   "execution_count": null,
   "metadata": {
    "cell_id": "00038-cbbf15ae-2e6e-4b6e-8f58-35214674d5e2",
    "deepnote_cell_type": "code",
    "deepnote_to_be_reexecuted": false,
    "execution_millis": 591248,
    "execution_start": 1625043530479,
    "source_hash": "6eb72949",
    "tags": []
   },
   "outputs": [],
   "source": [
    "# Any numerical precision problems here?\n",
    "def get_div_winners():\n",
    "    winner_dict = {}\n",
    "    divs = sorted(list(set(df_standings.Division)))\n",
    "    for div in divs:\n",
    "        df = df_standings[df_standings[\"Division\"] == div].sort_values(\"WLT\",ascending=False).copy()\n",
    "        t = analyze_dict(dict(zip(df.index,df.WLT)))\n",
    "        if t is None:\n",
    "            t = break_tie_div(list(df.index))\n",
    "        winner_dict[div] = t\n",
    "    return winner_dict"
   ]
  },
  {
   "cell_type": "code",
   "execution_count": null,
   "metadata": {
    "cell_id": "00039-5a901dab-fff8-4559-972f-31ad664cb259",
    "deepnote_cell_type": "code",
    "deepnote_to_be_reexecuted": false,
    "execution_millis": 591246,
    "execution_start": 1625043530480,
    "source_hash": "6aaa43b2",
    "tags": []
   },
   "outputs": [],
   "source": [
    "def rank_div_winners():\n",
    "    dw = get_div_winners()\n",
    "    playoffs = {}\n",
    "    for conf in [\"AFC\",\"NFC\"]:\n",
    "        playoffs[conf] = []\n",
    "        teams = [dw[x] for x in dw.keys() if x[:3] == conf]\n",
    "        while len(playoffs[conf]) < 3:\n",
    "            df = df_standings[df_standings[\"Team\"].isin(teams)].sort_values(\"WLT\",ascending=False).copy()\n",
    "            t = analyze_dict(dict(df.loc[teams,\"WLT\"]))\n",
    "            if t is None:\n",
    "                t = break_tie_conf(teams)\n",
    "            playoffs[conf].append(t)\n",
    "            try:\n",
    "                teams.remove(t)\n",
    "            except:\n",
    "                pass\n",
    "        playoffs[conf].append(teams[0])\n",
    "    return playoffs"
   ]
  },
  {
   "cell_type": "code",
   "execution_count": null,
   "metadata": {
    "cell_id": "00040-5fd6237d-c907-4950-aeb8-d8970a1a6ff7",
    "deepnote_cell_type": "code",
    "deepnote_to_be_reexecuted": false,
    "execution_millis": 591235,
    "execution_start": 1625043530481,
    "source_hash": "a0c25507",
    "tags": []
   },
   "outputs": [],
   "source": [
    "# If I understand correctly, this should not include the division winner.\n",
    "# Any numerical precision problems here?\n",
    "def rank_within_divs():\n",
    "    dw = get_div_winners()\n",
    "    dr = {}\n",
    "    for div in dw.keys():\n",
    "        dr[div] = []\n",
    "        df = df_standings[(df_standings[\"Division\"] == div) & ~(df_standings[\"Team\"] == dw[div])].sort_values(\"WLT\",ascending=False).copy()\n",
    "        teams = list(df.index)\n",
    "        while len(dr[div]) < 2:\n",
    "            t = analyze_dict(dict(df.loc[teams,\"WLT\"]))\n",
    "            if t is None:\n",
    "                t = break_tie_div(teams)\n",
    "            dr[div].append(t)\n",
    "            teams.remove(t)\n",
    "        dr[div].append(teams[0])\n",
    "    return dr"
   ]
  },
  {
   "cell_type": "code",
   "execution_count": null,
   "metadata": {
    "cell_id": "00041-98e8e05e-e59b-40ac-a098-6af911131b1f",
    "deepnote_cell_type": "code",
    "deepnote_to_be_reexecuted": false,
    "execution_millis": 406,
    "execution_start": 1625043586419,
    "source_hash": "7117edde",
    "tags": []
   },
   "outputs": [],
   "source": [
    "df = pd.read_csv(\"spreadspoke_scores.csv\")\n",
    "df_teams = pd.read_csv(\"nfl_teams.csv\")\n",
    "df21 = df.query('schedule_season==2021').copy()\n",
    "series_pr = pd.read_csv(\"power_ratings.csv\",index_col=0,squeeze=True)\n",
    "pr_dict = series_pr.to_dict()\n",
    "df21[[\"team_home\",\"team_away\"]] = df21[[\"team_home\",\"team_away\"]].applymap(to_id)\n",
    "teams = set(df21[\"team_home\"])\n",
    "df21[\"pr_spread\"] = df21[[\"team_home\",\"team_away\"]].apply(pr_spread,axis=1)"
   ]
  },
  {
   "cell_type": "code",
   "execution_count": null,
   "metadata": {
    "cell_id": "00042-377c7f51-a35d-481c-9466-8c5cdc71790a",
    "deepnote_cell_type": "code",
    "deepnote_to_be_reexecuted": false,
    "execution_millis": 713,
    "execution_start": 1625043787268,
    "source_hash": "4ca8283b",
    "tags": []
   },
   "outputs": [],
   "source": [
    "df = pd.read_csv(\"spreadspoke_scores.csv\")\n",
    "df_teams = pd.read_csv(\"nfl_teams.csv\")\n",
    "df21 = df.query('schedule_season==2021').copy()\n",
    "series_pr = pd.read_csv(\"power_ratings.csv\",index_col=0,squeeze=True)\n",
    "pr_dict = series_pr.to_dict()\n",
    "df21[[\"team_home\",\"team_away\"]] = df21[[\"team_home\",\"team_away\"]].applymap(to_id)\n",
    "teams = set(df21[\"team_home\"])\n",
    "df21[\"pr_spread\"] = df21[[\"team_home\",\"team_away\"]].apply(pr_spread,axis=1)\n",
    "df21[\"div_home\"] = df21[\"team_home\"].map(to_div)\n",
    "df21[\"div_away\"] = df21[\"team_away\"].map(to_div)\n",
    "df21[\"in_div\"] = (df21[\"div_home\"] == df21[\"div_away\"])\n",
    "df21[\"in_conf\"] = (df21[\"div_home\"].map(lambda s: s[:3]) == df21[\"div_away\"].map(lambda s: s[:3]))\n",
    "df_standings = pd.DataFrame(index=sorted(teams,key=to_div),columns=[\"Team\",\"Wins\",\"Losses\",\"Ties\",\"Points_scored\",\"Points_allowed\",\"WLT\",\"Division\",\"Conference\"])\n",
    "df_standings.Team = df_standings.index\n",
    "df_standings.Division = df_standings.index.map(to_div)\n",
    "df_standings.Conference = df_standings.index.map(to_conf)\n",
    "spreads = df21[\"pr_spread\"].to_numpy()\n",
    "df21_ind = pd.DataFrame(index=range(2*len(df21)),columns=[\"Team\",\"Opponent\",\"Points_scored\",\"Points_allowed\",\"Outcome\",\"in_div\",\"in_conf\",\"pr_spread\",\"pr_total\"])"
   ]
  },
  {
   "cell_type": "code",
   "execution_count": null,
   "metadata": {
    "cell_id": "00043-db839bc2-fe97-40fb-9ed8-81469d7d9bd9",
    "deepnote_cell_type": "code",
    "deepnote_to_be_reexecuted": false,
    "execution_millis": 31,
    "execution_start": 1625044297535,
    "source_hash": "5fab1e12",
    "tags": []
   },
   "outputs": [],
   "source": [
    "@anvil.server.callable\n",
    "def simulate_season(reps):\n",
    "    assert reps < 5000\n",
    "    df21_ind.loc[::2,\"pr_spread\"] = spreads\n",
    "    df21_ind.loc[1::2,\"pr_spread\"] = -spreads\n",
    "    df21_ind[\"pr_total\"] = 40\n",
    "    cols = list(df21_ind.columns)\n",
    "    inds = [cols.index(\"Team\"),cols.index(\"Opponent\"),cols.index(\"in_div\"),cols.index(\"in_conf\")]\n",
    "    df21_ind.iloc[::2,inds] = df21[[\"team_home\",\"team_away\",\"in_div\",\"in_conf\"]]\n",
    "    df21_ind.iloc[1::2,inds] = df21[[\"team_away\",\"team_home\",\"in_div\",\"in_conf\"]]\n",
    "    playoff_dict = {t:0 for t in sorted(teams)}\n",
    "    for i in range(reps):\n",
    "        scores = df21_ind.loc[::2].apply(get_score,axis=1).to_list()\n",
    "        df21_ind.loc[::2,[\"Points_scored\",\"Points_allowed\"]] = scores\n",
    "        df21_ind.loc[1::2,[\"Points_allowed\",\"Points_scored\"]] = scores\n",
    "        df21_ind.Outcome = df21_ind.apply(get_outcome,axis=1)\n",
    "\n",
    "        for a,b in df21_ind.groupby(\"Team\"):\n",
    "            res = b.Outcome.value_counts()\n",
    "            df_standings.loc[a,[\"Wins\",\"Losses\",\"Ties\",\"Points_scored\",\"Points_allowed\"]] = [res.get(\"Win\",0), res.get(\"Loss\",0), res.get(\"Tie\",0),\n",
    "                b[\"Points_scored\"].sum(),b[\"Points_allowed\"].sum()]\n",
    "        df_standings[\"WLT\"] = (df_standings[\"Wins\"]+0.5*df_standings[\"Ties\"])/(df_standings[\"Wins\"]+df_standings[\"Ties\"]+df_standings[\"Losses\"])\n",
    "\n",
    "        dw = get_div_winners()\n",
    "        dw_ranked = rank_div_winners()\n",
    "        dr = rank_within_divs()\n",
    "        wild_cards = {}\n",
    "        for conf in [\"AFC\",\"NFC\"]:\n",
    "            wild_cards[conf] = []\n",
    "            while len(wild_cards[conf]) < 3:\n",
    "                top_teams = [dr[x][0] for x in dr.keys() if x[:3] == conf]\n",
    "                t = analyze_dict(dict(df_standings.loc[top_teams,\"WLT\"]))\n",
    "                if t is None:\n",
    "                    t = break_tie_conf(top_teams)\n",
    "                wild_cards[conf].append(t)\n",
    "                try:\n",
    "                    dr[to_div(t)].remove(t)\n",
    "                except:\n",
    "                    pass\n",
    "        playoffs = {conf:dw_ranked[conf] + wild_cards[conf] for conf in [\"AFC\",\"NFC\"]}\n",
    "        for v in playoffs.values():\n",
    "            for x in v:\n",
    "                playoff_dict[x] += 1\n",
    "    return {k:round(v/reps,3) for k,v in playoff_dict.items()}"
   ]
  },
  {
   "cell_type": "code",
   "execution_count": null,
   "metadata": {
    "cell_id": "00044-ef7b2dae-e701-4679-b1c8-c590cbc2227c",
    "deepnote_cell_type": "code",
    "deepnote_to_be_reexecuted": false,
    "execution_millis": 0,
    "execution_start": 1625042940242,
    "source_hash": "b623e53d",
    "tags": []
   },
   "outputs": [],
   "source": []
  },
  {
   "cell_type": "markdown",
   "metadata": {
    "created_in_deepnote_cell": true,
    "deepnote_cell_type": "markdown",
    "tags": []
   },
   "source": [
    "<a style='text-decoration:none;line-height:16px;display:flex;color:#5B5B62;padding:10px;justify-content:end;' href='https://deepnote.com?utm_source=created-in-deepnote-cell&projectId=4e29a536-2b96-4262-b9ab-1b6b84eac060' target=\"_blank\">\n",
    "<img alt='Created in deepnote.com' style='display:inline;max-height:16px;margin:0px;margin-right:7.5px;' src='data:image/svg+xml;base64,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' > </img>\n",
    "Created in <span style='font-weight:600;margin-left:4px;'>Deepnote</span></a>"
   ]
  }
 ],
 "metadata": {
  "deepnote": {
   "is_reactive": false
  },
  "deepnote_execution_queue": [],
  "deepnote_notebook_id": "e0d096e4-cfd7-4d6d-bcc8-5591b878f0d1",
  "kernelspec": {
   "display_name": "Python 3 (ipykernel)",
   "language": "python",
   "name": "python3"
  },
  "language_info": {
   "codemirror_mode": {
    "name": "ipython",
    "version": 3
   },
   "file_extension": ".py",
   "mimetype": "text/x-python",
   "name": "python",
   "nbconvert_exporter": "python",
   "pygments_lexer": "ipython3",
   "version": "3.8.10"
  }
 },
 "nbformat": 4,
 "nbformat_minor": 2
}
